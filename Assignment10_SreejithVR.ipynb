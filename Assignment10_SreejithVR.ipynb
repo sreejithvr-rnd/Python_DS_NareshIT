{
 "cells": [
  {
   "cell_type": "code",
   "execution_count": null,
   "id": "e8e58cfb-cc2f-4847-83ee-47201ecd94eb",
   "metadata": {},
   "outputs": [],
   "source": [
    "#Q1) WAP ask the user count how many 'a' are present in a given string\n",
    "# str1='hai naresh how are you'\n",
    "# Idea: counter wrapper\n",
    "# step-1: count=0\n",
    "# step-2: using for loop in operator iterate through  given string\n",
    "# step-3: apply the if condition, whenever the letter equal to 'a'\n",
    "# step-4: count=count+1\n"
   ]
  },
  {
   "cell_type": "code",
   "execution_count": 9,
   "id": "9d625409-ecc4-4ecf-9033-69818aecafaa",
   "metadata": {},
   "outputs": [
    {
     "name": "stdout",
     "output_type": "stream",
     "text": [
      "String 'hai naresh how are you' has 3 a's\n"
     ]
    }
   ],
   "source": [
    "def count_letter():\n",
    "    string = 'hai naresh how are you'\n",
    "    count = 0\n",
    "    for i in string:\n",
    "        if i == 'a':\n",
    "            count = count + 1\n",
    "    print(f\"String '{string}' has {count} a's\")\n",
    "\n",
    "count_letter()"
   ]
  },
  {
   "cell_type": "code",
   "execution_count": null,
   "id": "41ccc250-a8e5-4c82-b4f7-b311126f5da1",
   "metadata": {},
   "outputs": [],
   "source": [
    "# Q2) WAP ask the find how many vowels are there in a given string\n",
    "# str1='hai naresh how are you'\n",
    "# ans=9"
   ]
  },
  {
   "cell_type": "code",
   "execution_count": 13,
   "id": "3b5075c7-d8d1-4b34-8beb-1c9bc88c2829",
   "metadata": {},
   "outputs": [
    {
     "name": "stdout",
     "output_type": "stream",
     "text": [
      "String \"hai naresh how are you\" has 9 vowels\n"
     ]
    }
   ],
   "source": [
    "def find_vowels():\n",
    "    string = 'hai naresh how are you'\n",
    "    count = 0\n",
    "    for i in string:\n",
    "        if i in 'aeiou':\n",
    "            count += 1\n",
    "    print(f'String \"{string}\" has {count} vowels')\n",
    "\n",
    "find_vowels()"
   ]
  },
  {
   "cell_type": "code",
   "execution_count": null,
   "id": "1ad814f4-c078-4026-95e1-de8b55ea977b",
   "metadata": {},
   "outputs": [],
   "source": [
    "# Q3) Home work qn\n",
    "# str1='hai naresh how are you'\n",
    "# Repetaed vowels are there\n",
    "# We dont want repetaed vowels\n",
    "# Count the vowels avoid the repeatition: Unique vowels"
   ]
  },
  {
   "cell_type": "code",
   "execution_count": 21,
   "id": "e58cb722-0d5f-465e-8e77-41486ea5df31",
   "metadata": {},
   "outputs": [
    {
     "name": "stdout",
     "output_type": "stream",
     "text": [
      "String \"hai naresh how are you\" has 6 unique vowels\n"
     ]
    }
   ],
   "source": [
    "def find_unique_vowels():\n",
    "    string = 'hai naresh how are you'\n",
    "    count = 0\n",
    "    space = ' '\n",
    "    letter = ''\n",
    "    for i in string:\n",
    "        if i not in 'aeiou' and space not in i:\n",
    "            if i not in letter:\n",
    "                letter = letter + i\n",
    "                count += 1\n",
    "    print(f'String \"{string}\" has {count} unique vowels')\n",
    "\n",
    "find_unique_vowels()"
   ]
  },
  {
   "cell_type": "code",
   "execution_count": null,
   "id": "ab3332c4-5c79-4da3-9926-04005d0af497",
   "metadata": {},
   "outputs": [],
   "source": [
    "# Q4) print each letter using for loop range"
   ]
  },
  {
   "cell_type": "code",
   "execution_count": 31,
   "id": "0be42038-9904-4128-b356-98bf78b6639c",
   "metadata": {},
   "outputs": [
    {
     "name": "stdout",
     "output_type": "stream",
     "text": [
      "h, a, i,  , n, a, r, e, s, h,  , h, o, w,  , a, r, e,  , y, o, u, "
     ]
    }
   ],
   "source": [
    "def print_each_letters():\n",
    "    string = 'hai naresh how are you'\n",
    "    length = len(string)\n",
    "    for i in range(length):\n",
    "        print(string[i], end=\", \")\n",
    "print_each_letters()"
   ]
  },
  {
   "cell_type": "code",
   "execution_count": null,
   "id": "fadf1c7e-c2f6-49bc-9133-753d7ae1a0d7",
   "metadata": {},
   "outputs": [],
   "source": [
    "# Q5) wap ask the user iterate using a string\n",
    "# string='welcome'\n",
    "# print the postive index of w is 0\n",
    "#       the positive index of e is 1\n",
    "#       the positive index of l is 1"
   ]
  },
  {
   "cell_type": "code",
   "execution_count": 35,
   "id": "21b06659-4784-43e6-b97f-f9775bf3353a",
   "metadata": {},
   "outputs": [
    {
     "name": "stdout",
     "output_type": "stream",
     "text": [
      "The postive index of w is 0\n",
      "The postive index of e is 1\n",
      "The postive index of l is 2\n",
      "The postive index of c is 3\n",
      "The postive index of o is 4\n",
      "The postive index of m is 5\n",
      "The postive index of e is 6\n"
     ]
    }
   ],
   "source": [
    "def itreate_string_positve():\n",
    "    string ='welcome'\n",
    "    for i in range(len(string)):\n",
    "        print(f\"The postive index of {string[i]} is {i}\")\n",
    "itreate_string_positve()"
   ]
  },
  {
   "cell_type": "code",
   "execution_count": null,
   "id": "b7d0d3af-4ecd-40e1-8470-2b829877fe08",
   "metadata": {},
   "outputs": [],
   "source": [
    "# Q6) wap ask the user iterate using a string\n",
    "# string='welcome'\n",
    "# print the negative index of w is -7\n",
    "#       the negative index of e is -6\n",
    "#       the negative index of l is -5\n",
    "# the positive index is 0 and the negtaive index -7 for w"
   ]
  },
  {
   "cell_type": "code",
   "execution_count": 55,
   "id": "3942968e-3d9e-4c02-9818-b50034e6ff24",
   "metadata": {},
   "outputs": [
    {
     "name": "stdout",
     "output_type": "stream",
     "text": [
      "The negtive index of -7 is w\n",
      "The negtive index of -6 is e\n",
      "The negtive index of -5 is l\n",
      "The negtive index of -4 is c\n",
      "The negtive index of -3 is o\n",
      "The negtive index of -2 is m\n",
      "The negtive index of -1 is e\n"
     ]
    }
   ],
   "source": [
    "def itreate_string_negative():\n",
    "    string ='welcome'\n",
    "    for i in range(len(string)):\n",
    "        print(f\"The negtive index of {i-len(string)} is {string[i]}\")\n",
    "itreate_string_negative()"
   ]
  },
  {
   "cell_type": "code",
   "execution_count": null,
   "id": "9d9c61cc-0d5c-4933-a330-7b962e43e9e8",
   "metadata": {},
   "outputs": [],
   "source": [
    "# Q7) wap ask the user iterate using a string\n",
    "# string='welcome'\n",
    "# # the positive index is 0 and the negtaive index -7 for w"
   ]
  },
  {
   "cell_type": "code",
   "execution_count": 60,
   "id": "f6332226-6432-47bb-9593-d4199fa3d98a",
   "metadata": {},
   "outputs": [
    {
     "name": "stdout",
     "output_type": "stream",
     "text": [
      "The positive index is 0 and the negtaive index -7 for w\n",
      "The positive index is 1 and the negtaive index -6 for e\n",
      "The positive index is 2 and the negtaive index -5 for l\n",
      "The positive index is 3 and the negtaive index -4 for c\n",
      "The positive index is 4 and the negtaive index -3 for o\n",
      "The positive index is 5 and the negtaive index -2 for m\n",
      "The positive index is 6 and the negtaive index -1 for e\n"
     ]
    }
   ],
   "source": [
    "def itreate_string_both_direction():\n",
    "    string ='welcome'\n",
    "    for i in range(len(string)):\n",
    "        print(f\"The positive index is {i} and the negtaive index {i-len(string)} for {string[i]}\")\n",
    "itreate_string_both_direction()"
   ]
  },
  {
   "cell_type": "code",
   "execution_count": null,
   "id": "b0c1adcf-3848-4ade-b373-e352890b320a",
   "metadata": {},
   "outputs": [],
   "source": [
    "#Q8) wap ask the user get the index of each 'a' in a given string\n",
    "# s='hai how are you i am good'\n",
    "# a=1  8  18"
   ]
  },
  {
   "cell_type": "code",
   "execution_count": 68,
   "id": "3b49a8d5-9105-4437-ab88-bbeebc6ac2bc",
   "metadata": {},
   "outputs": [
    {
     "name": "stdout",
     "output_type": "stream",
     "text": [
      "1, 8, 18, "
     ]
    }
   ],
   "source": [
    "def get_index_of_a():\n",
    "    string ='hai how are you i am good'\n",
    "    for i in range(len(string)):\n",
    "        if string[i] == 'a':\n",
    "            print(i, end=', ')\n",
    "get_index_of_a()"
   ]
  },
  {
   "cell_type": "code",
   "execution_count": null,
   "id": "f4370e8e-288c-40a8-be0f-af9e14319071",
   "metadata": {},
   "outputs": [],
   "source": [
    "#Q9) wap ask the user to get count of number of 'a' in a given string\n",
    "#     using for-range\n"
   ]
  },
  {
   "cell_type": "code",
   "execution_count": 74,
   "id": "3342abf6-4a02-4837-97b8-53c8dd69d671",
   "metadata": {},
   "outputs": [
    {
     "name": "stdout",
     "output_type": "stream",
     "text": [
      "count of a is 3\n"
     ]
    }
   ],
   "source": [
    "def get_count_of_a():\n",
    "    string ='hai how are you i am good'\n",
    "    count = 0\n",
    "    for i in range(len(string)):\n",
    "        if string[i] == 'a':\n",
    "            count += 1\n",
    "    print(f\"count of a is {count}\")\n",
    "get_count_of_a()"
   ]
  },
  {
   "cell_type": "code",
   "execution_count": null,
   "id": "08b2147d-666b-4d83-9ff9-d2127a2d6229",
   "metadata": {},
   "outputs": [],
   "source": [
    "#Q10) wap ask the user get the sum of all index numbers of 'a'\n",
    "# 1+8+18= 27"
   ]
  },
  {
   "cell_type": "code",
   "execution_count": 80,
   "id": "b96047b5-a452-47fb-b6aa-4b36664546b4",
   "metadata": {},
   "outputs": [
    {
     "name": "stdout",
     "output_type": "stream",
     "text": [
      "Sum of all index of letter a is 27\n"
     ]
    }
   ],
   "source": [
    "def get_index_sum_of_a():\n",
    "    string ='hai how are you i am good'\n",
    "    sum = 0\n",
    "    for i in range(len(string)):\n",
    "        if string[i] == 'a':\n",
    "            sum = sum + i\n",
    "    print(f\"Sum of all index of letter a is {sum}\")\n",
    "get_index_sum_of_a()"
   ]
  },
  {
   "cell_type": "code",
   "execution_count": null,
   "id": "a2aa77a7-cde8-4dac-a548-95e69d11054a",
   "metadata": {},
   "outputs": [],
   "source": [
    "#Q11) wap ask the user get the vowels from a given string using for-range"
   ]
  },
  {
   "cell_type": "code",
   "execution_count": 92,
   "id": "cd4ac361-be46-4c9b-bb68-80bae17e3ba3",
   "metadata": {},
   "outputs": [
    {
     "name": "stdout",
     "output_type": "stream",
     "text": [
      "The number of vowels are: 11\n"
     ]
    }
   ],
   "source": [
    "def get_vowels():\n",
    "    string ='hai how are you i am good'\n",
    "    count = 0\n",
    "    for i in range(len(string)):\n",
    "        if string[i] in 'aeiou':\n",
    "            count = count+1\n",
    "    print(\"The number of vowels are:\",count)\n",
    "get_vowels()"
   ]
  },
  {
   "cell_type": "code",
   "execution_count": null,
   "id": "e5ce95fc-d716-4594-8c90-4a961563da5b",
   "metadata": {},
   "outputs": [],
   "source": [
    "#Q12) wap ask the user get the vowels from a given string using for-range"
   ]
  },
  {
   "cell_type": "code",
   "execution_count": 107,
   "id": "239f59a1-5eab-4f93-9498-4a29c450264a",
   "metadata": {},
   "outputs": [
    {
     "name": "stdout",
     "output_type": "stream",
     "text": [
      "The number of vowels are: 4\n"
     ]
    }
   ],
   "source": [
    "def get_vowels1():\n",
    "    string ='hi how re you i m good'\n",
    "    s1=''\n",
    "    count = 0\n",
    "    for i in range(len(string)):\n",
    "        if string[i] not in s1: \n",
    "            if string[i] in 'aeiou': \n",
    "                s1 = s1 + string[i] \n",
    "                count = count + 1\n",
    "    print(\"The number of vowels are:\",count)\n",
    "get_vowels1()"
   ]
  },
  {
   "cell_type": "code",
   "execution_count": null,
   "id": "d46648ef-55b0-49d2-92a1-a19808293fab",
   "metadata": {},
   "outputs": [],
   "source": [
    "#Q13)updated wap ask the user get the vowels from a given string using for-range"
   ]
  },
  {
   "cell_type": "code",
   "execution_count": 111,
   "id": "1e446038-11cc-4264-9e0b-8ccb619361d8",
   "metadata": {},
   "outputs": [
    {
     "name": "stdout",
     "output_type": "stream",
     "text": [
      "The number of vowels are: 4\n"
     ]
    }
   ],
   "source": [
    "def get_vowels2():\n",
    "    string ='hi how re you i m good'\n",
    "    s1=''\n",
    "    count = 0\n",
    "    for i in range(len(string)):\n",
    "        if string[i] not in s1 and string[i] in 'aeiou':\n",
    "            s1 = s1 + string[i]\n",
    "            count = count + 1\n",
    "    print(\"The number of vowels are:\",count)\n",
    "get_vowels2()"
   ]
  },
  {
   "cell_type": "code",
   "execution_count": null,
   "id": "67c143b0-9c97-45d1-b1bd-5a1e6b2c03e3",
   "metadata": {},
   "outputs": [],
   "source": []
  }
 ],
 "metadata": {
  "kernelspec": {
   "display_name": "Python 3 (ipykernel)",
   "language": "python",
   "name": "python3"
  },
  "language_info": {
   "codemirror_mode": {
    "name": "ipython",
    "version": 3
   },
   "file_extension": ".py",
   "mimetype": "text/x-python",
   "name": "python",
   "nbconvert_exporter": "python",
   "pygments_lexer": "ipython3",
   "version": "3.11.7"
  }
 },
 "nbformat": 4,
 "nbformat_minor": 5
}
