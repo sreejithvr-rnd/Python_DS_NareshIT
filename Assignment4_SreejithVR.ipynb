{
 "cells": [
  {
   "cell_type": "code",
   "execution_count": null,
   "id": "2052af73-c766-4468-bc6c-706b71c0cf0d",
   "metadata": {},
   "outputs": [],
   "source": [
    "# wap ask the user enter a number\n",
    "# find it is a even number or odd number\n",
    "# idea: any number divide by 2 , the remiander=0\n",
    "# it is called as even number\n",
    "# Implement the above problem by taking a random input  between  1, 100"
   ]
  },
  {
   "cell_type": "code",
   "execution_count": 5,
   "id": "7855da41-2e19-447f-8b2f-729cb88909c5",
   "metadata": {},
   "outputs": [
    {
     "name": "stdout",
     "output_type": "stream",
     "text": [
      "36 is even number.\n"
     ]
    }
   ],
   "source": [
    "import random\n",
    "number = random.randint(1,100)\n",
    "if number%2 == 0:\n",
    "    print(f\"{number} is even number.\")\n",
    "else:\n",
    "    print(f\"{number} is odd number.\")"
   ]
  },
  {
   "cell_type": "code",
   "execution_count": null,
   "id": "49737ede-d0d2-4a0d-834f-3e2649666e95",
   "metadata": {},
   "outputs": [],
   "source": [
    "# wap ask the user enter the distance\n",
    "# if distance greater than 25km\n",
    "#      then enter the charge\n",
    "#      print the total cost\n",
    "#otherwise\n",
    "#      print free ride"
   ]
  },
  {
   "cell_type": "code",
   "execution_count": 13,
   "id": "7ea207ac-3ff3-4155-b4b3-501f6f8bd22f",
   "metadata": {},
   "outputs": [
    {
     "name": "stdin",
     "output_type": "stream",
     "text": [
      "Enter the distance: 26\n",
      "Enter the charge: 5\n"
     ]
    },
    {
     "name": "stdout",
     "output_type": "stream",
     "text": [
      "Total Cost: 130\n"
     ]
    }
   ],
   "source": [
    "distance = eval(input(\"Enter the distance:\"))\n",
    "if distance > 25:\n",
    "    charge = eval(input(\"Enter the charge:\"))\n",
    "    cost = distance * charge\n",
    "    print(f\"Total Cost: {cost}\")\n",
    "else:\n",
    "    print(\"Free Ride\")"
   ]
  },
  {
   "cell_type": "code",
   "execution_count": null,
   "id": "71716645-919a-4da3-b9cb-f00692227f83",
   "metadata": {},
   "outputs": [],
   "source": [
    "# wap ask the user enter the distance\n",
    "# cutoff distance enter 25\n",
    "# if distance greater than 25km\n",
    "#      print(\"good news your charge is aplicable for only remaining of 25\")\n",
    "#      chargeble distance= distance-cutoff\n",
    "#      then enter the charge\n",
    "#      print the total cost\n",
    "#otherwise\n",
    "#      print free ride"
   ]
  },
  {
   "cell_type": "code",
   "execution_count": 123,
   "id": "cb5ffe0a-4e74-44ba-aee8-844cd0f8dc0d",
   "metadata": {},
   "outputs": [
    {
     "name": "stdin",
     "output_type": "stream",
     "text": [
      "Enter the distance: 50\n"
     ]
    },
    {
     "name": "stdout",
     "output_type": "stream",
     "text": [
      "Good news your charge is applicable for only remaining of 25 km\n"
     ]
    },
    {
     "name": "stdin",
     "output_type": "stream",
     "text": [
      "Enter the Charge: 1\n"
     ]
    },
    {
     "name": "stdout",
     "output_type": "stream",
     "text": [
      "Total Cost is 25\n"
     ]
    }
   ],
   "source": [
    "distance = eval(input(\"Enter the distance:\"))\n",
    "cut_off = 25\n",
    "if distance > cut_off:\n",
    "    print(f\"Good news your charge is applicable for only remaining of {cut_off} km\")\n",
    "    chargable_distance = distance - cut_off\n",
    "    charge = eval(input(\"Enter the Charge:\"))\n",
    "    total_cost = chargable_distance * charge\n",
    "    print(f\"Total Cost is {total_cost}\")\n",
    "else:\n",
    "    print(\"Free Ride\")"
   ]
  },
  {
   "cell_type": "code",
   "execution_count": null,
   "id": "cc66e2f1-d0b4-4410-835d-db9d774dc6bf",
   "metadata": {},
   "outputs": [],
   "source": [
    "# wap ask the user enter the course\n",
    "# ask the user enter the Institute\n",
    "# if the course equal to data science and institute equal to naresh it\n",
    "#     then you are good\n",
    "# otherwise\n",
    "#     you are bad"
   ]
  },
  {
   "cell_type": "code",
   "execution_count": 25,
   "id": "631e89e4-23a6-4a7f-9842-c24dc1fdfd86",
   "metadata": {},
   "outputs": [
    {
     "name": "stdin",
     "output_type": "stream",
     "text": [
      "Enter your course: Data Science\n",
      "Enter your institute: Naresh IT\n"
     ]
    },
    {
     "name": "stdout",
     "output_type": "stream",
     "text": [
      "You are Good!\n"
     ]
    }
   ],
   "source": [
    "course = input(\"Enter your course:\")\n",
    "institute = input(\"Enter your institute:\")\n",
    "if course.lower() == \"data science\" and institute.lower() == \"naresh it\":\n",
    "    print(\"You are Good!\")\n",
    "else:\n",
    "    print(\"You are Bad!\")"
   ]
  },
  {
   "cell_type": "code",
   "execution_count": 27,
   "id": "89f07bfb-d7ce-4b31-9704-51d3b16d5934",
   "metadata": {},
   "outputs": [],
   "source": [
    "# wap ask the user enter a random number between 1 to 10, treat this as number1\n",
    "# ask the user enter another number from keyboard, treat this as number2\n",
    "# if number1 equal to number2\n",
    "#     print you won\n",
    "# otherwise\n",
    "#     print you lost"
   ]
  },
  {
   "cell_type": "code",
   "execution_count": 77,
   "id": "8fff1441-5824-442b-ac21-dd04d5fce157",
   "metadata": {},
   "outputs": [
    {
     "name": "stdin",
     "output_type": "stream",
     "text": [
      "Enter the number: 2\n"
     ]
    },
    {
     "name": "stdout",
     "output_type": "stream",
     "text": [
      "You Won!\n"
     ]
    }
   ],
   "source": [
    "number1 = random.randint(1,10)\n",
    "number2 = eval(input(\"Enter the number:\"))\n",
    "if number1 == number2:\n",
    "  print(\"You Won!\")\n",
    "else:\n",
    "   print(\"You Lost!\")"
   ]
  },
  {
   "cell_type": "code",
   "execution_count": null,
   "id": "de8e4208-82bc-499b-9f0b-f56b8b9c0eb1",
   "metadata": {},
   "outputs": [],
   "source": [
    "# wap ask the user enter number\n",
    "# if number equal to 1 then print one\n",
    "# if number equal to 2 then print two\n",
    "# if number equal to 3 then print three\n",
    "# otherwise  print enter a valid number"
   ]
  },
  {
   "cell_type": "code",
   "execution_count": 81,
   "id": "01241367-c657-4f0d-ac99-c3abf5ae9df4",
   "metadata": {},
   "outputs": [
    {
     "name": "stdin",
     "output_type": "stream",
     "text": [
      "Enter the nubmer: 2\n"
     ]
    },
    {
     "name": "stdout",
     "output_type": "stream",
     "text": [
      "Two\n"
     ]
    }
   ],
   "source": [
    "number = eval(input(\"Enter the nubmer:\"))\n",
    "if number == 1: print(\"One\")\n",
    "elif number == 2: print(\"Two\")\n",
    "elif number == 3: print(\"Three\")\n",
    "else: print(\"Enter a valid number\")"
   ]
  },
  {
   "cell_type": "code",
   "execution_count": null,
   "id": "dcb0d51a-a2ad-48e4-aefd-dcd7bd7e3e26",
   "metadata": {},
   "outputs": [],
   "source": [
    "# wap ask the user enter a number\n",
    "# if that number greater than zero print postive\n",
    "# if that number less than zero print negative\n",
    "# otherwise print zero"
   ]
  },
  {
   "cell_type": "code",
   "execution_count": 87,
   "id": "9eb2a562-3117-4f89-b858-5ca302d6c659",
   "metadata": {},
   "outputs": [
    {
     "name": "stdin",
     "output_type": "stream",
     "text": [
      "Enter the nubmer: 0\n"
     ]
    },
    {
     "name": "stdout",
     "output_type": "stream",
     "text": [
      "Zero\n"
     ]
    }
   ],
   "source": [
    "number = eval(input(\"Enter the nubmer:\"))\n",
    "if number > 0: print(\"Positive\")\n",
    "elif number < 0: print(\"Negative\")\n",
    "else: print(\"Zero\")"
   ]
  },
  {
   "cell_type": "code",
   "execution_count": null,
   "id": "b4b2a603-7a39-473d-8d3a-c46073e47e7f",
   "metadata": {},
   "outputs": [],
   "source": [
    "# WAP ask the user enter the percentage of marks 0 to 100\n",
    "# if percentagw gretaer than 90  print A garde\n",
    "# if percentage between 75 to 90 print B garde\n",
    "# if percentage between 50 to 75 print C grade\n",
    "# if percentage between 35 to 50 print D grade\n",
    "# if percentage less than 35 print Fail"
   ]
  },
  {
   "cell_type": "code",
   "execution_count": 97,
   "id": "efd25221-c330-4f41-bbfe-39027caabd36",
   "metadata": {},
   "outputs": [
    {
     "name": "stdin",
     "output_type": "stream",
     "text": [
      "Enter the % of mark: 74\n"
     ]
    },
    {
     "name": "stdout",
     "output_type": "stream",
     "text": [
      "C Grade\n"
     ]
    }
   ],
   "source": [
    "percentage  = eval(input(\"Enter the % of mark:\"))\n",
    "if percentage >= 90: print(\"A Grade\")\n",
    "elif percentage >= 75: print(\"B Grade\")\n",
    "elif percentage >= 50: print(\"C Grade\")\n",
    "elif percentage >= 35: print(\"D Grade\")\n",
    "else: print(\"Failed\")"
   ]
  },
  {
   "cell_type": "code",
   "execution_count": null,
   "id": "1e91054f-807a-4d15-a577-bd22c2ff83b5",
   "metadata": {},
   "outputs": [],
   "source": [
    "# WAP ask the user enter the age\n",
    "# if the age greater tahn 100 print you are lucky\n",
    "# if the age gretaer than 75 print old age\n",
    "# if the age  between 50 to 75 print ss\n",
    "# if the age between  30 tp 50 print MA\n",
    "# if the age between  15 to 30 print young age\n",
    "# if the afe between less than 15 print kid"
   ]
  },
  {
   "cell_type": "code",
   "execution_count": 115,
   "id": "e4fb412b-bace-4a44-a1c1-8f33c9b5a8f8",
   "metadata": {},
   "outputs": [
    {
     "name": "stdin",
     "output_type": "stream",
     "text": [
      "Enter the age: 102\n"
     ]
    },
    {
     "name": "stdout",
     "output_type": "stream",
     "text": [
      "You are Lucky\n"
     ]
    }
   ],
   "source": [
    "age  = eval(input(\"Enter the age:\"))\n",
    "if age > 100: print(\"You are Lucky\")\n",
    "elif age >= 75: print(\"Old age\")\n",
    "elif age >= 50: print(\"Senior Citizen\")\n",
    "elif age >= 30: print(\"Middle age\")\n",
    "elif age >= 15: print(\"Young age\")\n",
    "else: print(\"Kid\")"
   ]
  },
  {
   "cell_type": "code",
   "execution_count": null,
   "id": "bb8364d4-cd1b-4a09-b34e-d603aaee0db2",
   "metadata": {},
   "outputs": [],
   "source": []
  }
 ],
 "metadata": {
  "kernelspec": {
   "display_name": "Python 3 (ipykernel)",
   "language": "python",
   "name": "python3"
  },
  "language_info": {
   "codemirror_mode": {
    "name": "ipython",
    "version": 3
   },
   "file_extension": ".py",
   "mimetype": "text/x-python",
   "name": "python",
   "nbconvert_exporter": "python",
   "pygments_lexer": "ipython3",
   "version": "3.11.7"
  }
 },
 "nbformat": 4,
 "nbformat_minor": 5
}
