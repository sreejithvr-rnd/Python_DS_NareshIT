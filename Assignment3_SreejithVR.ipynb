{
 "cells": [
  {
   "cell_type": "markdown",
   "id": "997c0632-b57b-49fd-a24b-aa722c41470a",
   "metadata": {},
   "source": [
    "*1. Ramesh’s basic salary is input through the keyboard. His dearness allowance is 40% of basic salary, and house rent allowance is 20% of basic salary. Write a program to calculate his gross salary.*"
   ]
  },
  {
   "cell_type": "code",
   "execution_count": 14,
   "id": "4a8c9087-f2c8-46f0-9b43-daf5cebc426d",
   "metadata": {},
   "outputs": [
    {
     "name": "stdin",
     "output_type": "stream",
     "text": [
      "Enter Ramehs's basic salary: 1000\n"
     ]
    },
    {
     "name": "stdout",
     "output_type": "stream",
     "text": [
      "Basic Salary: 1000\n",
      "Dearness Allowance (40% of basic): 400.0\n",
      "House Rent Allowance (20% basic): 200.0\n",
      "Gross Salary: 1600.0\n"
     ]
    }
   ],
   "source": [
    "basic_salary = eval(input(\"Enter Ramehs's basic salary:\"))\n",
    "dearness_allowance  = basic_salary * 0.4\n",
    "house_rent_allowance = basic_salary * 0.2\n",
    "gross_salary = basic_salary + dearness_allowance  + house_rent_allowance\n",
    "print(f\"Basic Salary: {basic_salary}\")\n",
    "print(f\"Dearness Allowance (40% of basic): {dearness_allowance }\")\n",
    "print(f\"House Rent Allowance (20% basic): {house_rent_allowance}\")\n",
    "print(f\"Gross Salary: {gross_salary}\")"
   ]
  },
  {
   "cell_type": "markdown",
   "id": "27a08cb8-8700-42ce-8f43-af150048cb58",
   "metadata": {},
   "source": [
    "*2. The distance between two cities (in km.) is input through the keyboard. Write a program to convert and \n",
    "print this distance in meters, feet, inches and centimeters*."
   ]
  },
  {
   "cell_type": "code",
   "execution_count": 35,
   "id": "6ef74f99-1798-40a2-b9a8-034b852c1642",
   "metadata": {},
   "outputs": [
    {
     "name": "stdin",
     "output_type": "stream",
     "text": [
      "Enter the distance in KM: 1\n"
     ]
    },
    {
     "name": "stdout",
     "output_type": "stream",
     "text": [
      "1 km is equal to 1000 meters\n",
      "1 km is equal to 3280.84 Feets\n",
      "1 km is equal to 39370.1 Inches\n",
      "1 km is equal to 100000 Centemeters\n"
     ]
    }
   ],
   "source": [
    "distance_in_km = eval(input(\"Enter the distance in KM:\"))\n",
    "#print(f\"Distance in Kilometers {distance_in_km}\")\n",
    "distance_in_meter = distance_in_km * 1000\n",
    "distance_in_feet = distance_in_km * 3280.84\n",
    "distance_in_inch = distance_in_km * 39370.1\n",
    "distance_in_centemeter = distance_in_km * 100000\n",
    "print(f\"{distance_in_km} km is equal to {distance_in_meter} meters\")\n",
    "print(f\"{distance_in_km} km is equal to {distance_in_feet} Feets\")\n",
    "print(f\"{distance_in_km} km is equal to {distance_in_inch} Inches\")\n",
    "print(f\"{distance_in_km} km is equal to {distance_in_centemeter} Centemeters\")"
   ]
  },
  {
   "cell_type": "markdown",
   "id": "eb345184-6983-4291-b293-20a491dacb93",
   "metadata": {},
   "source": [
    "*3. If the marks obtained by a student in five different subjects are input through the keyboard, find out the aggregate marks and percentage marks obtained by the student. Assume that the maximum marks that can be obtained by a student in each subject is 100.*"
   ]
  },
  {
   "cell_type": "code",
   "execution_count": 42,
   "id": "4faeb965-a0e9-4e82-92a9-93c7fe851293",
   "metadata": {},
   "outputs": [
    {
     "name": "stdin",
     "output_type": "stream",
     "text": [
      "Mark of English is: 50\n",
      "Mark of Hindi is: 60\n",
      "Mark of Maths is: 40\n",
      "Mark of Chemistry is: 30\n",
      "Mark of Physics is: 70\n"
     ]
    },
    {
     "name": "stdout",
     "output_type": "stream",
     "text": [
      "Total Mark is: 250 out of 500\n",
      "In percentage: 50.0%\n"
     ]
    }
   ],
   "source": [
    "subject_1 = eval(input(\"Mark of English is:\"))\n",
    "subject_2 = eval(input(\"Mark of Hindi is:\"))\n",
    "subject_3 = eval(input(\"Mark of Maths is:\"))\n",
    "subject_4 = eval(input(\"Mark of Chemistry is:\"))\n",
    "subject_5 = eval(input(\"Mark of Physics is:\"))\n",
    "total  = subject_1 + subject_2 + subject_3 + subject_4 + subject_5\n",
    "percent = (total/500) * 100\n",
    "print(f\"Total Mark is: {total} out of 500\")\n",
    "print(f\"In percentage: {percent}%\")\n"
   ]
  },
  {
   "cell_type": "markdown",
   "id": "abb0aca0-606f-49c3-909d-c4603520a86d",
   "metadata": {},
   "source": [
    "*4. Temperature of a city in Fahrenheit degrees is input through the keyboard. Write a program to convert this temperature into Centigrade degrees.*"
   ]
  },
  {
   "cell_type": "code",
   "execution_count": 55,
   "id": "0fb37c13-c7f0-4afd-9fcd-841b0dd7c783",
   "metadata": {},
   "outputs": [
    {
     "name": "stdin",
     "output_type": "stream",
     "text": [
      "Enter the temperature in fahrenheit: 4\n"
     ]
    },
    {
     "name": "stdout",
     "output_type": "stream",
     "text": [
      "4°F is equal to -15.56°C\n"
     ]
    }
   ],
   "source": [
    "fahrenheit = eval(input(\"Enter the temperature in fahrenheit:\"))\n",
    "centigrade = (fahrenheit - 32) * (5/9)\n",
    "print(f\"{fahrenheit}°F is equal to {round(centigrade,2)}°C\")\n"
   ]
  },
  {
   "cell_type": "markdown",
   "id": "4bfcfa24-4be9-4853-a566-46688dc19908",
   "metadata": {},
   "source": [
    "*5. The length & breadth of a rectangle and radius of a circle are input through the keyboard. Write a program to calculate the area & perimeter of the rectangle, and the area & circumference of the circle.*"
   ]
  },
  {
   "cell_type": "code",
   "execution_count": 64,
   "id": "0bf60c14-144d-485e-b518-49a11da7558d",
   "metadata": {},
   "outputs": [
    {
     "name": "stdin",
     "output_type": "stream",
     "text": [
      "Length is: 5\n",
      "Breadth is: 6\n",
      "Radius is: 4\n"
     ]
    },
    {
     "name": "stdout",
     "output_type": "stream",
     "text": [
      "Area of Rectangle is: 30\n",
      "Perimeter of Rectangle is: 22\n",
      "Area of Circle is: 50.24\n",
      "Circumference of Circle is: 25.12\n"
     ]
    }
   ],
   "source": [
    "length = eval(input(\"Length is:\"))\n",
    "breadth = eval(input(\"Breadth is:\"))\n",
    "radius = eval(input(\"Radius is:\"))\n",
    "# Rectangle\n",
    "rectangle_area = length * breadth\n",
    "perimeter = 2 * (length + breadth)\n",
    "# Circle\n",
    "circle_area = 3.14 * (radius ** 2)\n",
    "circumference = 2 * 3.14 * radius\n",
    "print(f\"Area of Rectangle is: {rectangle_area}\")\n",
    "print(f\"Perimeter of Rectangle is: {perimeter}\")\n",
    "print(f\"Area of Circle is: {circle_area}\")\n",
    "print(f\"Circumference of Circle is: {circumference}\")"
   ]
  },
  {
   "cell_type": "markdown",
   "id": "19c4d3a7-4925-4d23-9ee6-03fa1dff7705",
   "metadata": {},
   "source": [
    "*6. Two numbers are input through the keyboard into two locations C and D. Write a program to interchange \n",
    "the contents of C and D.*"
   ]
  },
  {
   "cell_type": "code",
   "execution_count": 67,
   "id": "9d55033c-5327-4273-a233-661af36b75ef",
   "metadata": {},
   "outputs": [
    {
     "name": "stdin",
     "output_type": "stream",
     "text": [
      "Enter the value of C: 4\n",
      "Enter the value of D: 5\n"
     ]
    },
    {
     "name": "stdout",
     "output_type": "stream",
     "text": [
      "Old value of C is 4 and D is 5\n",
      "Interchanged value of C is 5 and D is 4\n"
     ]
    }
   ],
   "source": [
    "c = eval(input(\"Enter the value of C:\"))\n",
    "d = eval(input(\"Enter the value of D:\"))\n",
    "print(f\"Old value of C is {c} and D is {d}\")\n",
    "c, d = d, c\n",
    "print(f\"Interchanged value of C is {c} and D is {d}\")"
   ]
  },
  {
   "cell_type": "markdown",
   "id": "681e34c0-0ada-403b-8b1a-3cc2fbadbc34",
   "metadata": {},
   "source": [
    "*7. If a five-digit number is input through the keyboard, write a program to reverse the number.*"
   ]
  },
  {
   "cell_type": "code",
   "execution_count": 85,
   "id": "044f85ec-c3d3-4f2d-be03-1fa1a0e2ca71",
   "metadata": {},
   "outputs": [
    {
     "name": "stdin",
     "output_type": "stream",
     "text": [
      "Enter 5 digit number: 12345\n"
     ]
    },
    {
     "name": "stdout",
     "output_type": "stream",
     "text": [
      "Reversed number: 54321\n"
     ]
    }
   ],
   "source": [
    "digit = eval(input(\"Enter 5 digit number:\"))\n",
    "if len(str(digit)) != 5:\n",
    "    print(\"Please enter 5 digit number\")\n",
    "else:\n",
    "    digit_reverse = str(digit)[::-1]\n",
    "    print(f\"Reversed number: {digit_reverse}\")"
   ]
  },
  {
   "cell_type": "markdown",
   "id": "7c8505be-a398-4884-9a45-769217ea6eb2",
   "metadata": {},
   "source": [
    "*8. If a four-digit number is input through the keyboard, write a program to obtain the sum of the first and last \n",
    "digit of this number.*"
   ]
  },
  {
   "cell_type": "code",
   "execution_count": 93,
   "id": "806c32b9-3646-4017-a312-26721aac9112",
   "metadata": {},
   "outputs": [
    {
     "name": "stdin",
     "output_type": "stream",
     "text": [
      "Enter 4 digit number: 1234\n"
     ]
    },
    {
     "name": "stdout",
     "output_type": "stream",
     "text": [
      "Sum of the first digit 1 and last digit 4 is: 5\n"
     ]
    }
   ],
   "source": [
    "digit = eval(input(\"Enter 4 digit number:\"))\n",
    "if len(str(digit)) != 4:\n",
    "    print(\"Please enter 4 digit number\")\n",
    "else:\n",
    "    first_digit = str(digit)[0]\n",
    "    last_digit = str(digit)[-1]\n",
    "    sum = int(first_digit) + int(last_digit)\n",
    "    print(f\"Sum of the first digit {first_digit} and last digit {last_digit} is: {sum}\")"
   ]
  },
  {
   "cell_type": "markdown",
   "id": "d88468de-986e-41a2-a6f9-f3733f35c5d6",
   "metadata": {},
   "source": [
    "*9. In a town, the percentage of men is 52. The percentage of total literacy is 48. If total percentage of literate\n",
    "men is 35 of the total population, write a program to find the total number of illiterate men and women if\n",
    "the population of the town is 80,000.*"
   ]
  },
  {
   "cell_type": "code",
   "execution_count": 105,
   "id": "2473b3e8-a45a-4b1f-8ee9-1357a518bdde",
   "metadata": {},
   "outputs": [
    {
     "name": "stdout",
     "output_type": "stream",
     "text": [
      "Total number of illiterate men is: 13600.0\n",
      "Total number of illiterate Women is: 28000.0\n",
      "Total illiterate population is: 41600.0\n"
     ]
    }
   ],
   "source": [
    "total_men  = 80000 * 0.52\n",
    "total_women = 80000 -  total_men\n",
    "total_literacy = 80000 * 0.48\n",
    "total_literate_men = 80000 * 0.35\n",
    "total_literate_women = total_literacy - total_literate_men\n",
    "total_illiterate_men = total_men - total_literate_men\n",
    "total_illiterate_women = total_women - total_literate_women\n",
    "total_illiteracy = total_illiterate_men + total_illiterate_women\n",
    "print(f\"Total number of illiterate men is: {total_illiterate_men}\")\n",
    "print(f\"Total number of illiterate Women is: {total_illiterate_women}\")\n",
    "print(f\"Total illiterate population is: {total_illiteracy}\")"
   ]
  },
  {
   "cell_type": "markdown",
   "id": "dab44958-3c2d-441f-b069-53415e5c9406",
   "metadata": {},
   "source": [
    "*10. A cashier has currency notes of denominations 10, 50 and 100. If the amount to be withdrawn is input through the keyboard in hundreds, find the total number of currency notes of each denomination the cashier will have to give to the withdrawer.*"
   ]
  },
  {
   "cell_type": "code",
   "execution_count": 154,
   "id": "07cc091e-5f7b-4a7a-af48-62f271c515fa",
   "metadata": {},
   "outputs": [
    {
     "name": "stdin",
     "output_type": "stream",
     "text": [
      "Enter the amount to withdrawn in hundreds: 680\n"
     ]
    },
    {
     "name": "stdout",
     "output_type": "stream",
     "text": [
      "Number of 100s is 6 : 6 x 100 = 600\n",
      "Number of 50s is 1 : 1 x 50 = 50\n",
      "Number of 10s is 3 : 3 x 10 = 30\n",
      "Total = 600 + 50 + 30 = 680\n"
     ]
    }
   ],
   "source": [
    "withdrawn_amount = eval(input(\"Enter the amount to withdrawn in hundreds:\"))\n",
    "if withdrawn_amount < 100:\n",
    "    print(\"Please enter the amount more than 100\")\n",
    "elif withdrawn_amount%10:\n",
    "    print(\"Please enter the amount in multiples of 10\")\n",
    "else:\n",
    "    number_of_100 = withdrawn_amount // 100\n",
    "    number_of_50 = (withdrawn_amount % 100) // 50\n",
    "    number_of_10 = ((withdrawn_amount % 100) % 50) // 10\n",
    "    total_100 = number_of_100 * 100 \n",
    "    total_50 = number_of_50 * 50\n",
    "    total_10 = number_of_10 * 10\n",
    "    print(f\"Number of 100s is {number_of_100} : {number_of_100} x 100 = {total_100}\" )\n",
    "    print(f\"Number of 50s is {number_of_50} : {number_of_50} x 50 = {total_50}\" )\n",
    "    print(f\"Number of 10s is {number_of_10} : {number_of_10} x 10 = {total_10}\" )\n",
    "    print(f\"Total = {total_100} + {total_50} + {total_10} = {total_100+total_50+total_10}\" )"
   ]
  },
  {
   "cell_type": "code",
   "execution_count": null,
   "id": "ebda722d-4ab7-48fc-80c9-eb58c58a048d",
   "metadata": {},
   "outputs": [],
   "source": []
  }
 ],
 "metadata": {
  "kernelspec": {
   "display_name": "Python 3 (ipykernel)",
   "language": "python",
   "name": "python3"
  },
  "language_info": {
   "codemirror_mode": {
    "name": "ipython",
    "version": 3
   },
   "file_extension": ".py",
   "mimetype": "text/x-python",
   "name": "python",
   "nbconvert_exporter": "python",
   "pygments_lexer": "ipython3",
   "version": "3.11.7"
  }
 },
 "nbformat": 4,
 "nbformat_minor": 5
}
