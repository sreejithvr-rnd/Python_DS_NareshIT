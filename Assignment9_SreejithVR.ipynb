{
 "cells": [
  {
   "cell_type": "markdown",
   "id": "46be001c-12ef-4a92-a7e6-6ca037e2e612",
   "metadata": {},
   "source": [
    "*1. Write a program that asks the user to enter a length in centimetres. If the user enters\n",
    "a negative length, the program should tell the user that the entry is invalid. Otherwise,\n",
    "the program should convert the length to inches and print out the result. There are\n",
    "2.54 centimetres in an inch.*"
   ]
  },
  {
   "cell_type": "code",
   "execution_count": 301,
   "id": "7737f92a-4344-4d53-a14c-5c4118a561b4",
   "metadata": {},
   "outputs": [
    {
     "name": "stdin",
     "output_type": "stream",
     "text": [
      "Enter the values in cm: 5\n"
     ]
    },
    {
     "name": "stdout",
     "output_type": "stream",
     "text": [
      "5 cm is equal to 12.7 inch\n"
     ]
    }
   ],
   "source": [
    "def converte_length():\n",
    "    value = eval(input(\"Enter the values in cm:\"))\n",
    "    if value < 0 : \n",
    "        print(\"Invaid entry please use the positive values\")\n",
    "    else:\n",
    "        print(f\"{value} cm is equal to {value * 2.54} inch\")\n",
    "\n",
    "converte_length()"
   ]
  },
  {
   "cell_type": "markdown",
   "id": "8d99bb43-2b36-46b6-86de-4a32727d0f65",
   "metadata": {},
   "source": [
    "*2. Ask the user for a temperature. Then ask them what units, Celsius or Fahrenheit, the\n",
    "temperature is in. Your program should convert the temperature to the other unit. The\n",
    "conversions are F = 9 5 C +32 and C = 5 9 (F − 32).*"
   ]
  },
  {
   "cell_type": "code",
   "execution_count": 303,
   "id": "d97b9620-f683-4c95-84f6-259ead272258",
   "metadata": {},
   "outputs": [
    {
     "name": "stdin",
     "output_type": "stream",
     "text": [
      "Enter the temperature units ['C' for Celsius and 'F' for fahrenheit] : C\n",
      "Enter the temperature in Celsius: 45\n"
     ]
    },
    {
     "name": "stdout",
     "output_type": "stream",
     "text": [
      "45 C is equal to 4307 F\n"
     ]
    }
   ],
   "source": [
    "def convert_temperature():\n",
    "    unit = input(\"Enter the temperature units ['C' for Celsius and 'F' for fahrenheit] :\")\n",
    "    if unit.lower() == \"f\":\n",
    "        value = eval(input(\"Enter the temperature in Fahrenheit:\"))\n",
    "        celsius = 59 * (value - 32)\n",
    "        print(f\"{value} F is equal to {celsius} C\")\n",
    "    elif unit.lower() == \"c\":\n",
    "        value = eval(input(\"Enter the temperature in Celsius:\"))\n",
    "        fahren = (95 * value) + 32\n",
    "        print(f\"{value} C is equal to {fahren} F\")\n",
    "    else:\n",
    "        print(\"Please enter the correct Unit (F or C)\")\n",
    "\n",
    "convert_temperature()\n",
    "    "
   ]
  },
  {
   "cell_type": "markdown",
   "id": "bfb47d0f-b864-4051-a57f-4386cee4972f",
   "metadata": {},
   "source": [
    "*3. Ask the user to enter a temperature in Celsius. The program should print a message based on the temperature:*\n",
    "- *If the temperature is less than -273.15, print that the temperature is invalid because it is below absolute zero.*\n",
    "- If it is exactly -273.15, print that the temperature is absolute 0.*\n",
    "- *If the temperature is between -273.15 and 0, print that the temperature is below freezing.*\n",
    "- *If it is 0, print that the temperature is at the freezing point.*\n",
    "- *If it is between 0 and 100, print that the temperature is in the normal range.*\n",
    "- *If it is 100, print that the temperature is at the boiling point.*\n",
    "- *If it is above 100, print that the temperature is above the boiling point.**"
   ]
  },
  {
   "cell_type": "code",
   "execution_count": 305,
   "id": "e0bf07f0-6a03-4d31-b8c2-12d515181971",
   "metadata": {},
   "outputs": [
    {
     "name": "stdin",
     "output_type": "stream",
     "text": [
      "Enter the temperature in Celsius: 102\n"
     ]
    },
    {
     "name": "stdout",
     "output_type": "stream",
     "text": [
      "The temperature 102 is above the boiling point\n"
     ]
    }
   ],
   "source": [
    "def temperature_info():\n",
    "    temp = eval(input(\"Enter the temperature in Celsius:\"))\n",
    "    if temp  < -273.15: print(f\"The temperature {temp} is invalid because it is below absolute zero\")\n",
    "    elif temp == -273.15: print(f\"The temperature {temp} is absolute 0\")\n",
    "    elif temp < 0: print(f\"The temperature {temp} is below freezing\")\n",
    "    elif temp == 0: print(f\"The temperature {temp} is is at the freezing point\") \n",
    "    elif temp < 100: print(f\"The temperature {temp} is in the normal range\")\n",
    "    elif temp == 100: print(f\"The temperature {temp} is at the boiling point\")\n",
    "    elif temp > 100: print(f\"The temperature {temp} is above the boiling point\")\n",
    "temperature_info()        "
   ]
  },
  {
   "cell_type": "markdown",
   "id": "1355079c-e231-4206-9c4d-82ce445910b6",
   "metadata": {},
   "source": [
    "*4. Write a program that asks the user how many credits they have taken. If they have taken 23 or less, print that the student is a freshman. If they have taken between 24 and 53, print that they are asophomore. The range for juniors is 54 to 83, and for seniors it is 84 and over.*"
   ]
  },
  {
   "cell_type": "code",
   "execution_count": 307,
   "id": "e9e9d84b-6d3c-48b5-a706-1ac9f6b12f42",
   "metadata": {},
   "outputs": [
    {
     "name": "stdin",
     "output_type": "stream",
     "text": [
      "Number of credits: 84\n"
     ]
    },
    {
     "name": "stdout",
     "output_type": "stream",
     "text": [
      "Number of credits:84\n",
      "Seniors\n"
     ]
    }
   ],
   "source": [
    "def credits():\n",
    "    credit = eval(input(\"Number of credits:\"))\n",
    "    print(f\"Number of credits:{credit}\")\n",
    "    if credit >= 84: print(\"Seniors\")\n",
    "    elif credit >=54: print(\"Juniors\")\n",
    "    elif credit >= 24: print(\"Asophomore\")\n",
    "    else: print(\"The sutdent is a freshman\")\n",
    "\n",
    "credits()"
   ]
  },
  {
   "cell_type": "markdown",
   "id": "a09888ff-b9cf-4f6f-98fa-2eb9bd388b20",
   "metadata": {},
   "source": [
    "*5. Generate a random number between 1 and 10. Ask the user to guess the number and print a message based on whether they get it right or not.*"
   ]
  },
  {
   "cell_type": "code",
   "execution_count": 56,
   "id": "d7485b05-a907-4618-b287-6d6c60093d5d",
   "metadata": {},
   "outputs": [
    {
     "name": "stdin",
     "output_type": "stream",
     "text": [
      "Guess a number between 1 to 10: 4\n"
     ]
    },
    {
     "name": "stdout",
     "output_type": "stream",
     "text": [
      "Guessd number is right\n"
     ]
    }
   ],
   "source": [
    "import random\n",
    "def guess_number():\n",
    "    guess = eval(input(\"Guess a number between 1 to 10:\"))\n",
    "    rand_num = random.randint(0,10)\n",
    "    if guess == rand_num:\n",
    "        print(\"Guessd number is right\")\n",
    "    else:\n",
    "        print(\"Gussed number is wrong\")\n",
    "\n",
    "guess_number()"
   ]
  },
  {
   "cell_type": "markdown",
   "id": "770a832a-1154-465f-a110-c8b7c8facf95",
   "metadata": {},
   "source": [
    "*6. A store charges $12 per item if you buy less than 10 items. If you buy between 10 \n",
    "and 99 items, the cost is $10 per item. If you buy 100 or more items, the cost is $ \r\n",
    "per item. Write a program that asks the user how many items they are buying a d\r\n",
    "prints the total co*st."
   ]
  },
  {
   "cell_type": "code",
   "execution_count": 101,
   "id": "e08a1923-26aa-40c9-9e58-9eaeeef03a41",
   "metadata": {},
   "outputs": [
    {
     "name": "stdin",
     "output_type": "stream",
     "text": [
      "Total number of items: 5\n"
     ]
    },
    {
     "name": "stdout",
     "output_type": "stream",
     "text": [
      "Total cost of 5 items is: 60\n"
     ]
    }
   ],
   "source": [
    "def total_cost():\n",
    "    items = eval(input(\"Total number of items:\"))\n",
    "    if items>=100: print(f\"Total cost of {items} items is: {items * 7}\")\n",
    "    elif items>=10: print(f\"Total cost of {items} items is: {items * 10}\")\n",
    "    else: print(f\"Total cost of {items} items is: {items * 12}\")\n",
    "\n",
    "total_cost()"
   ]
  },
  {
   "cell_type": "markdown",
   "id": "f9711501-9efd-46b0-a1cb-acfd75949116",
   "metadata": {},
   "source": [
    "*7. Write a program that asks the user for two numbers and prints Close if the numbers are within .001of each other and Not close otherwise.*"
   ]
  },
  {
   "cell_type": "code",
   "execution_count": 309,
   "id": "2db2e7ad-9eac-48b7-b3c1-214ea270ff29",
   "metadata": {},
   "outputs": [
    {
     "name": "stdin",
     "output_type": "stream",
     "text": [
      "Enter the first number: 4.35\n",
      "Enter the second number: 4.32\n"
     ]
    },
    {
     "name": "stdout",
     "output_type": "stream",
     "text": [
      "Numbers: (4.35, 4.32)\n",
      "Close\n"
     ]
    }
   ],
   "source": [
    "def check_numbers_are_close():\n",
    "    number1 = float(input(\"Enter the first number:\"))\n",
    "    number2 = float(input(\"Enter the second number:\"))\n",
    "    print(f\"Numbers: {number1, number2}\")\n",
    "    if (number2 - number1) <= 0.001:\n",
    "        print(\"Close\")\n",
    "    else:\n",
    "        print(\"Not Close\")\n",
    "        \n",
    "check_numbers_are_close()"
   ]
  },
  {
   "cell_type": "markdown",
   "id": "a701346f-0fbd-426c-8ed3-d94703481100",
   "metadata": {},
   "source": [
    "*8. A year is a leap year if it is divisible by 4, except that years divisible by 100 are not leap years unless \n",
    "they are also divisible by 400. Write a program that asks the user for a year and prints out whethe \r\n",
    "it is a leap year or no*t."
   ]
  },
  {
   "cell_type": "code",
   "execution_count": 195,
   "id": "6add9acf-06e0-4911-9ca0-cbd48c0b2f39",
   "metadata": {},
   "outputs": [
    {
     "name": "stdin",
     "output_type": "stream",
     "text": [
      "Enter the year: 1988\n"
     ]
    },
    {
     "name": "stdout",
     "output_type": "stream",
     "text": [
      "Year 1988 is a Leap Year.\n"
     ]
    }
   ],
   "source": [
    "def find_leap_year():\n",
    "    year = eval(input(\"Enter the year:\"))\n",
    "    if year % 4 == 0 and year % 100 != 0 or year % 400 == 0:\n",
    "        print(f\"Year {year} is a Leap Year.\")\n",
    "    else:\n",
    "        print(f\"Year {year} is not a Leap Year.\")\n",
    "\n",
    "find_leap_year()"
   ]
  },
  {
   "cell_type": "markdown",
   "id": "fb7d385c-4e2b-4df8-8076-e3fac324c5f7",
   "metadata": {},
   "source": [
    "*9. Write a program that asks the user to enter a number and prints out all the divisors of that number. [Hint: the % operator is used to tell if a number is divisible by something.*"
   ]
  },
  {
   "cell_type": "code",
   "execution_count": 203,
   "id": "b38afbd0-cca7-4736-bb80-20a2df0aaf82",
   "metadata": {},
   "outputs": [
    {
     "name": "stdin",
     "output_type": "stream",
     "text": [
      "Enter number: 75\n"
     ]
    },
    {
     "name": "stdout",
     "output_type": "stream",
     "text": [
      "1 is a divisor of number 75\n",
      "3 is a divisor of number 75\n",
      "5 is a divisor of number 75\n",
      "15 is a divisor of number 75\n",
      "25 is a divisor of number 75\n",
      "75 is a divisor of number 75\n"
     ]
    }
   ],
   "source": [
    "def print_divisors():\n",
    "    number = eval(input(\"Enter number:\"))\n",
    "    for i in range(1, number + 1):\n",
    "        if number % i == 0:\n",
    "            print(f\"{i} is a divisor of number {number}\")\n",
    "\n",
    "print_divisors()"
   ]
  },
  {
   "cell_type": "markdown",
   "id": "83184d49-fcc5-4df5-a2ca-dd688051f4ec",
   "metadata": {},
   "source": [
    "*10. Write a program that asks the user for an hour between 1 and 12, asks them to enter am or pm, and asks them how many hours into the future they want to go.\n",
    "Print out what the hour will be that many hours into the future, printing am or pm as appropriate. An example is shown below.*\n",
    "- **Enter hour: 8**\n",
    "- **am (1) or pm (2)? 1**\n",
    "- **How many hours ahead? 5**\n",
    "- **New hour: 1 pm**"
   ]
  },
  {
   "cell_type": "code",
   "execution_count": 315,
   "id": "d784bc52-5a98-472e-b1ea-b174e22dcf99",
   "metadata": {},
   "outputs": [
    {
     "name": "stdin",
     "output_type": "stream",
     "text": [
      "Enter hour: 8\n",
      "am (1) or pm (2)? 1\n",
      "How many hours ahead? 5\n"
     ]
    },
    {
     "name": "stdout",
     "output_type": "stream",
     "text": [
      "Entered hour: 8 hr, period: AM, Hours ahead: 5 hr.\n",
      "New hour: 1 pm\n"
     ]
    }
   ],
   "source": [
    "def future_time():\n",
    "    hour = float(input(\"Enter hour:\"))\n",
    "    am_pm = eval(input(\"am (1) or pm (2)?\"))\n",
    "    ahead = eval(input(\"How many hours ahead?\"))\n",
    "    \n",
    "    if am_pm == 1: period = \"AM\"\n",
    "    else: period = \"PM\"\n",
    "    print(f\"Entered hour: {int(hour)} hr, period: {period}, Hours ahead: {ahead} hr.\")\n",
    "    \n",
    "    if am_pm == 1: hour_24 = hour\n",
    "    else: hour_24 = hour + 12\n",
    "\n",
    "    total_hr = hour_24 + ahead\n",
    "    new_hr = int(total_hr % 12)\n",
    "    if new_hr == 0: new_hr = 12\n",
    "        \n",
    "    if hour == 12:\n",
    "        if am_pm == 1: print(\"New hour:\", new_hr, \"am\")\n",
    "        else: print(\"New hour:\", new_hr, \"pm\")\n",
    "    elif (total_hr % 24) < 12: print(\"New hour:\", new_hr, \"am\")\n",
    "    else: print(\"New hour:\", new_hr, \"pm\")\n",
    "        \n",
    "future_time()"
   ]
  },
  {
   "cell_type": "code",
   "execution_count": 325,
   "id": "5f707f8a-7d11-4ac2-9e5e-45167d21423c",
   "metadata": {},
   "outputs": [
    {
     "name": "stdin",
     "output_type": "stream",
     "text": [
      "Enter the Hour Between 1 12:  12\n",
      "Enter AM or PM with AM/PM:  AM\n",
      "Enter How many hours ahead?:  2\n"
     ]
    },
    {
     "name": "stdout",
     "output_type": "stream",
     "text": [
      "Current Time 12 AM Hour ahead 2 New time 2 PM\n"
     ]
    }
   ],
   "source": [
    "hour = eval(input(\"Enter the Hour Between 1 12: \"))\n",
    "am_or_pm = input(\"Enter AM or PM with AM/PM: \")\n",
    "if am_or_pm == \"AM\":\n",
    "    Hours_ahead = eval(input(\"Enter How many hours ahead?: \"))\n",
    "    New_hour =  hour + Hours_ahead\n",
    "    if New_hour < 12:\n",
    "        print(f\"Current Time {hour} AM Hour ahead {Hours_ahead} New time {New_hour}\")\n",
    "    else:\n",
    "        print(f\"Current Time {hour} AM Hour ahead {Hours_ahead} New time {New_hour - 12} PM\")\n",
    "elif am_or_pm == \"PM\":\n",
    "    Hours_ahead = eval(input(\"Enter How many hours ahead?: \"))\n",
    "    New_hour = hour + Hours_ahead\n",
    "    if New_hour < 12:\n",
    "        print(f\"Current Time {hour} PM Hour ahead {Hours_ahead} New time {New_hour}\")\n",
    "    else:\n",
    "        print(f\"Current Time {hour} PM Hour ahead {Hours_ahead} New time {New_hour - 12} AM\")\n"
   ]
  },
  {
   "cell_type": "code",
   "execution_count": null,
   "id": "85e63264-464c-4256-a74a-3fb49e2cc59a",
   "metadata": {},
   "outputs": [],
   "source": []
  }
 ],
 "metadata": {
  "kernelspec": {
   "display_name": "Python 3 (ipykernel)",
   "language": "python",
   "name": "python3"
  },
  "language_info": {
   "codemirror_mode": {
    "name": "ipython",
    "version": 3
   },
   "file_extension": ".py",
   "mimetype": "text/x-python",
   "name": "python",
   "nbconvert_exporter": "python",
   "pygments_lexer": "ipython3",
   "version": "3.11.7"
  }
 },
 "nbformat": 4,
 "nbformat_minor": 5
}
