{
 "cells": [
  {
   "cell_type": "markdown",
   "id": "4d0226f7-47ea-4c22-9816-7d7df9bcddd2",
   "metadata": {},
   "source": [
    "**split** - *Split the word with given string*"
   ]
  },
  {
   "cell_type": "code",
   "execution_count": 14,
   "id": "47ec46ff-d39f-41b7-8e52-80a24df13eab",
   "metadata": {},
   "outputs": [
    {
     "name": "stdout",
     "output_type": "stream",
     "text": [
      "['hai', 'how', 'are', 'you?']\n",
      "['virat.kohli', 'rcb.com']\n",
      "['virat', 'kohli@rcb', 'com']\n"
     ]
    }
   ],
   "source": [
    "string1 = \"hai how are you?\"\n",
    "print(string1.split(\" \"))\n",
    "string1 = \"virat.kohli@rcb.com\"\n",
    "print(string1.split(\"@\"))\n",
    "string1 = \"virat.kohli@rcb.com\"\n",
    "print(string1.split(\".\"))"
   ]
  },
  {
   "cell_type": "markdown",
   "id": "62bc0c32-5c1e-44ea-bdd0-1ba133b770d6",
   "metadata": {},
   "source": [
    "**strip** - *To remove leading and trailing whitespace (spaces, tabs, and newlines)*"
   ]
  },
  {
   "cell_type": "code",
   "execution_count": 174,
   "id": "5671c388-a327-4f62-bc15-3003c67bb53f",
   "metadata": {},
   "outputs": [
    {
     "name": "stdout",
     "output_type": "stream",
     "text": [
      "virat kohli\n",
      "hai 123virat kohli\n"
     ]
    }
   ],
   "source": [
    "string1 = '  virat kohli  '\n",
    "print(string1.strip()) # remove leading and trailing spaces\n",
    "string1 = '123hai 123virat kohli123'\n",
    "print(string1.strip('123')) # remove letters form leading and trainling strings"
   ]
  },
  {
   "cell_type": "markdown",
   "id": "5f88d9f5-46f3-40b1-9b01-98fdbe554aab",
   "metadata": {},
   "source": [
    "**lstrip** - *Remove Leadind White Sapace*"
   ]
  },
  {
   "cell_type": "code",
   "execution_count": 116,
   "id": "25151856-1c8b-4488-b4b1-428c2b1a36a2",
   "metadata": {},
   "outputs": [
    {
     "name": "stdout",
     "output_type": "stream",
     "text": [
      "virat kohli   \n",
      "virat kohli hai\n",
      "hai virat kohli...\n"
     ]
    }
   ],
   "source": [
    "string1 = '  virat kohli   ' \n",
    "print(string1.lstrip()) # remove leading white space\n",
    "string1 = 'hai virat kohli hai'\n",
    "print(string1.lstrip('hai ')) # remove given letters form leading string \n",
    "string1 = '...hai virat kohli...' \n",
    "print(string1.lstrip('.')) # striping all leadind dots "
   ]
  },
  {
   "cell_type": "markdown",
   "id": "5b31532d-fa36-47d3-ac57-f8fdf2e08163",
   "metadata": {},
   "source": [
    "**rstrip** - *Remove Trailing Whitespace (spaces, tabs, and newlines)*"
   ]
  },
  {
   "cell_type": "code",
   "execution_count": 118,
   "id": "8826248e-cbf1-4fc8-9e71-27a6ddc64ed2",
   "metadata": {},
   "outputs": [
    {
     "name": "stdout",
     "output_type": "stream",
     "text": [
      "  virat kohli\n",
      "hai virat kohli \n",
      "...hai virat kohli\n"
     ]
    }
   ],
   "source": [
    "string1 = '  virat kohli   ' \n",
    "print(string1.rstrip()) # remove leading white space\n",
    "string1 = 'hai virat kohli hai'\n",
    "print(string1.rstrip('hai')) # remove given letters form trailing string \n",
    "string1 = '...hai virat kohli...' \n",
    "print(string1.rstrip('.')) # striping all leadind dots "
   ]
  },
  {
   "cell_type": "markdown",
   "id": "4922cc33-0f5f-4ba8-a0e5-9bb33b86901a",
   "metadata": {},
   "source": [
    "**startswith** - *Starts with a specified prefix. It returns True*"
   ]
  },
  {
   "cell_type": "code",
   "execution_count": 126,
   "id": "90ad20be-e066-4993-9dcb-835bd86a0596",
   "metadata": {},
   "outputs": [
    {
     "name": "stdout",
     "output_type": "stream",
     "text": [
      "True\n",
      "False\n",
      "True\n"
     ]
    }
   ],
   "source": [
    "string1 = 'virat kohli'\n",
    "print(string1.startswith('virat'))\n",
    "string1 = 'virat kohli'\n",
    "print(string1.startswith('kohli'))\n",
    "string1 = 'virat kohli'\n",
    "print(string1.startswith('kohli', 6)) # starts kohli with index 6"
   ]
  },
  {
   "cell_type": "markdown",
   "id": "3c8c5bc4-dbbb-468f-bd17-c5b9e5002626",
   "metadata": {},
   "source": [
    "**endswith** - *Ends with a specified suffix. It returns True*"
   ]
  },
  {
   "cell_type": "code",
   "execution_count": 148,
   "id": "168c72c0-6f0d-46b1-b008-279c54f6036a",
   "metadata": {},
   "outputs": [
    {
     "name": "stdout",
     "output_type": "stream",
     "text": [
      "False\n",
      "True\n"
     ]
    }
   ],
   "source": [
    "string1 = 'virat kohli'\n",
    "print(string1.endswith('virat'))\n",
    "string1 = 'virat kohli'\n",
    "print(string1.endswith('kohli'))\n"
   ]
  }
 ],
 "metadata": {
  "kernelspec": {
   "display_name": "Python 3 (ipykernel)",
   "language": "python",
   "name": "python3"
  },
  "language_info": {
   "codemirror_mode": {
    "name": "ipython",
    "version": 3
   },
   "file_extension": ".py",
   "mimetype": "text/x-python",
   "name": "python",
   "nbconvert_exporter": "python",
   "pygments_lexer": "ipython3",
   "version": "3.11.7"
  }
 },
 "nbformat": 4,
 "nbformat_minor": 5
}
