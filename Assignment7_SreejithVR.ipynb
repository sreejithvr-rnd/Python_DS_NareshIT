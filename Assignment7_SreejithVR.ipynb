{
 "cells": [
  {
   "cell_type": "code",
   "execution_count": null,
   "id": "837e9f2a-0dbe-4fa9-b4df-b48ced1571b6",
   "metadata": {},
   "outputs": [],
   "source": [
    "# 1Q) For example\n",
    "# take a random number between  1 to 100\n",
    "# print it is a even number and odd number\n",
    "# you need to generate 3 random number"
   ]
  },
  {
   "cell_type": "code",
   "execution_count": 20,
   "id": "edd43482-077a-4124-a2f3-5c10f08ed9f7",
   "metadata": {},
   "outputs": [
    {
     "name": "stdout",
     "output_type": "stream",
     "text": [
      "19 is a Odd number\n",
      "91 is a Odd number\n",
      "20 is a Even number\n"
     ]
    }
   ],
   "source": [
    "import random\n",
    "\n",
    "def check_odd_even_random():\n",
    "    for i in range(3):\n",
    "        number  = random.randint(1, 100)\n",
    "        if number % 2 == 0:\n",
    "            print(f\"{number} is a Even number\")\n",
    "        else:\n",
    "            print(f\"{number} is a Odd number\")\n",
    "            \n",
    "check_odd_even_random()"
   ]
  },
  {
   "cell_type": "code",
   "execution_count": 18,
   "id": "6b8f1bec-f418-49a4-aac2-729b310bfc02",
   "metadata": {},
   "outputs": [],
   "source": [
    "#2Q) wap ask the user print the number is even or odd between 10 to 20"
   ]
  },
  {
   "cell_type": "code",
   "execution_count": 56,
   "id": "c61af2e8-cc9c-4fad-9a07-c3775b1b10d7",
   "metadata": {},
   "outputs": [
    {
     "name": "stdin",
     "output_type": "stream",
     "text": [
      "Enter the number between 10 to 20: 14\n"
     ]
    },
    {
     "name": "stdout",
     "output_type": "stream",
     "text": [
      "Number 14 is even.\n"
     ]
    }
   ],
   "source": [
    "def check_odd_even_value():\n",
    "    value = eval(input(\"Enter the number between 10 to 20:\"))\n",
    "    if value >= 10 and value <= 20:\n",
    "        if value % 2 == 0:\n",
    "            print(f\"Number {value} is even.\")\n",
    "        else:\n",
    "            print(f\"Number {value} is odd.\")\n",
    "    else:\n",
    "        print(\"Wrong input!. Please enter the number between 10 to 20\")\n",
    "\n",
    "check_odd_even_value()"
   ]
  },
  {
   "cell_type": "code",
   "execution_count": null,
   "id": "3ed727b2-a674-4977-8e46-2b9bf75d797c",
   "metadata": {},
   "outputs": [],
   "source": [
    "#3Q) wap ask the user print the square of the number between 20 to 25"
   ]
  },
  {
   "cell_type": "code",
   "execution_count": 58,
   "id": "5ebf690c-a5a5-4cc1-b0d4-b78cc6ac25a6",
   "metadata": {},
   "outputs": [
    {
     "name": "stdin",
     "output_type": "stream",
     "text": [
      "Enter the number between 20 to 25: 22\n"
     ]
    },
    {
     "name": "stdout",
     "output_type": "stream",
     "text": [
      "Square of the number 22 is 484\n"
     ]
    }
   ],
   "source": [
    "def square_of_number():\n",
    "    value = eval(input(\"Enter the number between 20 to 25:\"))\n",
    "    if value >= 20 and value <= 25:\n",
    "        sqr = value * value \n",
    "        print(f\"Square of the number {value} is {sqr}\")\n",
    "    else:\n",
    "        print(\"Wrong input!. Please enter the number between 20 to 25\")\n",
    "\n",
    "square_of_number()\n",
    "        "
   ]
  },
  {
   "cell_type": "code",
   "execution_count": null,
   "id": "4ac60297-dcc3-4ef4-8321-e72ae84dd799",
   "metadata": {},
   "outputs": [],
   "source": [
    "#4Q) WAP ask the user enter number three times find the square of the number\n",
    "# How many times loop should run"
   ]
  },
  {
   "cell_type": "code",
   "execution_count": 80,
   "id": "e7929d37-7f8d-46a5-af2e-319835cf02b2",
   "metadata": {},
   "outputs": [
    {
     "name": "stdin",
     "output_type": "stream",
     "text": [
      "Enter the number: 4\n"
     ]
    },
    {
     "name": "stdout",
     "output_type": "stream",
     "text": [
      "Square of the number 4 is 16\n"
     ]
    },
    {
     "name": "stdin",
     "output_type": "stream",
     "text": [
      "Enter the number: 5\n"
     ]
    },
    {
     "name": "stdout",
     "output_type": "stream",
     "text": [
      "Square of the number 5 is 25\n"
     ]
    },
    {
     "name": "stdin",
     "output_type": "stream",
     "text": [
      "Enter the number: 6\n"
     ]
    },
    {
     "name": "stdout",
     "output_type": "stream",
     "text": [
      "Square of the number 6 is 36\n",
      "Loop has been run 3 times.\n"
     ]
    }
   ],
   "source": [
    "def square_of_numbers_2():\n",
    "    count = 0\n",
    "    for i in range(3):\n",
    "        value = eval(input(\"Enter the number:\"))\n",
    "        count = count + 1\n",
    "        sqr = value * value\n",
    "        print(f\"Square of the number {value} is {sqr}\")\n",
    "        \n",
    "    print(f\"Loop has been run {count} times.\")\n",
    "        \n",
    "square_of_numbers_2()        "
   ]
  },
  {
   "cell_type": "code",
   "execution_count": null,
   "id": "e83818e0-cf42-4011-a5ae-5850bb723f87",
   "metadata": {},
   "outputs": [],
   "source": [
    "#5Q) Print the 14th table\n",
    "# ans:   14 x 1 = 14\n",
    "#        14 x 2 = 28\n",
    "#        14 x 3 = 42\n",
    "#\n",
    "#\n",
    "#        14 x10 = 140\n",
    "# How many times 10"
   ]
  },
  {
   "cell_type": "code",
   "execution_count": 78,
   "id": "91ce8d18-d66c-4937-bc47-4e1c3c71a610",
   "metadata": {},
   "outputs": [
    {
     "name": "stdout",
     "output_type": "stream",
     "text": [
      "14 X 1 = 14\n",
      "14 X 2 = 28\n",
      "14 X 3 = 42\n",
      "14 X 4 = 56\n",
      "14 X 5 = 70\n",
      "14 X 6 = 84\n",
      "14 X 7 = 98\n",
      "14 X 8 = 112\n",
      "14 X 9 = 126\n",
      "14 X 10 = 140\n"
     ]
    }
   ],
   "source": [
    "def print_multiplication_table(number):\n",
    "    for i in range(1, 11):\n",
    "        print(f\"{number} X {i} = {i*number}\")\n",
    "\n",
    "print_multiplication_table(14)"
   ]
  },
  {
   "cell_type": "code",
   "execution_count": null,
   "id": "08e2ce9d-51f2-40d0-84c3-0c7d8c48190d",
   "metadata": {},
   "outputs": [],
   "source": [
    "#6 Q) Find the factors of 75\n",
    "# step-1: Iterate the loop = which numbers factor you want\n",
    "# step-2: Apply the if condition\n",
    "#         cond= divide the number with each i"
   ]
  },
  {
   "cell_type": "code",
   "execution_count": 90,
   "id": "8c3023df-68be-4777-99d2-7bc01b0d1929",
   "metadata": {},
   "outputs": [
    {
     "name": "stdout",
     "output_type": "stream",
     "text": [
      "1 is a factors of 75\n",
      "3 is a factors of 75\n",
      "5 is a factors of 75\n",
      "15 is a factors of 75\n",
      "25 is a factors of 75\n",
      "75 is a factors of 75\n",
      "Number of factors is 6\n"
     ]
    }
   ],
   "source": [
    "def find_factors(number):\n",
    "    count = 0\n",
    "    for  i in range(1, number + 1):\n",
    "        if number % i == 0:\n",
    "            count = count + 1\n",
    "            print(f\"{i} is a factors of {number}\")\n",
    "    print(f\"Number of factors is {count}\") \n",
    "    \n",
    "find_factors(75)"
   ]
  },
  {
   "cell_type": "code",
   "execution_count": null,
   "id": "6156fd83-cb19-4aba-8cf2-c67fe3014c12",
   "metadata": {},
   "outputs": [],
   "source": [
    "#7Q) Write the sum of first 10 Natural numbers\n",
    "# 1 to 10\n",
    "# 1+2+3+4+5+6+7+8+9+10=55"
   ]
  },
  {
   "cell_type": "code",
   "execution_count": 98,
   "id": "9734a8cb-447b-4f69-a4fb-a117d07b9aad",
   "metadata": {},
   "outputs": [
    {
     "name": "stdout",
     "output_type": "stream",
     "text": [
      "Summation of first 10 natural numbers is 55\n"
     ]
    }
   ],
   "source": [
    "def sum_of_numbers(number):\n",
    "    summ  = 0\n",
    "    for i in range(1, number + 1):\n",
    "        summ = i + summ\n",
    "    print(f\"Summation of first {number} natural numbers is {summ}\")\n",
    "    \n",
    "sum_of_numbers(10)"
   ]
  },
  {
   "cell_type": "code",
   "execution_count": null,
   "id": "ddda2d67-7d3d-4c73-b460-e4e6e521533e",
   "metadata": {},
   "outputs": [],
   "source": [
    "# 8Q) Average first 1 to 10 numbers\n",
    "# avg= summation of all the numbers/total number\n",
    "#Wap to find the average of ' N ' numbers in Python."
   ]
  },
  {
   "cell_type": "code",
   "execution_count": 100,
   "id": "87086ca1-9b94-40fe-8a30-4e5f91deda27",
   "metadata": {},
   "outputs": [
    {
     "name": "stdout",
     "output_type": "stream",
     "text": [
      "Aaverage of 1 to 10 is 5.5\n"
     ]
    }
   ],
   "source": [
    "def find_average_of(number):\n",
    "    summ = 0\n",
    "    for i in range(1, number + 1):\n",
    "        summ = summ + i\n",
    "    avarage = summ/number\n",
    "    print(f\"Aaverage of 1 to {number} is {avarage}\")\n",
    "\n",
    "find_average_of(10)"
   ]
  },
  {
   "cell_type": "code",
   "execution_count": null,
   "id": "a60bc65a-ba97-46c2-a1e3-6b01d3cfe4ec",
   "metadata": {},
   "outputs": [],
   "source": [
    "#9Q) Find the number of divisors of 75\n",
    "# ans: 1,3,5,15,25,75\n",
    "# Number =6"
   ]
  },
  {
   "cell_type": "code",
   "execution_count": 106,
   "id": "4b5392da-cd03-4aca-b7a4-1998fdb7934f",
   "metadata": {},
   "outputs": [
    {
     "name": "stdout",
     "output_type": "stream",
     "text": [
      "The number of divisors of 75 is 6\n"
     ]
    }
   ],
   "source": [
    "def find_divisors(number):\n",
    "    count = 0\n",
    "    for  i in range(1, number + 1):\n",
    "        if number % i == 0:\n",
    "            count = count + 1  \n",
    "    print(f\"The number of divisors of {number} is {count}\") \n",
    "    \n",
    "find_divisors(75)"
   ]
  },
  {
   "cell_type": "code",
   "execution_count": null,
   "id": "f501c857-d94d-404f-9377-3763f1d899ec",
   "metadata": {},
   "outputs": [],
   "source": [
    "# 10Q)\n",
    "# Get a random number between  1 to 10 :  num1\n",
    "# Ask the user enter a number : num2\n",
    "# if num1 == num2  then print won\n",
    "# else print fail\n",
    "# Give 3 chances\n",
    "# Case-2: whenever you won the code should stop\n",
    "# Case-3:\n",
    "# Suppose i want to give 4 chances\n",
    "# Every time you fail I want to display\n",
    "#      Number of chances left\n",
    "# If all the chances you are used\n",
    "#    Try again after 24 hours"
   ]
  },
  {
   "cell_type": "code",
   "execution_count": 130,
   "id": "5b11479f-5468-4242-937b-11f2b23ab090",
   "metadata": {},
   "outputs": [
    {
     "name": "stdin",
     "output_type": "stream",
     "text": [
      "Enter the number between 1 to 10: 4\n"
     ]
    },
    {
     "name": "stdout",
     "output_type": "stream",
     "text": [
      "Fail\n",
      "You have 2 chances left.\n"
     ]
    },
    {
     "name": "stdin",
     "output_type": "stream",
     "text": [
      "Enter the number between 1 to 10: 3\n"
     ]
    },
    {
     "name": "stdout",
     "output_type": "stream",
     "text": [
      "Fail\n",
      "You have 1 chances left.\n"
     ]
    },
    {
     "name": "stdin",
     "output_type": "stream",
     "text": [
      "Enter the number between 1 to 10: 5\n"
     ]
    },
    {
     "name": "stdout",
     "output_type": "stream",
     "text": [
      "Fail\n",
      "Please try again after 24 hours.\n"
     ]
    }
   ],
   "source": [
    "import random\n",
    "\n",
    "def lucky_draw(chances = 3):\n",
    "    for i in range(chances):\n",
    "        number1 =  eval(input(\"Enter the number between 1 to 10:\"))\n",
    "        number2 = random.randint(1, 10)\n",
    "        if number1 == number2:\n",
    "            print ('You Won!')\n",
    "            break\n",
    "        else:\n",
    "            print('Fail')\n",
    "            chances = chances - 1\n",
    "            if chances == 0:\n",
    "                print(f\"Please try again after 24 hours.\")\n",
    "            else:\n",
    "                print(f\"You have {chances} chances left.\")\n",
    "\n",
    "lucky_draw()"
   ]
  },
  {
   "cell_type": "code",
   "execution_count": null,
   "id": "52f5e2db-fc41-4a3d-a0e6-4527a5e7bfba",
   "metadata": {},
   "outputs": [],
   "source": [
    "#11Q) wap ask the user get 5 random numbers\n",
    "# Get it is an even number or odd number\n",
    "# also count how many even numbers are there\n",
    "# and  count how many odd numbers are there\n",
    "\n",
    "# Idea\n",
    "# take two counters one even and odd count\n",
    "# For loop 5 times\n",
    "# each time take the random number\n",
    "# If condition\n",
    "#    True counter update\n",
    "# else\n",
    "#   Update the counter"
   ]
  },
  {
   "cell_type": "code",
   "execution_count": 140,
   "id": "b4b28ca8-652f-4850-8b63-f244c54e484a",
   "metadata": {},
   "outputs": [
    {
     "name": "stdin",
     "output_type": "stream",
     "text": [
      "Random Number Count: 5\n"
     ]
    },
    {
     "name": "stdout",
     "output_type": "stream",
     "text": [
      "odd Numbers:87\n",
      "odd Numbers:51\n",
      "odd Numbers:13\n",
      "odd Numbers:61\n",
      "odd Numbers:9\n",
      "The total number of even numbers are:0\n",
      "The total number of odd numbers are:5\n"
     ]
    }
   ],
   "source": [
    "import random \n",
    "def count_even_odd():\n",
    "    rand_count = eval(input(\"Random Number Count:\"))\n",
    "    even_count, odd_count = 0, 0\n",
    "    for each in range(rand_count):\n",
    "        num = random.randint(1,100)\n",
    "        if num % 2 == 0:\n",
    "            print(f'even Numbers:{num}')\n",
    "            even_count = even_count +1\n",
    "        else: \n",
    "            print(f'odd Numbers:{num}')\n",
    "            odd_count = odd_count +1 \n",
    "            \n",
    "    return ( even_count, odd_count)\n",
    "    \n",
    "even_count,  odd_count = count_even_odd()\n",
    "print(f\"The total number of even numbers are:{even_count}\")\n",
    "print(f\"The total number of odd numbers are:{odd_count}\")"
   ]
  },
  {
   "cell_type": "code",
   "execution_count": null,
   "id": "c9a1dd0d-3331-4d3a-8885-1e5efc4d9c65",
   "metadata": {},
   "outputs": [],
   "source": [
    "#12Q) wap ask the user get 5 random numbers\n",
    "# Get it is an even number or odd number\n",
    "# also count how many even numbers are there\n",
    "# and  count how many odd numbers are there\n",
    "# I want summ even numbers\n",
    "# I want summ odd numbers"
   ]
  },
  {
   "cell_type": "code",
   "execution_count": 150,
   "id": "3c40084c-be13-4336-af0a-476514f3d83c",
   "metadata": {},
   "outputs": [
    {
     "name": "stdin",
     "output_type": "stream",
     "text": [
      "Random Number Count: 5\n"
     ]
    },
    {
     "name": "stdout",
     "output_type": "stream",
     "text": [
      "even Numbers:28\n",
      "odd Numbers:69\n",
      "even Numbers:36\n",
      "odd Numbers:81\n",
      "odd Numbers:47\n",
      "The total number of even numbers are: 2 and summation of all even numbers is : 64\n",
      "The total number of odd numbers are: 3 and summation of all odd numbers is : 197\n"
     ]
    }
   ],
   "source": [
    "import random \n",
    "\n",
    "def count_sum_even_odd():\n",
    "    rand_count = eval(input(\"Random Number Count:\"))\n",
    "    even_count, odd_count = 0, 0\n",
    "    even_sum, odd_sum = 0, 0\n",
    "    for each in range(rand_count):\n",
    "        num = random.randint(1,100)\n",
    "        if num % 2 == 0:\n",
    "            print(f'even Numbers:{num}')\n",
    "            even_count = even_count +1\n",
    "            even_sum = even_sum  + num\n",
    "        else: \n",
    "            print(f'odd Numbers:{num}')\n",
    "            odd_count = odd_count +1 \n",
    "            odd_sum = odd_sum  + num\n",
    "    return ( even_count,\n",
    "             odd_count,\n",
    "             even_sum, \n",
    "             odd_sum)\n",
    "    \n",
    "even_count,  odd_count,   even_sum, odd_sum = count_sum_even_odd()\n",
    "print(f\"The total number of even numbers are: {even_count} and summation of all even numbers is : {even_sum}\")\n",
    "print(f\"The total number of odd numbers are: {odd_count} and summation of all odd numbers is : {odd_sum}\")"
   ]
  },
  {
   "cell_type": "code",
   "execution_count": null,
   "id": "4da495a4-74e8-4317-abb4-1f1ad40c407d",
   "metadata": {},
   "outputs": [],
   "source": []
  }
 ],
 "metadata": {
  "kernelspec": {
   "display_name": "Python 3 (ipykernel)",
   "language": "python",
   "name": "python3"
  },
  "language_info": {
   "codemirror_mode": {
    "name": "ipython",
    "version": 3
   },
   "file_extension": ".py",
   "mimetype": "text/x-python",
   "name": "python",
   "nbconvert_exporter": "python",
   "pygments_lexer": "ipython3",
   "version": "3.11.7"
  }
 },
 "nbformat": 4,
 "nbformat_minor": 5
}
