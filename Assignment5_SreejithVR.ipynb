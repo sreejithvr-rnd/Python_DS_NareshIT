{
 "cells": [
  {
   "cell_type": "code",
   "execution_count": null,
   "id": "e3dfa623-3d62-4114-9ed1-0e4082748db9",
   "metadata": {},
   "outputs": [],
   "source": [
    "# wap ask the user enter 3 numbers calculate average"
   ]
  },
  {
   "cell_type": "code",
   "execution_count": 7,
   "id": "08a7a956-c206-47b3-a2f8-e82aa0ac6dd3",
   "metadata": {},
   "outputs": [
    {
     "name": "stdout",
     "output_type": "stream",
     "text": [
      "num1 is: 10\n",
      "num2 is: 20\n",
      "num3 is: 30\n",
      "the Avarage of 10 and 20 is: 20.0\n"
     ]
    }
   ],
   "source": [
    "def average(num1, num2, num3):\n",
    "    print(\"num1 is:\", num1)\n",
    "    print(\"num2 is:\", num2)\n",
    "    print(\"num3 is:\", num3)\n",
    "    av = (num1+num2+num3)/3\n",
    "    avg = round(av,2)\n",
    "    print(f\"the Avarage of {num1} and {num2} is: {avg}\") \n",
    "\n",
    "average(10,20,30)"
   ]
  },
  {
   "cell_type": "code",
   "execution_count": null,
   "id": "4badb803-a042-40ad-ba99-d241d2a327d5",
   "metadata": {},
   "outputs": [],
   "source": [
    "# wap ask the uer enter radius values find the area of the circle"
   ]
  },
  {
   "cell_type": "code",
   "execution_count": 12,
   "id": "32cbc83a-ed6c-45e0-a504-994842f10717",
   "metadata": {},
   "outputs": [
    {
     "name": "stdout",
     "output_type": "stream",
     "text": [
      "Area of circle with radius of 3 is : 28.26\n"
     ]
    }
   ],
   "source": [
    "def area_of_circle(radius):\n",
    "    pi = 3.14\n",
    "    area = round(pi * radius * radius, 2)\n",
    "    print(f\"Area of circle with radius of {radius} is : {area}\")\n",
    "    \n",
    "area_of_circle(3)  "
   ]
  },
  {
   "cell_type": "code",
   "execution_count": null,
   "id": "de9b144b-4986-4e6c-9ee1-541934e55b02",
   "metadata": {},
   "outputs": [],
   "source": [
    "# wap ask the user bill amount. \n",
    "# ask the user how much tip you want pay in percentage. \n",
    "# calculate totalbill"
   ]
  },
  {
   "cell_type": "code",
   "execution_count": 23,
   "id": "843f3e69-9d1e-42cd-89d0-f2af8a7852dc",
   "metadata": {},
   "outputs": [
    {
     "name": "stdin",
     "output_type": "stream",
     "text": [
      "Price of the Meal: 400\n",
      "Tip amount in %: 10\n"
     ]
    },
    {
     "name": "stdout",
     "output_type": "stream",
     "text": [
      "Meal amount is:400\n",
      "Tip amount is 10% of meal: 2.5\n",
      "==================================\n",
      "Total amount: 402.5\n"
     ]
    }
   ],
   "source": [
    "def bill_calculator():\n",
    "    meal_price = eval(input(\"Price of the Meal:\"))\n",
    "    tip = eval(input(\"Tip amount in %:\"))\n",
    "    tip_amount = (tip/meal_price) * 100\n",
    "    print(f\"Meal amount is:{meal_price}\")\n",
    "    print(f\"Tip amount is {tip}% of meal: {tip_amount}\")\n",
    "    print(\"==================================\")\n",
    "    print(f\"Total amount: {meal_price + tip_amount}\")\n",
    "    \n",
    "bill_calculator()"
   ]
  },
  {
   "cell_type": "code",
   "execution_count": null,
   "id": "9071ce32-8318-4c18-853d-c6aa95eb35b5",
   "metadata": {},
   "outputs": [],
   "source": [
    "# wap ask the user enter base height calculate area of the traingle"
   ]
  },
  {
   "cell_type": "code",
   "execution_count": 21,
   "id": "ec97c566-8170-42a3-b5da-c91643947b21",
   "metadata": {},
   "outputs": [
    {
     "name": "stdin",
     "output_type": "stream",
     "text": [
      "Enter the Height: 5\n",
      "Enter the base: 5\n"
     ]
    },
    {
     "name": "stdout",
     "output_type": "stream",
     "text": [
      "Area of triangle with height 5 and base 5 is 12.5\n"
     ]
    }
   ],
   "source": [
    "def area_of_triangle():\n",
    "    height = eval(input(\"Enter the Height:\"))\n",
    "    base = eval(input(\"Enter the base:\"))\n",
    "    area = 0.5 * height * base\n",
    "    print(f\"Area of triangle with height {height} and base {base} is {area}\")\n",
    "\n",
    "area_of_triangle()"
   ]
  },
  {
   "cell_type": "code",
   "execution_count": null,
   "id": "ed914024-2df9-4a10-adcd-367fb1605a26",
   "metadata": {},
   "outputs": [],
   "source": [
    "# wap ask the user enter length and breadth calculate area of the rectangle"
   ]
  },
  {
   "cell_type": "code",
   "execution_count": 25,
   "id": "f6bc7004-a18c-4c59-9cd0-99c76ddaeb31",
   "metadata": {},
   "outputs": [
    {
     "name": "stdin",
     "output_type": "stream",
     "text": [
      "Enter the length: 5\n",
      "Enter the breadth: 6\n"
     ]
    },
    {
     "name": "stdout",
     "output_type": "stream",
     "text": [
      "Area of a rectangle with length 5 and breadth 6 is 30\n"
     ]
    }
   ],
   "source": [
    "def area_of_rectangle():\n",
    "    length = eval(input(\"Enter the length:\"))\n",
    "    breadth = eval(input(\"Enter the breadth:\"))\n",
    "    area = length * breadth\n",
    "    print(f\"Area of a rectangle with length {length} and breadth {breadth} is {area}\")\n",
    "    \n",
    "area_of_rectangle()"
   ]
  },
  {
   "cell_type": "code",
   "execution_count": null,
   "id": "ad1d09c2-8ce2-4303-bec6-31b843eafc60",
   "metadata": {},
   "outputs": [],
   "source": [
    "# wap ask the user enter a number\n",
    "# find it is a even number or odd number"
   ]
  },
  {
   "cell_type": "code",
   "execution_count": 27,
   "id": "106d933d-92db-471f-a828-aa80bcb90d06",
   "metadata": {},
   "outputs": [
    {
     "name": "stdin",
     "output_type": "stream",
     "text": [
      "Enter the Number: 5\n"
     ]
    },
    {
     "name": "stdout",
     "output_type": "stream",
     "text": [
      "5 is odd number.\n"
     ]
    }
   ],
   "source": [
    "def check_even_odd():\n",
    "    number =  eval(input(\"Enter the Number:\"))\n",
    "    if number%2 == 0:\n",
    "        print(f\"{number} is even number.\")\n",
    "    else:\n",
    "        print(f\"{number} is odd number.\")\n",
    "        \n",
    "check_even_odd()"
   ]
  },
  {
   "cell_type": "code",
   "execution_count": null,
   "id": "39ee3487-2efe-43c1-adbf-bb412f9f36d8",
   "metadata": {},
   "outputs": [],
   "source": [
    "#wap ask the user enter the distance\n",
    "# if distance greater than 25km\n",
    "#      then enter the charge\n",
    "#      print the total cost\n",
    "#otherwise\n",
    "#      print free ride\n"
   ]
  },
  {
   "cell_type": "code",
   "execution_count": 29,
   "id": "d8f3116a-511a-4c75-ae9f-0a0cce4a7172",
   "metadata": {},
   "outputs": [
    {
     "name": "stdin",
     "output_type": "stream",
     "text": [
      "Enter the distance: 56\n",
      "Enter the charge: 4\n"
     ]
    },
    {
     "name": "stdout",
     "output_type": "stream",
     "text": [
      "Total Cost: 224\n"
     ]
    }
   ],
   "source": [
    "def ride_charge():\n",
    "    distance = eval(input(\"Enter the distance:\"))\n",
    "    if distance > 25:\n",
    "        charge = eval(input(\"Enter the charge:\"))\n",
    "        cost = distance * charge\n",
    "        print(f\"Total Cost: {cost}\")\n",
    "    else:\n",
    "        print(\"Free Ride\")\n",
    "        \n",
    "ride_charge()    "
   ]
  },
  {
   "cell_type": "code",
   "execution_count": null,
   "id": "d47aaaef-8233-4d66-969b-d6abaa2ec005",
   "metadata": {},
   "outputs": [],
   "source": [
    "# Implement the above problem by taking a random input  between  1, 100"
   ]
  },
  {
   "cell_type": "code",
   "execution_count": 37,
   "id": "cc270b50-c915-4705-969c-8e53b630e167",
   "metadata": {},
   "outputs": [
    {
     "name": "stdout",
     "output_type": "stream",
     "text": [
      "Distance: 93\n",
      "Charge: 9\n",
      "Total Cost: 837\n"
     ]
    }
   ],
   "source": [
    "import random\n",
    "def ride_charge():\n",
    "    distance = random.randint(1, 100)\n",
    "    print(f\"Distance: {distance}\")\n",
    "    if distance > 25:\n",
    "        charge = random.randint(1, 10)\n",
    "        print(f\"Charge: {charge}\")\n",
    "        cost = distance * charge\n",
    "        print(f\"Total Cost: {cost}\")\n",
    "    else:\n",
    "        print(\"Free Ride\")\n",
    "        \n",
    "ride_charge()   "
   ]
  },
  {
   "cell_type": "code",
   "execution_count": null,
   "id": "005c26ca-8782-4b2d-bfb9-5d0633104e37",
   "metadata": {},
   "outputs": [],
   "source": [
    "# wap ask the user enter the distance\n",
    "# cutoff distance enter 25\n",
    "# if distance greater than 25km\n",
    "#      print(\"good news your charge is aplicable for only remaining of 25\")\n",
    "#      chargeble distance= distance-cutoff\n",
    "#      then enter the charge\n",
    "#      print the total cost\n",
    "#otherwise\n",
    "#      print free ride"
   ]
  },
  {
   "cell_type": "code",
   "execution_count": 39,
   "id": "7a356925-a39c-40a1-9ef9-3c9192a0b12e",
   "metadata": {},
   "outputs": [
    {
     "name": "stdin",
     "output_type": "stream",
     "text": [
      "Enter the distance: 65\n"
     ]
    },
    {
     "name": "stdout",
     "output_type": "stream",
     "text": [
      "Good news your charge is applicable for only remaining of 25 km\n"
     ]
    },
    {
     "name": "stdin",
     "output_type": "stream",
     "text": [
      "Enter the Charge: 5\n"
     ]
    },
    {
     "name": "stdout",
     "output_type": "stream",
     "text": [
      "Total Cost is 200\n"
     ]
    }
   ],
   "source": [
    "def ride_with_cuttoff_charge():\n",
    "    distance = eval(input(\"Enter the distance:\"))\n",
    "    cut_off = 25\n",
    "    if distance > cut_off:\n",
    "        print(f\"Good news your charge is applicable for only remaining of {cut_off} km\")\n",
    "        chargable_distance = distance - cut_off\n",
    "        charge = eval(input(\"Enter the Charge:\"))\n",
    "        total_cost = chargable_distance * charge\n",
    "        print(f\"Total Cost is {total_cost}\")\n",
    "    else:\n",
    "        print(\"Free Ride\")\n",
    "\n",
    "ride_with_cuttoff_charge()"
   ]
  },
  {
   "cell_type": "code",
   "execution_count": null,
   "id": "004e40c9-30eb-479a-9a6b-2c119facb757",
   "metadata": {},
   "outputs": [],
   "source": [
    "# wap ask the user enter the course\n",
    "# ask the user enter the Institute\n",
    "# if the course equal to data science and institute equal to naresh it\n",
    "#     then you are good\n",
    "# otherwise\n",
    "#     you are bad\n"
   ]
  },
  {
   "cell_type": "code",
   "execution_count": 41,
   "id": "0f21228e-f104-443c-831b-e37e0e21da70",
   "metadata": {},
   "outputs": [
    {
     "name": "stdin",
     "output_type": "stream",
     "text": [
      "Enter course data scinece\n",
      "Enter Institue naresh it\n"
     ]
    },
    {
     "name": "stdout",
     "output_type": "stream",
     "text": [
      "You are good\n"
     ]
    }
   ],
   "source": [
    "def course_judgment():\n",
    "    course = input(\"Enter course\")\n",
    "    institute = input(\"Enter Institue\")\n",
    "    if course == \"data science\" or institute == \"naresh it\":\n",
    "        print(\"You are good\")\n",
    "    else:\n",
    "        print(\"You are bad\")\n",
    "\n",
    "course_judgment()"
   ]
  },
  {
   "cell_type": "code",
   "execution_count": null,
   "id": "779f7689-17e9-4d0c-bb0a-6dfb66c518ec",
   "metadata": {},
   "outputs": [],
   "source": [
    "# wap ask the user enter a random number between 1 to 10, treat this as number1\n",
    "# ask the user enter another number from keyboard, treat this as number2\n",
    "# if number1 equal to number2\n",
    "#     print you won\n",
    "# otherwise\n",
    "#     print you lost"
   ]
  },
  {
   "cell_type": "code",
   "execution_count": 43,
   "id": "0a96add6-a778-465e-a205-d4bebbc73e67",
   "metadata": {},
   "outputs": [
    {
     "name": "stdin",
     "output_type": "stream",
     "text": [
      "Enter the number: 5\n"
     ]
    },
    {
     "name": "stdout",
     "output_type": "stream",
     "text": [
      "You Lost!\n"
     ]
    }
   ],
   "source": [
    "import random\n",
    "def lucky_number():\n",
    "    number1 = random.randint(1,10)\n",
    "    number2 = eval(input(\"Enter the number:\"))\n",
    "    if number1 == number2:\n",
    "      print(\"You Won!\")\n",
    "    else:\n",
    "       print(\"You Lost!\")\n",
    "\n",
    "lucky_number()        "
   ]
  },
  {
   "cell_type": "code",
   "execution_count": null,
   "id": "a713e918-6cc3-4872-994f-7034a0d89e88",
   "metadata": {},
   "outputs": [],
   "source": [
    "# wap ask the user enter number\n",
    "# if number equal to 1 then print one\n",
    "# if number equal to 2 then print two\n",
    "# if number equal to 3 then print three\n",
    "# otherwise  print enter a valid number\n"
   ]
  },
  {
   "cell_type": "code",
   "execution_count": 47,
   "id": "b1cba3c0-7569-47ce-b6e0-192ee706f917",
   "metadata": {},
   "outputs": [
    {
     "name": "stdin",
     "output_type": "stream",
     "text": [
      "Enter the nubmer: 1\n"
     ]
    },
    {
     "name": "stdout",
     "output_type": "stream",
     "text": [
      "One\n"
     ]
    }
   ],
   "source": [
    "def number_text():\n",
    "    number = eval(input(\"Enter the nubmer:\"))\n",
    "    if number == 1: print(\"One\")\n",
    "    elif number == 2: print(\"Two\")\n",
    "    elif number == 3: print(\"Three\")\n",
    "    else: print(\"Enter a valid number\")\n",
    "\n",
    "number_text()"
   ]
  },
  {
   "cell_type": "code",
   "execution_count": null,
   "id": "f689f11f-fb87-44d5-9f71-e31ffa973062",
   "metadata": {},
   "outputs": [],
   "source": [
    "# wap ask the user enter a number\n",
    "# if that number greater than zero print postive\n",
    "# if that number less than zero print negative\n",
    "# otherwise print zero\n"
   ]
  },
  {
   "cell_type": "code",
   "execution_count": 49,
   "id": "1fe43034-8bf9-4a72-a0d4-83a3f33c1ca6",
   "metadata": {},
   "outputs": [
    {
     "name": "stdin",
     "output_type": "stream",
     "text": [
      "Enter the nubmer: 5\n"
     ]
    },
    {
     "name": "stdout",
     "output_type": "stream",
     "text": [
      "Positive\n"
     ]
    }
   ],
   "source": [
    "def check_number():\n",
    "    number = eval(input(\"Enter the nubmer:\"))\n",
    "    if number > 0: print(\"Positive\")\n",
    "    elif number < 0: print(\"Negative\")\n",
    "    else: print(\"Zero\")\n",
    "\n",
    "check_number()"
   ]
  },
  {
   "cell_type": "code",
   "execution_count": null,
   "id": "a9897be0-ffcb-46cd-b972-9c8bdee618ff",
   "metadata": {},
   "outputs": [],
   "source": [
    "# WAP ask the user enter the percentage of marks 0 to 100\n",
    "# if percentagw gretaer than 90  print A garde\n",
    "# if percentage between 75 to 90 print B garde\n",
    "# if percentage between 50 to 75 print C grade\n",
    "# if percentage between 35 to 50 print D grade\n",
    "# if percentage less than 35 print Fail\n"
   ]
  },
  {
   "cell_type": "code",
   "execution_count": 51,
   "id": "7dabce97-74e7-47bd-bc85-c6d953a3a53e",
   "metadata": {},
   "outputs": [
    {
     "name": "stdin",
     "output_type": "stream",
     "text": [
      "Enter the % of mark: 55\n"
     ]
    },
    {
     "name": "stdout",
     "output_type": "stream",
     "text": [
      "C Grade\n"
     ]
    }
   ],
   "source": [
    "def check_grade():\n",
    "    percentage  = eval(input(\"Enter the % of mark:\"))\n",
    "    if percentage >= 90: print(\"A Grade\")\n",
    "    elif percentage >= 75: print(\"B Grade\")\n",
    "    elif percentage >= 50: print(\"C Grade\")\n",
    "    elif percentage >= 35: print(\"D Grade\")\n",
    "    else: print(\"Failed\")\n",
    "\n",
    "check_grade()"
   ]
  },
  {
   "cell_type": "code",
   "execution_count": null,
   "id": "53135d47-71d9-489e-9f4b-7b722a99e14b",
   "metadata": {},
   "outputs": [],
   "source": [
    "# WAP ask the user enter the age\n",
    "# if the age greater tahn 100 print you are lucky\n",
    "# if the age gretaer than 75 print old age\n",
    "# if the age  between 50 to 75 print ss\n",
    "# if the age between  30 tp 50 print MA\n",
    "# if the age between  15 to 30 print young age\n",
    "# if the afe between less than 15 print kid"
   ]
  },
  {
   "cell_type": "code",
   "execution_count": 53,
   "id": "77113384-2873-408d-862b-4f378e2195a2",
   "metadata": {},
   "outputs": [
    {
     "name": "stdin",
     "output_type": "stream",
     "text": [
      "Enter the age: 55\n"
     ]
    },
    {
     "name": "stdout",
     "output_type": "stream",
     "text": [
      "Senior Citizen\n"
     ]
    }
   ],
   "source": [
    "def check_age():\n",
    "    age  = eval(input(\"Enter the age:\"))\n",
    "    if age > 100: print(\"You are Lucky\")\n",
    "    elif age >= 75: print(\"Old age\")\n",
    "    elif age >= 50: print(\"Senior Citizen\")\n",
    "    elif age >= 30: print(\"Middle age\")\n",
    "    elif age >= 15: print(\"Young age\")\n",
    "    else: print(\"Kid\")\n",
    "\n",
    "check_age()"
   ]
  },
  {
   "cell_type": "code",
   "execution_count": null,
   "id": "e7ea865e-db49-4f8e-8163-ce0b55190c60",
   "metadata": {},
   "outputs": [],
   "source": []
  }
 ],
 "metadata": {
  "kernelspec": {
   "display_name": "Python 3 (ipykernel)",
   "language": "python",
   "name": "python3"
  },
  "language_info": {
   "codemirror_mode": {
    "name": "ipython",
    "version": 3
   },
   "file_extension": ".py",
   "mimetype": "text/x-python",
   "name": "python",
   "nbconvert_exporter": "python",
   "pygments_lexer": "ipython3",
   "version": "3.11.7"
  }
 },
 "nbformat": 4,
 "nbformat_minor": 5
}
