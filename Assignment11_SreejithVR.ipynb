{
 "cells": [
  {
   "cell_type": "code",
   "execution_count": null,
   "id": "070931ed-5c58-4d12-84dd-a7f90d019f20",
   "metadata": {},
   "outputs": [],
   "source": [
    "# Q14) string1 = 'ola ola ola'\n",
    "# number of ola =3\n"
   ]
  },
  {
   "cell_type": "code",
   "execution_count": 55,
   "id": "77bf3563-f9f1-4f25-a7e6-9fea351c9572",
   "metadata": {},
   "outputs": [
    {
     "name": "stdout",
     "output_type": "stream",
     "text": [
      "Total ola Count:4\n"
     ]
    }
   ],
   "source": [
    "string = 'hai ola ola hai ola ola'\n",
    "count = 1\n",
    "s1 = ''\n",
    "for i in string:\n",
    "    if s1 != 'ola':\n",
    "        s1 = s1 + i\n",
    "        if i == ' ':  s1=''\n",
    "    else:\n",
    "        count = count + 1\n",
    "        s1 = ''\n",
    "print (f\"Total ola Count:{count}\")"
   ]
  },
  {
   "cell_type": "code",
   "execution_count": null,
   "id": "3f99a352-3a6e-411b-845e-68782d5cee8d",
   "metadata": {},
   "outputs": [],
   "source": [
    "# Q15) string1='hello hello hello how how how how are you'\n",
    "# What is the most repeated word : how"
   ]
  },
  {
   "cell_type": "code",
   "execution_count": null,
   "id": "f872ff89-671d-4fa7-9e0b-eeb31e0e2c42",
   "metadata": {},
   "outputs": [],
   "source": [
    "# concept i used\n",
    "# each word seperated by space\n",
    "# while iterating the input string time joing all letters until i == space\n",
    "# and that word i stored in a temp_str1 \n",
    "# then that temp_str1 will store to another temp_str2 for comparing purpose\n",
    "# if its matching count will be 2 fist temp_sting1 and second temp_string2 then reset the first temp_str1  to empty\n",
    "# for storing the 3rd word\n",
    "# if tmep_str1 not matching with temp_str2 \n",
    "# maximum count initialised as 0\n",
    "# then it wil check count > maxi_count  2>0 = true\n",
    "# maximum_count will set value as 2\n",
    "# maximu_word set as temp_str2 example: hello\n",
    "# if its not matching with old string means next word started\n",
    "# so reseting the counter as 1 (count =1)\n",
    "# then temp_stri2 also reset to new word temp_sting1 exmple: how\n",
    "# after finishing all iteration \n",
    "# for example 'hello' count sroted as 3 times in count that time max_counted word will be hellow\n",
    "# then string 'how' will count 4 tiems so it will more than 3  ( old count is 3 and max count also 3)\n",
    "# now it will store how value in max_count and max_value."
   ]
  },
  {
   "cell_type": "code",
   "execution_count": 72,
   "id": "55ae7637-f030-4252-8f76-f958f9cc52f8",
   "metadata": {},
   "outputs": [
    {
     "name": "stdout",
     "output_type": "stream",
     "text": [
      "The most repeated word in the strng is: how\n"
     ]
    }
   ],
   "source": [
    "string1='hello hello hello how how how how are you'\n",
    "separator = ' '\n",
    "temp_str1, temp_str2 = '', ''\n",
    "count = 1\n",
    "max_count = 0\n",
    "max_word = ''\n",
    "for i in (string1+(separator*2)):\n",
    "    if i == separator:\n",
    "        if temp_str1 == temp_str2:\n",
    "            count = count + 1\n",
    "            temp_str1 = ''\n",
    "        else:\n",
    "            if count > max_count:\n",
    "                max_count = count\n",
    "                max_word = temp_str2\n",
    "            count = 1\n",
    "            temp_str2 = temp_str1\n",
    "            temp_str1 = ''\n",
    "    else:\n",
    "        temp_str1 = temp_str1 + i\n",
    "        \n",
    "print(f\"The most repeated word in the strng is: {max_word}\")\n",
    "\n",
    "    "
   ]
  },
  {
   "cell_type": "code",
   "execution_count": null,
   "id": "4e24086d-d3ba-4a94-84fa-d76e90c990dc",
   "metadata": {},
   "outputs": [],
   "source": [
    "# Q16) string1='hellooooo how aree u'\n",
    "# what is the maximum length of word: helloooo\n",
    "# what is the minimum length of word: u"
   ]
  },
  {
   "cell_type": "code",
   "execution_count": 3,
   "id": "47bf8675-38bb-4a5c-96fc-2d228fa8217f",
   "metadata": {},
   "outputs": [
    {
     "name": "stdout",
     "output_type": "stream",
     "text": [
      "The maximum length of word: areeeeuuuuee\n",
      "The minimum length of word: w\n"
     ]
    }
   ],
   "source": [
    "string1='hellooooo how areeeeuuuuee ue w'\n",
    "space = \" \"\n",
    "temp_str1 = ''\n",
    "max_count, min_count = 0, 0\n",
    "max_word, min_word = '', ''\n",
    "for i in (string1 + space):\n",
    "    if i == space:\n",
    "        count = len(temp_str1)\n",
    "        if count > max_count:\n",
    "            max_count = count\n",
    "            max_word = temp_str1\n",
    "            temp_str1 = ''\n",
    "\n",
    "        elif count < max_count:\n",
    "            min_count = count\n",
    "            min_word = temp_str1 \n",
    "            temp_str1 = ''\n",
    "    else:\n",
    "        temp_str1 = temp_str1 + i\n",
    "print(f\"The maximum length of word: {max_word}\")\n",
    "print(f\"The minimum length of word: {min_word}\")    "
   ]
  },
  {
   "cell_type": "code",
   "execution_count": null,
   "id": "16e1cd64-5641-408e-a5e5-7ef87c7805d4",
   "metadata": {},
   "outputs": [],
   "source": [
    "# Q17) with out using sorted then sort the letters"
   ]
  },
  {
   "cell_type": "code",
   "execution_count": 97,
   "id": "64efa134-acaa-4b5d-9f48-f36386c416d8",
   "metadata": {},
   "outputs": [
    {
     "name": "stdout",
     "output_type": "stream",
     "text": [
      "Sorted of 'python': 'h n o p t y '\n"
     ]
    }
   ],
   "source": [
    "string = 'python'\n",
    "sorted_string = ''\n",
    "new_string = ''\n",
    "temp_string=''\n",
    "for _ in string:\n",
    "    if not new_string: new_string = string\n",
    "    min_letter = min(new_string)\n",
    "    sorted_string = sorted_string + min_letter +' '\n",
    "    temp_string =''\n",
    "    for ns in new_string:\n",
    "        if min_letter != ns:\n",
    "            temp_string = temp_string + ns\n",
    "    new_string = temp_string\n",
    "    \n",
    "print(f\"Sorted of '{string}': '{sorted_string}'\")\n"
   ]
  },
  {
   "cell_type": "code",
   "execution_count": 48,
   "id": "1f553e9a-82b2-4658-b15b-c436907891d8",
   "metadata": {},
   "outputs": [
    {
     "data": {
      "text/plain": [
       "['hitro105_0210_0040_cam']"
      ]
     },
     "execution_count": 48,
     "metadata": {},
     "output_type": "execute_result"
    }
   ],
   "source": [
    "di= {\"hitro105_0210_0040_cam\": {\"start\": 343.0, \"end\": 396.0}, \n",
    "     \"hitro105_0210_0010_cam\": {\"start\": 101.0, \"end\": 183.0}, \n",
    "     \"hitro105_0210_0030_cam\": {\"start\": 259.0, \"end\": 342.0}, \n",
    "     \"hitro105_0210_0020_cam\": {\"start\": 184.0, \"end\": 258.0}}\n",
    "sh = \"hitro105_0210_0040\"\n",
    "#for i in di:\n",
    "#    if sh in i:\n",
    "#        print(i)\n",
    "[x for x in di if sh in x]\n",
    "\n"
   ]
  },
  {
   "cell_type": "code",
   "execution_count": null,
   "id": "9564072f-98a1-4106-b868-cb234f29437a",
   "metadata": {},
   "outputs": [],
   "source": []
  }
 ],
 "metadata": {
  "kernelspec": {
   "display_name": "Python 3 (ipykernel)",
   "language": "python",
   "name": "python3"
  },
  "language_info": {
   "codemirror_mode": {
    "name": "ipython",
    "version": 3
   },
   "file_extension": ".py",
   "mimetype": "text/x-python",
   "name": "python",
   "nbconvert_exporter": "python",
   "pygments_lexer": "ipython3",
   "version": "3.11.7"
  }
 },
 "nbformat": 4,
 "nbformat_minor": 5
}
