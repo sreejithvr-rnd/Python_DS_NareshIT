{
 "cells": [
  {
   "cell_type": "markdown",
   "id": "f09d013b-764c-40cc-b559-2144bfbf3ae8",
   "metadata": {},
   "source": [
    "**representation**\n"
   ]
  },
  {
   "cell_type": "code",
   "execution_count": 5,
   "id": "2cde3686-0dc7-4ed2-9c07-f478660be0ee",
   "metadata": {},
   "outputs": [
    {
     "name": "stdout",
     "output_type": "stream",
     "text": [
      "(1, 2, 3, 4)\n"
     ]
    }
   ],
   "source": [
    "#Tuple represent with brackets ()\n",
    "tup1 = (1, 2, 3, 4)\n",
    "print(tup1)"
   ]
  },
  {
   "cell_type": "markdown",
   "id": "12be36d2-841d-42d2-a161-b8112237dc30",
   "metadata": {},
   "source": [
    "**type**"
   ]
  },
  {
   "cell_type": "code",
   "execution_count": 7,
   "id": "ab81ff1a-e4de-48fd-8de6-bdbaa35e51c5",
   "metadata": {},
   "outputs": [
    {
     "name": "stdout",
     "output_type": "stream",
     "text": [
      "<class 'tuple'>\n"
     ]
    }
   ],
   "source": [
    "tup1 = (1, 2, 3, 4)\n",
    "print(type(tup1)) "
   ]
  },
  {
   "cell_type": "markdown",
   "id": "180e838a-a6de-412b-9b5e-0149e953ba24",
   "metadata": {},
   "source": [
    "**len**"
   ]
  },
  {
   "cell_type": "code",
   "execution_count": 10,
   "id": "4706ef86-7b72-4dbb-aa55-3373c7525917",
   "metadata": {},
   "outputs": [
    {
     "name": "stdout",
     "output_type": "stream",
     "text": [
      "4\n"
     ]
    }
   ],
   "source": [
    "tup1 = (1, 2, 3, 4)\n",
    "print(len(tup1))"
   ]
  },
  {
   "cell_type": "markdown",
   "id": "3f614b78-9a46-48cb-919e-857f913489dd",
   "metadata": {},
   "source": [
    "**max**"
   ]
  },
  {
   "cell_type": "code",
   "execution_count": 13,
   "id": "653519bb-d69a-4436-8b3d-7588bef1278d",
   "metadata": {},
   "outputs": [
    {
     "name": "stdout",
     "output_type": "stream",
     "text": [
      "4\n"
     ]
    }
   ],
   "source": [
    "tup1 = (1, 2, 3, 4)\n",
    "print(max(tup1))"
   ]
  },
  {
   "cell_type": "markdown",
   "id": "4782f038-4d34-446b-87cf-6357eebbbca6",
   "metadata": {},
   "source": [
    "**min**"
   ]
  },
  {
   "cell_type": "code",
   "execution_count": 16,
   "id": "e7843472-4128-483a-ba66-a185b6cb0586",
   "metadata": {},
   "outputs": [
    {
     "name": "stdout",
     "output_type": "stream",
     "text": [
      "1\n"
     ]
    }
   ],
   "source": [
    "tup1 = (1, 2, 3, 4)\n",
    "print(min(tup1))"
   ]
  },
  {
   "cell_type": "markdown",
   "id": "d1d1d840-5db4-4dc8-8859-4c8a93123a7c",
   "metadata": {},
   "source": [
    "**sum**"
   ]
  },
  {
   "cell_type": "code",
   "execution_count": 19,
   "id": "e2207dab-d55b-4d37-ab43-5c82f6a62ba4",
   "metadata": {},
   "outputs": [
    {
     "name": "stdout",
     "output_type": "stream",
     "text": [
      "10\n"
     ]
    }
   ],
   "source": [
    "tup1 = (1, 2, 3, 4)\n",
    "print(sum(tup1))"
   ]
  },
  {
   "cell_type": "markdown",
   "id": "9dcc261e-6810-4116-a796-6794f9b489d7",
   "metadata": {},
   "source": [
    "**sorted**"
   ]
  },
  {
   "cell_type": "code",
   "execution_count": 26,
   "id": "31b93052-4c33-4512-a685-cd523546fa4b",
   "metadata": {},
   "outputs": [
    {
     "name": "stdout",
     "output_type": "stream",
     "text": [
      "(0, 1, 2, 4, 6, 8, 9)\n"
     ]
    }
   ],
   "source": [
    "tup1 = (2, 8, 6, 1, 4, 9, 0)\n",
    "sorted_tup1 = tuple(sorted(tup1))\n",
    "print(sorted_tup1)"
   ]
  },
  {
   "cell_type": "markdown",
   "id": "51622207-034d-4752-98ab-65749ac770b0",
   "metadata": {},
   "source": [
    "**reversed**"
   ]
  },
  {
   "cell_type": "code",
   "execution_count": 33,
   "id": "459c2423-47ba-4f65-9665-075fec44be83",
   "metadata": {},
   "outputs": [
    {
     "name": "stdout",
     "output_type": "stream",
     "text": [
      "(4, 3, 2, 1)\n"
     ]
    }
   ],
   "source": [
    "tup1 = (1, 2, 3, 4)\n",
    "reverse_tup1 = tuple(reversed(tup1))\n",
    "print(reverse_tup1)"
   ]
  },
  {
   "cell_type": "markdown",
   "id": "e0072214-5b92-4a12-935a-2f030ac4dfa7",
   "metadata": {},
   "source": [
    "**in**"
   ]
  },
  {
   "cell_type": "code",
   "execution_count": 40,
   "id": "3535c9b0-a47b-4e27-a9a0-54946900f597",
   "metadata": {},
   "outputs": [
    {
     "name": "stdout",
     "output_type": "stream",
     "text": [
      "True\n",
      "False\n"
     ]
    }
   ],
   "source": [
    "tup1 = ('Apple', 'Grape', 'Orenge')\n",
    "print('Apple' in tup1)\n",
    "print('Mango' in tup1)"
   ]
  },
  {
   "cell_type": "markdown",
   "id": "91f223d0-3fc1-488d-9e8c-c017812bec5a",
   "metadata": {},
   "source": [
    "**for loop with in**"
   ]
  },
  {
   "cell_type": "code",
   "execution_count": 45,
   "id": "044a6cd6-7c51-444a-88a2-1ba852e6fdfa",
   "metadata": {},
   "outputs": [
    {
     "name": "stdout",
     "output_type": "stream",
     "text": [
      "Apple  not exist in tupleB\n",
      "Grape exist in tupleB\n",
      "Orenge  not exist in tupleB\n"
     ]
    }
   ],
   "source": [
    "tupleA = ('Apple', 'Grape', 'Orenge')\n",
    "tupleB = ('Grape', 'Mango')\n",
    "for i in tupleA:\n",
    "    if i in tupleB:\n",
    "        print(f\"{i} exist in tupleB\")\n",
    "    else:\n",
    "        print(f\"{i}  not exist in tupleB\")"
   ]
  },
  {
   "cell_type": "markdown",
   "id": "17aaeeeb-7f99-4323-b382-ab79d85b8f4a",
   "metadata": {},
   "source": [
    "**index**"
   ]
  },
  {
   "cell_type": "code",
   "execution_count": 104,
   "id": "1be30bb0-9359-49c2-bf66-d15629080e08",
   "metadata": {},
   "outputs": [
    {
     "name": "stdout",
     "output_type": "stream",
     "text": [
      "Index value 1 in tupleA is \"Grape\"\n"
     ]
    }
   ],
   "source": [
    "tupleA = ('Apple', 'Grape', 'Orenge')\n",
    "print(f'Index value 1 in tupleA is \"{tupleA[1]}\"')"
   ]
  },
  {
   "cell_type": "markdown",
   "id": "b3c68da4-2d80-4c18-8977-a2ba7cfc7dcf",
   "metadata": {},
   "source": [
    "**for loop with index**"
   ]
  },
  {
   "cell_type": "code",
   "execution_count": 87,
   "id": "d246c942-e7b3-46ee-86ae-406dfcbfb496",
   "metadata": {},
   "outputs": [
    {
     "name": "stdout",
     "output_type": "stream",
     "text": [
      "Apple\n",
      "Grape\n",
      "Orenge\n"
     ]
    }
   ],
   "source": [
    "tupleA = ('Apple', 'Grape', 'Orenge')\n",
    "for i in range(len(tupleA)):\n",
    "    print(tupleA[i])"
   ]
  },
  {
   "cell_type": "markdown",
   "id": "2c4c60a0-e16c-49f7-803a-c1b91db35a20",
   "metadata": {},
   "source": [
    "**mutable and immutable**"
   ]
  },
  {
   "cell_type": "code",
   "execution_count": 93,
   "id": "47d58382-d2d5-4118-b0b9-0b7652006da1",
   "metadata": {},
   "outputs": [
    {
     "ename": "TypeError",
     "evalue": "'tuple' object does not support item assignment",
     "output_type": "error",
     "traceback": [
      "\u001b[1;31m---------------------------------------------------------------------------\u001b[0m",
      "\u001b[1;31mTypeError\u001b[0m                                 Traceback (most recent call last)",
      "Cell \u001b[1;32mIn[93], line 2\u001b[0m\n\u001b[0;32m      1\u001b[0m tupleA \u001b[38;5;241m=\u001b[39m (\u001b[38;5;124m'\u001b[39m\u001b[38;5;124mApple\u001b[39m\u001b[38;5;124m'\u001b[39m, \u001b[38;5;124m'\u001b[39m\u001b[38;5;124mGrape\u001b[39m\u001b[38;5;124m'\u001b[39m, \u001b[38;5;124m'\u001b[39m\u001b[38;5;124mOrenge\u001b[39m\u001b[38;5;124m'\u001b[39m)\n\u001b[1;32m----> 2\u001b[0m tupleA[\u001b[38;5;241m2\u001b[39m] \u001b[38;5;241m=\u001b[39m \u001b[38;5;124m'\u001b[39m\u001b[38;5;124mMango\u001b[39m\u001b[38;5;124m'\u001b[39m\n\u001b[0;32m      3\u001b[0m \u001b[38;5;28mprint\u001b[39m(tupleA)\n",
      "\u001b[1;31mTypeError\u001b[0m: 'tuple' object does not support item assignment"
     ]
    }
   ],
   "source": [
    "tupleA = ('Apple', 'Grape', 'Orenge')\n",
    "tupleA[2] = 'Mango'\n",
    "print(tupleA) # Tuples are immutable"
   ]
  },
  {
   "cell_type": "code",
   "execution_count": 95,
   "id": "977b4f5f-e5d3-4a28-9afe-29851a5e0e17",
   "metadata": {},
   "outputs": [
    {
     "name": "stdout",
     "output_type": "stream",
     "text": [
      "('Apple', 'Grape', 'Orenge', ['Bus', 'Car'])\n"
     ]
    }
   ],
   "source": [
    "tupleA = ('Apple', 'Grape', 'Orenge', ['Bus', 'Scooter'])\n",
    "tupleA[3][1] = 'Car'\n",
    "print(tupleA) # tuples are mutable if it's containg mutable objects"
   ]
  },
  {
   "cell_type": "markdown",
   "id": "d5c508b4-f38d-4249-842d-53d8620c5c83",
   "metadata": {},
   "source": [
    "**concatenation**"
   ]
  },
  {
   "cell_type": "code",
   "execution_count": 98,
   "id": "3cb09ffa-2c28-4eac-ace4-02207cc5c559",
   "metadata": {},
   "outputs": [
    {
     "name": "stdout",
     "output_type": "stream",
     "text": [
      "('Apple', 'Grape', 'Orenge', 1, 2, 3, 4)\n"
     ]
    }
   ],
   "source": [
    "tupleA = ('Apple', 'Grape', 'Orenge')\n",
    "tupleB = (1, 2, 3, 4)\n",
    "tupleC = tupleA + tupleB\n",
    "print(tupleC)"
   ]
  },
  {
   "cell_type": "markdown",
   "id": "25f03daa-93fd-4f48-a75f-3e044ba6c9fe",
   "metadata": {},
   "source": [
    "**Methods**"
   ]
  },
  {
   "cell_type": "code",
   "execution_count": 106,
   "id": "75d67cbe-ad88-4e66-a524-14e81f4ee0a2",
   "metadata": {},
   "outputs": [
    {
     "name": "stdout",
     "output_type": "stream",
     "text": [
      "Count of Grape in tupleA is 3\n"
     ]
    }
   ],
   "source": [
    "# Count\n",
    "tupleA = ('Apple', 'Grape', 'Orenge', 'Grape', 'Mango', 'Dragonfruit', 'Grape')\n",
    "print(f'Count of Grape in tupleA is {tupleA.count(\"Grape\")}')"
   ]
  },
  {
   "cell_type": "code",
   "execution_count": 116,
   "id": "671ece48-a92f-4f15-b672-32265355d7d0",
   "metadata": {},
   "outputs": [
    {
     "name": "stdout",
     "output_type": "stream",
     "text": [
      "First index value of \"Orenge\" in tupleA is 1\n",
      "Second index value of \"Orenge\" in tupleA is 3\n",
      "Last index value of \"Orenge\" in tupleA is 6\n"
     ]
    }
   ],
   "source": [
    "#index\n",
    "tupleA = ('Apple', 'Grape', 'Orenge', 'Grape', 'Mango', 'Dragonfruit', 'Grape')\n",
    "index1 = tupleA.index(\"Grape\")\n",
    "print(f'First index value of \"Orenge\" in tupleA is {index1}')\n",
    "index2 = tupleA.index(\"Grape\", index1 + 1)\n",
    "print(f'Second index value of \"Orenge\" in tupleA is {index2}')\n",
    "index3 = tupleA.index(\"Grape\", index2 + 1)\n",
    "print(f'Last index value of \"Orenge\" in tupleA is {index3}')"
   ]
  },
  {
   "cell_type": "code",
   "execution_count": null,
   "id": "722e8ca4-762b-4e31-92ab-ee970d76c7be",
   "metadata": {},
   "outputs": [],
   "source": []
  }
 ],
 "metadata": {
  "kernelspec": {
   "display_name": "Python 3 (ipykernel)",
   "language": "python",
   "name": "python3"
  },
  "language_info": {
   "codemirror_mode": {
    "name": "ipython",
    "version": 3
   },
   "file_extension": ".py",
   "mimetype": "text/x-python",
   "name": "python",
   "nbconvert_exporter": "python",
   "pygments_lexer": "ipython3",
   "version": "3.11.7"
  }
 },
 "nbformat": 4,
 "nbformat_minor": 5
}
