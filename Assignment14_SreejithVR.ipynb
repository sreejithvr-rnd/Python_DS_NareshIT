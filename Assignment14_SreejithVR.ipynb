{
 "cells": [
  {
   "cell_type": "code",
   "execution_count": 3,
   "id": "5658bcba-a768-4d07-9096-556bc24b5bb9",
   "metadata": {},
   "outputs": [
    {
     "name": "stdout",
     "output_type": "stream",
     "text": [
      "Apple\n",
      "Grape\n",
      "Orenge\n",
      "Banana\n"
     ]
    }
   ],
   "source": [
    "# In operator : For loop\n",
    "list1 = ['Apple', 'Grape', 'Orenge', 'Banana']\n",
    "for i in list1:\n",
    "   print(i)"
   ]
  },
  {
   "cell_type": "code",
   "execution_count": 5,
   "id": "5c6c67fd-c89d-4f4b-a4c4-f885e4b6cb8b",
   "metadata": {},
   "outputs": [
    {
     "name": "stdout",
     "output_type": "stream",
     "text": [
      "Apple\n",
      "Grape\n",
      "Orenge\n",
      "Banana\n"
     ]
    }
   ],
   "source": [
    "# Index : For loop\n",
    "list1 = ['Apple', 'Grape', 'Orenge', 'Banana']\n",
    "for i in range(len(list1)):\n",
    "    print(list1[i])\n",
    "    \n",
    "    "
   ]
  },
  {
   "cell_type": "code",
   "execution_count": 27,
   "id": "eae1c638-3855-4da8-ace0-97ed7f17b159",
   "metadata": {},
   "outputs": [
    {
     "name": "stdout",
     "output_type": "stream",
     "text": [
      "['Apple', 'Grape', 'Orenge', 'Banana']\n",
      "ID:  2349936314816\n",
      "['Apple', 'Jackfruit', 'Orenge', 'Banana']\n",
      "ID:  2349936314816\n"
     ]
    }
   ],
   "source": [
    "# Mutability check\n",
    "list1 =  ['Apple', 'Grape', 'Orenge', 'Banana']\n",
    "print(list1)\n",
    "print('ID: ',id(list1))\n",
    "list1[1] = 'Jackfruit'\n",
    "print(list1)\n",
    "print('ID: ',id(list1))"
   ]
  },
  {
   "cell_type": "code",
   "execution_count": 85,
   "id": "59e6aa8b-7bb4-47ae-80c3-6a4aa6c132da",
   "metadata": {},
   "outputs": [
    {
     "name": "stdout",
     "output_type": "stream",
     "text": [
      "To get Grape - list1[1:2]\n",
      "To get Banana - list1[-4:-3]\n",
      "To get Dragonfruit - list1[5:-1]\n",
      "To slice till Banana list1[:-3]: ['Apple', 'Grape', 'Orenge', 'Banana']\n",
      "To remove Apple list1[1:]: ['Grape', 'Orenge', 'Banana', 'Avacado', 'Dragonfruit', 'Jackfruit']\n"
     ]
    }
   ],
   "source": [
    "# Slicing\n",
    "list1 =  ['Apple', 'Grape', 'Orenge', 'Banana', 'Avacado', 'Dragonfruit', 'Jackfruit']\n",
    "print(f'To get {list1[1:2][0]} - list1[1:2]') # to get Grape\n",
    "print(f'To get {list1[-4:-3][0]} - list1[-4:-3]') # to get 'Banana\n",
    "print(f'To get {list1[5:-1][0]} - list1[5:-1]') # to get  Dragonfruit\n",
    "print(f'To slice till Banana list1[:-3]: {list1[:-3]}')\n",
    "print(f'To remove Apple list1[1:]: {list1[1:]}')"
   ]
  },
  {
   "cell_type": "code",
   "execution_count": 53,
   "id": "4afb95db-9c10-4d5e-863a-b97578391310",
   "metadata": {},
   "outputs": [
    {
     "name": "stdout",
     "output_type": "stream",
     "text": [
      "['Apple', 'Grape', 'Orenge', 'Banana', 'Banana', 'Avacado', 'Dragonfruit', 'Jackfruit']\n"
     ]
    }
   ],
   "source": [
    "# Concatenation\n",
    "list1 =  ['Apple', 'Grape', 'Orenge', 'Banana']\n",
    "list2 = ['Banana', 'Avacado']\n",
    "list3 = ['Dragonfruit', 'Jackfruit']\n",
    "list4 = list1 + list2 + list3\n",
    "print(list4)"
   ]
  },
  {
   "cell_type": "code",
   "execution_count": 61,
   "id": "bbdc281d-5dcb-4ed9-8f50-e73e28b6dc1a",
   "metadata": {},
   "outputs": [
    {
     "name": "stdout",
     "output_type": "stream",
     "text": [
      "['Apple', 'Grape', 'Orenge', 'Banana', 'Avacado']\n",
      "['Apple', 'Grape', 'Orenge', 'Banana', 'Avacado', 'p', 'a', 'p', 'p', 'a', 'y', 'a']\n"
     ]
    }
   ],
   "source": [
    "list1 =  ['Apple', 'Grape', 'Orenge', 'Banana']\n",
    "item1 = 'Avacado'\n",
    "list2 = list1 + [item1]\n",
    "print(list2)\n",
    "item2 = 'pappaya'\n",
    "list3 = list2 + list(item2)\n",
    "print(list3)"
   ]
  },
  {
   "cell_type": "code",
   "execution_count": 69,
   "id": "484ff37d-b666-48b2-9e26-9037d4d2045b",
   "metadata": {},
   "outputs": [
    {
     "name": "stdout",
     "output_type": "stream",
     "text": [
      " To get Apple in +ve index: list1[0]\n",
      " To get Banana in +ve index: list1[3]\n"
     ]
    }
   ],
   "source": [
    "# Postive index\n",
    "list1 =  ['Apple', 'Grape', 'Orenge', 'Banana']\n",
    "print(f' To get {list1[0]} in +ve index: list1[0]') # to get Apple\n",
    "print(f' To get {list1[3]} in +ve index: list1[3]') # to get Banana"
   ]
  },
  {
   "cell_type": "code",
   "execution_count": 89,
   "id": "45c7ac6f-adc8-495e-9441-c91a695e9d44",
   "metadata": {},
   "outputs": [
    {
     "name": "stdout",
     "output_type": "stream",
     "text": [
      " To get Apple in -ve index: list1[-4]\n",
      " To get Banana in -ve index: list1[-1]\n"
     ]
    }
   ],
   "source": [
    "# Negative index\n",
    "list1 =  ['Apple', 'Grape', 'Orenge', 'Banana']\n",
    "print(f' To get {list1[-4]} in -ve index: list1[-4]') # to get Apple\n",
    "print(f' To get {list1[-1]} in -ve index: list1[-1]') # to get Banana"
   ]
  },
  {
   "cell_type": "code",
   "execution_count": 101,
   "id": "649f59f4-76ed-48e3-a0b8-529e16a6b32c",
   "metadata": {},
   "outputs": [
    {
     "name": "stdout",
     "output_type": "stream",
     "text": [
      "Positive index 0 and Negative index -4 is Apple\n",
      "Positive index 1 and Negative index -3 is Grape\n",
      "Positive index 2 and Negative index -2 is Orenge\n",
      "Positive index 3 and Negative index -1 is Banana\n"
     ]
    }
   ],
   "source": [
    "# Both pos and neg\n",
    "list1 =  ['Apple', 'Grape', 'Orenge', 'Banana']\n",
    "for i in range(len(list1)):\n",
    "    print(f\"Positive index {i} and Negative index {i-len(list1)} is {list1[i]}\")"
   ]
  },
  {
   "cell_type": "code",
   "execution_count": null,
   "id": "75cfd1a3-126b-4ffa-8b9b-f6a84344cacf",
   "metadata": {},
   "outputs": [],
   "source": []
  }
 ],
 "metadata": {
  "kernelspec": {
   "display_name": "Python 3 (ipykernel)",
   "language": "python",
   "name": "python3"
  },
  "language_info": {
   "codemirror_mode": {
    "name": "ipython",
    "version": 3
   },
   "file_extension": ".py",
   "mimetype": "text/x-python",
   "name": "python",
   "nbconvert_exporter": "python",
   "pygments_lexer": "ipython3",
   "version": "3.11.7"
  }
 },
 "nbformat": 4,
 "nbformat_minor": 5
}
