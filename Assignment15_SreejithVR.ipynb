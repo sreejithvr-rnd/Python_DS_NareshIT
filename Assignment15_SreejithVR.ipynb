{
 "cells": [
  {
   "cell_type": "code",
   "execution_count": null,
   "id": "30b3c63b-96dc-4c17-9dd6-f5b2f35f8aae",
   "metadata": {},
   "outputs": [
    {
     "ename": "",
     "evalue": "",
     "output_type": "error",
     "traceback": [
      "\u001b[1;31mFailed to start the Kernel. \n",
      "Unable to start Kernel 'base (Python 3.11.7)' due to connection timeout. \n",
      "View Jupyter <a href='command:jupyter.viewOutput'>log</a> for further details."
     ]
    }
   ],
   "source": [
    "#Q2. l1= ['Hyd', 'Mumbai', 'Chennai', 'blr']\n",
    "# ans = ['Mumbai', 'Chennai']\n",
    "# We want elements which are len of elenemnt >4"
   ]
  },
  {
   "cell_type": "code",
   "execution_count": null,
   "id": "75e9b9cc-05e2-4980-ac00-e3e6d8346d84",
   "metadata": {},
   "outputs": [
    {
     "ename": "",
     "evalue": "",
     "output_type": "error",
     "traceback": [
      "\u001b[1;31mFailed to start the Kernel. \n",
      "Unable to start Kernel 'base (Python 3.11.7)' due to connection timeout. \n",
      "View Jupyter <a href='command:jupyter.viewOutput'>log</a> for further details."
     ]
    }
   ],
   "source": [
    "list1 = ['Hyd', 'Mumbai', 'chennai', 'blr']\n",
    "ans_list = []\n",
    "for i in list1:\n",
    "    if len(i) > 4:\n",
    "        ans_list.append(i)\n",
    "ans_list"
   ]
  },
  {
   "cell_type": "code",
   "execution_count": null,
   "id": "653a6e67-45c0-4fca-a3e9-70b1c30e9447",
   "metadata": {},
   "outputs": [
    {
     "ename": "",
     "evalue": "",
     "output_type": "error",
     "traceback": [
      "\u001b[1;31mFailed to start the Kernel. \n",
      "Unable to start Kernel 'base (Python 3.11.7)' due to connection timeout. \n",
      "View Jupyter <a href='command:jupyter.viewOutput'>log</a> for further details."
     ]
    }
   ],
   "source": [
    "#Q3. l1= ['Hyd', 'Mum#bai', 'Chen#nai', 'blr']\n",
    "# ans = ['Mum#bai', 'Chen#nai']\n",
    "# We want elemnt which are havig #"
   ]
  },
  {
   "cell_type": "code",
   "execution_count": null,
   "id": "85c7fa06-94f6-4d53-87d3-82458c8ced1a",
   "metadata": {},
   "outputs": [
    {
     "ename": "",
     "evalue": "",
     "output_type": "error",
     "traceback": [
      "\u001b[1;31mFailed to start the Kernel. \n",
      "Unable to start Kernel 'base (Python 3.11.7)' due to connection timeout. \n",
      "View Jupyter <a href='command:jupyter.viewOutput'>log</a> for further details."
     ]
    }
   ],
   "source": [
    "list1 = ['Hyd', 'Mum#bai', 'Chen#nai', 'blr']\n",
    "ans_list = []\n",
    "for i in list1:\n",
    "    if \"#\" in i:\n",
    "        ans_list.append(i)\n",
    "ans_list"
   ]
  },
  {
   "cell_type": "code",
   "execution_count": null,
   "id": "0cc37633-3a64-4526-8e74-b9abaab3e7d3",
   "metadata": {},
   "outputs": [
    {
     "ename": "",
     "evalue": "",
     "output_type": "error",
     "traceback": [
      "\u001b[1;31mFailed to start the Kernel. \n",
      "Unable to start Kernel 'base (Python 3.11.7)' due to connection timeout. \n",
      "View Jupyter <a href='command:jupyter.viewOutput'>log</a> for further details."
     ]
    }
   ],
   "source": [
    "#Q4. l1= ['hyd', 'mumbai', 'chennai', 'blr']\n",
    "# ans = ['Hyd', 'Mumbai', 'Chennai', 'Blr']\n",
    "# We want elemnt which are havig #"
   ]
  },
  {
   "cell_type": "code",
   "execution_count": null,
   "id": "f124093b-9407-4ba6-879d-a40b0f7a7fdf",
   "metadata": {},
   "outputs": [
    {
     "ename": "",
     "evalue": "",
     "output_type": "error",
     "traceback": [
      "\u001b[1;31mFailed to start the Kernel. \n",
      "Unable to start Kernel 'base (Python 3.11.7)' due to connection timeout. \n",
      "View Jupyter <a href='command:jupyter.viewOutput'>log</a> for further details."
     ]
    }
   ],
   "source": [
    "list1= ['hyd', 'mumbai', 'chennai', 'blr']\n",
    "ans_list = []\n",
    "for i in list1:\n",
    "    ans_list.append(i.title())\n",
    "ans_list"
   ]
  },
  {
   "cell_type": "code",
   "execution_count": null,
   "id": "4a345e25-1a08-45c1-9453-151dd0b44f17",
   "metadata": {},
   "outputs": [
    {
     "ename": "",
     "evalue": "",
     "output_type": "error",
     "traceback": [
      "\u001b[1;31mFailed to start the Kernel. \n",
      "Unable to start Kernel 'base (Python 3.11.7)' due to connection timeout. \n",
      "View Jupyter <a href='command:jupyter.viewOutput'>log</a> for further details."
     ]
    }
   ],
   "source": [
    "#Q5. l1= ['Hyd', 'Mumbai', 'chennai', 'blr']\n",
    "# ans = ['Hyd', 'Mumbai']\n",
    "# We want elemtes which are havingirst letter capital"
   ]
  },
  {
   "cell_type": "code",
   "execution_count": null,
   "id": "732482b2-595b-4f19-aa19-df5a897c0561",
   "metadata": {},
   "outputs": [
    {
     "ename": "",
     "evalue": "",
     "output_type": "error",
     "traceback": [
      "\u001b[1;31mFailed to start the Kernel. \n",
      "Unable to start Kernel 'base (Python 3.11.7)' due to connection timeout. \n",
      "View Jupyter <a href='command:jupyter.viewOutput'>log</a> for further details."
     ]
    }
   ],
   "source": [
    "list1 = ['Hyd', 'Mumbai', 'chennai', 'blr']\n",
    "ans_list = []\n",
    "for i in list1:\n",
    "    if i == i.title():\n",
    "        ans_list.append(i.title())\n",
    "ans_list"
   ]
  },
  {
   "cell_type": "code",
   "execution_count": null,
   "id": "707fc02f-8e83-4dfb-9354-62c4903068f2",
   "metadata": {},
   "outputs": [
    {
     "ename": "",
     "evalue": "",
     "output_type": "error",
     "traceback": [
      "\u001b[1;31mFailed to start the Kernel. \n",
      "Unable to start Kernel 'base (Python 3.11.7)' due to connection timeout. \n",
      "View Jupyter <a href='command:jupyter.viewOutput'>log</a> for further details."
     ]
    }
   ],
   "source": [
    "#Q6. l1= ['Hyd', 'Mum#bai', 'Chen#nai', 'blr']\n",
    "# ans_# = ['Mum#bai', 'Chen#nai']\n",
    "# ans_without_# = [Hyd, blr]"
   ]
  },
  {
   "cell_type": "code",
   "execution_count": null,
   "id": "6abf3ec7-d8ff-44bc-8c75-036019b7abce",
   "metadata": {},
   "outputs": [
    {
     "ename": "",
     "evalue": "",
     "output_type": "error",
     "traceback": [
      "\u001b[1;31mFailed to start the Kernel. \n",
      "Unable to start Kernel 'base (Python 3.11.7)' due to connection timeout. \n",
      "View Jupyter <a href='command:jupyter.viewOutput'>log</a> for further details."
     ]
    }
   ],
   "source": [
    "list1= ['Hyd', 'Mum#bai', 'Chen#nai', 'blr']\n",
    "ans_with_hash = []\n",
    "ans_wtihout_hash = []\n",
    "for i in list1:\n",
    "    if \"#\" in i:\n",
    "        ans_with_hash.append(i)\n",
    "    else:\n",
    "        ans_wtihout_hash.append(i)\n",
    "print(\"Items with #:\", ans_with_hash)\n",
    "print(\"Items without #:\", ans_wtihout_hash)"
   ]
  },
  {
   "cell_type": "code",
   "execution_count": null,
   "id": "36346a18-2e52-4998-9d45-5d2e8577c2ec",
   "metadata": {},
   "outputs": [
    {
     "ename": "",
     "evalue": "",
     "output_type": "error",
     "traceback": [
      "\u001b[1;31mFailed to start the Kernel. \n",
      "Unable to start Kernel 'base (Python 3.11.7)' due to connection timeout. \n",
      "View Jupyter <a href='command:jupyter.viewOutput'>log</a> for further details."
     ]
    }
   ],
   "source": [
    "#Q7.ask the user get 5 numbers randomly\n",
    "# even_list and odd_list\n",
    "# even numbers should append at even_list\n",
    "# odd numbers shoul append at odd_list"
   ]
  },
  {
   "cell_type": "code",
   "execution_count": null,
   "id": "144eb679-c759-4c68-9b50-911feae5d7b7",
   "metadata": {},
   "outputs": [
    {
     "ename": "",
     "evalue": "",
     "output_type": "error",
     "traceback": [
      "\u001b[1;31mFailed to start the Kernel. \n",
      "Unable to start Kernel 'base (Python 3.11.7)' due to connection timeout. \n",
      "View Jupyter <a href='command:jupyter.viewOutput'>log</a> for further details."
     ]
    }
   ],
   "source": [
    "import random\n",
    "number_of_rand = eval(input(\"Enter the number of random numbers:\"))\n",
    "random_number_list = []\n",
    "even_list = []\n",
    "odd_list = []\n",
    "for i in range(number_of_rand):\n",
    "    random_number_list.append(random.randint(0,100))\n",
    "for i in random_number_list:\n",
    "    if i % 2 == 0:\n",
    "        even_list.append(i)\n",
    "    else:\n",
    "        odd_list.append(i)\n",
    "print('Random number list:', random_number_list)\n",
    "print(f'Even number list: {even_list}')        \n",
    "print(f'Odd number list: {odd_list}')"
   ]
  },
  {
   "cell_type": "code",
   "execution_count": null,
   "id": "aebdc820-9771-40c2-afb5-955bc296f24e",
   "metadata": {},
   "outputs": [
    {
     "ename": "",
     "evalue": "",
     "output_type": "error",
     "traceback": [
      "\u001b[1;31mFailed to start the Kernel. \n",
      "Unable to start Kernel 'base (Python 3.11.7)' due to connection timeout. \n",
      "View Jupyter <a href='command:jupyter.viewOutput'>log</a> for further details."
     ]
    }
   ],
   "source": [
    "#Q8. str='hello hai how are you'\n",
    "# Maximum length of word using split and max method\n",
    "# Sum of all the indexes of the maximum len of word using append"
   ]
  },
  {
   "cell_type": "code",
   "execution_count": null,
   "id": "1cfc32f4-3be6-4914-9500-29801079d9f2",
   "metadata": {},
   "outputs": [
    {
     "ename": "",
     "evalue": "",
     "output_type": "error",
     "traceback": [
      "\u001b[1;31mFailed to start the Kernel. \n",
      "Unable to start Kernel 'base (Python 3.11.7)' due to connection timeout. \n",
      "View Jupyter <a href='command:jupyter.viewOutput'>log</a> for further details."
     ]
    }
   ],
   "source": [
    "string1 ='hello hai how are you'\n",
    "split_list = string1.split(' ')\n",
    "length_list = []\n",
    "for i in split_list:\n",
    "    length_list.append(len(i))\n",
    "max_len = max(length_list)\n",
    "max_len_word = split_list[length_list.index(max_len)]  \n",
    "#summ = 0\n",
    "#for i in range(len(list(max_len_word))):\n",
    "#    summ = summ + i\n",
    "sum_list = []\n",
    "for i in range(len(max_len_word)):\n",
    "    sum_list.append(i)\n",
    "summ = sum(sum_list)\n",
    "\n",
    "print(f\"Maximum length word is '{max_len_word}'\")\n",
    "print(f\"Sum of all indexes of word {max_len_word} is {summ}\")\n",
    "    "
   ]
  },
  {
   "cell_type": "code",
   "execution_count": null,
   "id": "741489f4-73c4-4c29-b80f-30fb97a168b8",
   "metadata": {},
   "outputs": [
    {
     "ename": "",
     "evalue": "",
     "output_type": "error",
     "traceback": [
      "\u001b[1;31mFailed to start the Kernel. \n",
      "Unable to start Kernel 'base (Python 3.11.7)' due to connection timeout. \n",
      "View Jupyter <a href='command:jupyter.viewOutput'>log</a> for further details."
     ]
    }
   ],
   "source": [
    "#Q9. str1 = 'virat.kohli@rcb.com, 'Rohit.sharma@mi.com, KL.Rahul@lucknow.com'\n",
    "# Firstname =[] second name =[] cname =[]\n",
    "# append first name should be in first name list\n",
    "# second name should be in secoind name list\n",
    "# third  name will be in thrid name list "
   ]
  },
  {
   "cell_type": "code",
   "execution_count": null,
   "id": "4c53beda-d673-4efc-b6b4-fa4c786477ef",
   "metadata": {},
   "outputs": [
    {
     "ename": "",
     "evalue": "",
     "output_type": "error",
     "traceback": [
      "\u001b[1;31mFailed to start the Kernel. \n",
      "Unable to start Kernel 'base (Python 3.11.7)' due to connection timeout. \n",
      "View Jupyter <a href='command:jupyter.viewOutput'>log</a> for further details."
     ]
    }
   ],
   "source": [
    "string1 = 'virat.kohli@rcb.com, Rohit.sharma@mi.com, KL.Rahul@lucknow.com'\n",
    "first_name, second_name, cname = [], [], []\n",
    "string_list = string1.split(\", \")\n",
    "for i in string_list:\n",
    "    split_list = i.split(\"@\")\n",
    "    first = split_list[0].split(\".\")[0]\n",
    "    second = split_list[0].split(\".\")[-1]\n",
    "    company = split_list[-1].split('.')[0]\n",
    "    first_name.append(first)\n",
    "    second_name.append(second)\n",
    "    cname.append(company)\n",
    "\n",
    "print(f\"First name list: {first_name}\")\n",
    "print(f\"Second name list: {second_name}\")\n",
    "print(f\"Company name list: {cname}\")"
   ]
  },
  {
   "cell_type": "code",
   "execution_count": null,
   "id": "1f9c0bab-fbd3-4bcd-a6e4-877d9736782e",
   "metadata": {},
   "outputs": [
    {
     "ename": "",
     "evalue": "",
     "output_type": "error",
     "traceback": [
      "\u001b[1;31mFailed to start the Kernel. \n",
      "Unable to start Kernel 'base (Python 3.11.7)' due to connection timeout. \n",
      "View Jupyter <a href='command:jupyter.viewOutput'>log</a> for further details."
     ]
    }
   ],
   "source": [
    "#Q10. you have two lists\n",
    "# qns = ['What is capital of India',\n",
    "#        'Who is PM of India,\n",
    "#        'WHo is ICT ODI captian']\n",
    "#ans = [\"Delhi', 'Modi', 'Rohit']\n",
    "#for i in qns:\n",
    "#    print(i)\n",
    "#    ans = delhi\n",
    "#    index shouild match\n",
    "#    delhi, modi should not match ans (case sensitive)\n",
    "#    mark = mark +1\n",
    "#    print the total mark"
   ]
  },
  {
   "cell_type": "code",
   "execution_count": null,
   "id": "fa520c2d-b16e-40dc-9f40-376a08ca850a",
   "metadata": {},
   "outputs": [
    {
     "ename": "",
     "evalue": "",
     "output_type": "error",
     "traceback": [
      "\u001b[1;31mFailed to start the Kernel. \n",
      "Unable to start Kernel 'base (Python 3.11.7)' due to connection timeout. \n",
      "View Jupyter <a href='command:jupyter.viewOutput'>log</a> for further details."
     ]
    }
   ],
   "source": [
    "qns = ['What is capital of India?',\n",
    "        'Who is PM of India?',\n",
    "        'Who is ICT ODI captian?']\n",
    "answers = ['Delhi', 'Modi', 'Rohit']\n",
    "mark = 0\n",
    "for i in qns:\n",
    "    print(i)\n",
    "    ans = str(input())\n",
    "    if ans in answers:\n",
    "        if qns.index(i) == answers.index(ans):\n",
    "            mark = mark + 1\n",
    "print(f\"Total mark: {mark}\")"
   ]
  },
  {
   "cell_type": "code",
   "execution_count": null,
   "id": "2cb405ac-56ea-49d0-88a3-d9bee447fec5",
   "metadata": {},
   "outputs": [
    {
     "ename": "",
     "evalue": "",
     "output_type": "error",
     "traceback": [
      "\u001b[1;31mFailed to start the Kernel. \n",
      "Unable to start Kernel 'base (Python 3.11.7)' due to connection timeout. \n",
      "View Jupyter <a href='command:jupyter.viewOutput'>log</a> for further details."
     ]
    }
   ],
   "source": [
    "string1 = 'hello im learning python'\n",
    "cap_list = []\n",
    "split_str = string1.split(' ')\n",
    "for s in split_str:\n",
    "    cap_list.append(s.capitalize())\n",
    "    out = ' '.join(cap_list)\n",
    "out"
   ]
  },
  {
   "cell_type": "code",
   "execution_count": null,
   "id": "998143b0-53da-43e8-9dec-f752134b1e28",
   "metadata": {},
   "outputs": [
    {
     "ename": "",
     "evalue": "",
     "output_type": "error",
     "traceback": [
      "\u001b[1;31mFailed to start the Kernel. \n",
      "Unable to start Kernel 'base (Python 3.11.7)' due to connection timeout. \n",
      "View Jupyter <a href='command:jupyter.viewOutput'>log</a> for further details."
     ]
    }
   ],
   "source": [
    "qns = ['What is capital of India?',\n",
    "        'Who is PM of India?',\n",
    "        'Who is ICT ODI captian?']\n",
    "answers = ['Delhi', 'Modi', 'Rohit']\n",
    "mark = 0\n",
    "for i in range(len(qns)):\n",
    "    ans = str(input(qns[i]))\n",
    "    if ans.lower() == qns[i].lower():\n",
    "        mark = mark + 1\n",
    "    else:\n",
    "        print('Wrong answer')\n",
    "print(f\"Total mark: {mark}\")"
   ]
  },
  {
   "cell_type": "code",
   "execution_count": null,
   "id": "b1e71894",
   "metadata": {},
   "outputs": [
    {
     "ename": "",
     "evalue": "",
     "output_type": "error",
     "traceback": [
      "\u001b[1;31mFailed to start the Kernel. \n",
      "Unable to start Kernel 'base (Python 3.11.7)' due to connection timeout. \n",
      "View Jupyter <a href='command:jupyter.viewOutput'>log</a> for further details."
     ]
    }
   ],
   "source": []
  }
 ],
 "metadata": {
  "kernelspec": {
   "display_name": "Python 3 (ipykernel)",
   "language": "python",
   "name": "python3"
  },
  "language_info": {
   "codemirror_mode": {
    "name": "ipython",
    "version": 3
   },
   "file_extension": ".py",
   "mimetype": "text/x-python",
   "name": "python",
   "nbconvert_exporter": "python",
   "pygments_lexer": "ipython3",
   "version": "3.11.7"
  },
  "vscode": {
   "interpreter": {
    "hash": "904ffc7da6747c078a8d3a42e21fac23d2d5e3e3f1f8391eedf26944978f6311"
   }
  }
 },
 "nbformat": 4,
 "nbformat_minor": 5
}
