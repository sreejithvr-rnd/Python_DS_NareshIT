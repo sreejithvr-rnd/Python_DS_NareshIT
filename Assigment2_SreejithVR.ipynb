{
 "cells": [
  {
   "cell_type": "code",
   "execution_count": 55,
   "id": "f232fda6-4dfd-4b55-9233-7ec8eafd5d9c",
   "metadata": {},
   "outputs": [],
   "source": [
    "import random\n",
    "import time"
   ]
  },
  {
   "cell_type": "markdown",
   "id": "716c3183-0c4a-46ef-ad01-f3a49e45f693",
   "metadata": {},
   "source": [
    "*1. Ask the user to enter a number. Print out the square of the number, \r\n",
    "Sample output is shown below.\r\n",
    "Enter a number: 5\r\n",
    "The square of 5 is* 25."
   ]
  },
  {
   "cell_type": "code",
   "execution_count": 15,
   "id": "7a92dd4c-9473-4dda-ae74-e5774b183238",
   "metadata": {},
   "outputs": [
    {
     "name": "stdout",
     "output_type": "stream",
     "text": [
      "The square of 97 is 9409.\n"
     ]
    }
   ],
   "source": [
    "input_num  = random.randint(0, 100)\n",
    "sqr = input_num * input_num\n",
    "print(f\"The square of {input_num} is {sqr}.\")"
   ]
  },
  {
   "cell_type": "markdown",
   "id": "f526aa41-a570-4c1d-993f-b0c052184290",
   "metadata": {},
   "source": [
    "*2. Ask the user to enter a number x. print out x, 2x, 3x, 4x, and 5x, each separated by three dashes, like below.\n",
    "Enter a number: 7\n",
    "7---14---21---28---35*"
   ]
  },
  {
   "cell_type": "code",
   "execution_count": 76,
   "id": "1f75de96-5a78-4e09-b5f9-2009ea709209",
   "metadata": {},
   "outputs": [
    {
     "name": "stdout",
     "output_type": "stream",
     "text": [
      "Random  number:37\n",
      "72---144---216---288---360\n"
     ]
    }
   ],
   "source": [
    "input_num = random.randint(0, 100)\n",
    "print(f\"Random  number:{input_wt}\")\n",
    "print(input_num, input_num*2, input_num*3, input_num*4, input_num*5, sep=\"---\")"
   ]
  },
  {
   "cell_type": "markdown",
   "id": "8a65eec0-7dfb-41ab-8762-c9cf46e74399",
   "metadata": {},
   "source": [
    "*3. Write a program that asks the user for a weight in kilograms and converts it to pounds. There are 2.2 pounds in a kilogram.*"
   ]
  },
  {
   "cell_type": "code",
   "execution_count": 78,
   "id": "b985a170-fdc0-499c-9632-359901301f07",
   "metadata": {},
   "outputs": [
    {
     "name": "stdout",
     "output_type": "stream",
     "text": [
      "Random the Weight in K.g:79\n",
      "79 kilograms equal to 173.8 pounds\n"
     ]
    }
   ],
   "source": [
    "input_wt = random.randint(0, 100)\n",
    "print(f\"Random the Weight in K.g:{input_wt}\")\n",
    "out_wt = input_wt *  2.2\n",
    "print(f\"{input_wt} kilograms equal to {out_wt} pounds\")"
   ]
  },
  {
   "cell_type": "markdown",
   "id": "8c3e03a1-28ee-4133-884e-3cb921797939",
   "metadata": {},
   "source": [
    "*4. Write a program that asks the user to enter three numbers (use three separate input statements).Create variables called total and average\n",
    "that hold the sum and average of the three numbers and print out the values of total and average.*"
   ]
  },
  {
   "cell_type": "code",
   "execution_count": 57,
   "id": "9ce1c49a-77b9-45e7-9d6d-370d346f4007",
   "metadata": {},
   "outputs": [
    {
     "name": "stdout",
     "output_type": "stream",
     "text": [
      "Random fist number:46\n",
      "Random second number:100\n",
      "Random third number:68\n",
      "Total of 3 inputs is: 214\n",
      "Avarage is : 71.33333333333333\n"
     ]
    }
   ],
   "source": [
    "input1 = random.randint(0, 100)\n",
    "print(f\"Random fist number:{input1}\")\n",
    "input2 = random.randint(0, 100)\n",
    "print(f\"Random second number:{input2}\")\n",
    "input3 = random.randint(0, 100)\n",
    "print(f\"Random third number:{input3}\")\n",
    "total = input1 + input2 + input3\n",
    "average = (total / 3)\n",
    "print(f'Total of 3 inputs is: {total}')\n",
    "print(f'Avarage is : {average}')"
   ]
  },
  {
   "cell_type": "markdown",
   "id": "1eaef5a9-b22b-4982-9da9-585f6ab649e2",
   "metadata": {},
   "source": [
    "*5. A lot of cell phones have tip calculators. Write one. Ask the user for the price of the meal and the percent tip they want to leave. Then\n",
    "print both the tip amount and the total bill with the tip included.*"
   ]
  },
  {
   "cell_type": "code",
   "execution_count": 59,
   "id": "c4b3aeea-88a7-4f8f-850c-293bfd4b7a66",
   "metadata": {},
   "outputs": [
    {
     "name": "stdout",
     "output_type": "stream",
     "text": [
      "Price of the Meal:151\n",
      "Meal amount is:151\n",
      "Tip amount is 4% of meal: 2.6490066225165565\n",
      "==================================\n",
      "Total amount: 153.64900662251657\n"
     ]
    }
   ],
   "source": [
    "meal_price = random.randint(100, 500)\n",
    "print(f\"Price of the Meal:{meal_price}\")\n",
    "tip = random.randint(1, 100)\n",
    "round(tip)\n",
    "tip_amount = (tip/meal_price) * 100\n",
    "print(f\"Meal amount is:{meal_price}\")\n",
    "print(f\"Tip amount is {tip}% of meal: {tip_amount}\")\n",
    "print(\"==================================\")\n",
    "print(f\"Total amount: {meal_price + tip_amount}\")"
   ]
  },
  {
   "cell_type": "markdown",
   "id": "cd867dd3-e4a9-40f7-9af4-4597cde276ad",
   "metadata": {},
   "source": [
    "*6. wap ask the user enter the 2 numbers find the subtraction,addition, multiplication and division*"
   ]
  },
  {
   "cell_type": "code",
   "execution_count": 66,
   "id": "5f793e9b-f17d-4585-9565-96e12dd3abba",
   "metadata": {},
   "outputs": [
    {
     "name": "stdout",
     "output_type": "stream",
     "text": [
      "Random First Number:27\n",
      "Random Second Number:65\n",
      "27 - 65 = -38\n",
      "27 + 65 = 92\n",
      "27 * 65 = 1755\n",
      "27 / 65 = 0.4153846153846154\n"
     ]
    }
   ],
   "source": [
    "first_num  = random.randint(1, 100)\n",
    "print(f\"Random First Number:{first_num}\")\n",
    "second_num = random.randint(1, 100)\n",
    "print(f\"Random Second Number:{second_num}\")\n",
    "sub = first_num - second_num\n",
    "add = first_num + second_num\n",
    "mul = first_num * second_num\n",
    "div = first_num / second_num\n",
    "print(f'{first_num} - {second_num} = {sub}') \n",
    "print(f'{first_num} + {second_num} = {add}') \n",
    "print(f'{first_num} * {second_num} = {mul}') \n",
    "print(f'{first_num} / {second_num} = {div}') "
   ]
  },
  {
   "cell_type": "markdown",
   "id": "363c9bdf-96da-4861-8ed1-23f4fae97060",
   "metadata": {},
   "source": [
    "*7. wap ask the user enter radius values and pi value find the area of the circle*"
   ]
  },
  {
   "cell_type": "code",
   "execution_count": 43,
   "id": "8b8e8ca5-6a9e-4c79-be68-5af8c8f531c1",
   "metadata": {},
   "outputs": [
    {
     "name": "stdout",
     "output_type": "stream",
     "text": [
      "Random Radius Value:33\n",
      "Area of circle with radius of 33 is : 207.24\n"
     ]
    }
   ],
   "source": [
    "radius = random.randint(1, 100)\n",
    "print(f\"Random Radius Value:{radius}\")\n",
    "pi = 3.14\n",
    "area = 2* radius * pi\n",
    "print(f\"Area of circle with radius of {radius} is : {area}\")"
   ]
  },
  {
   "cell_type": "markdown",
   "id": "5224ccdf-c028-44f3-bfa5-b5629415c8dd",
   "metadata": {},
   "source": [
    "*8. wap ask the user bill amount in dollars, ask the user enter how much indian rupees for one dollar print the bill amount in rupees*"
   ]
  },
  {
   "cell_type": "code",
   "execution_count": 74,
   "id": "a0f7f6a4-cfe9-4811-8784-e380be6e0e25",
   "metadata": {},
   "outputs": [
    {
     "name": "stdout",
     "output_type": "stream",
     "text": [
      "Random amount in $:489\n",
      "Random INR amount for $1 is:80\n",
      "Total Bill Amount is Rs.39120/-.\n"
     ]
    }
   ],
   "source": [
    "bill_amount = random.randint(1, 1000)\n",
    "print(f\"Random amount in $:{bill_amount}\")\n",
    "ex_rate = random.randint(80, 90)\n",
    "print(f\"Random INR amount for $1 is:{ex_rate}\")\n",
    "total = bill_amount * ex_rate\n",
    "print(f\"Total Bill Amount is Rs.{total}/-.\")"
   ]
  },
  {
   "cell_type": "markdown",
   "id": "bbaa0acc-f42f-4f4c-b18b-d5ad7f1a161c",
   "metadata": {},
   "source": [
    "*9. wap ask the user enter base height calculate area of the triangle*"
   ]
  },
  {
   "cell_type": "code",
   "execution_count": 70,
   "id": "5dbaca7c-39e7-489a-943a-669f83c5fc9c",
   "metadata": {},
   "outputs": [
    {
     "name": "stdout",
     "output_type": "stream",
     "text": [
      "Random Height:17\n",
      "Random base:96\n",
      "Area of triangle with height 17 and base 96 is 816.0\n"
     ]
    }
   ],
   "source": [
    "height = random.randint(1, 100)\n",
    "print(f\"Random Height:{height}\")\n",
    "base = random.randint(1, 100)\n",
    "print(f\"Random base:{base}\")\n",
    "area = 0.5 * height * base\n",
    "print(f\"Area of triangle with height {height} and base {base} is {area}\")"
   ]
  },
  {
   "cell_type": "markdown",
   "id": "5f5e50d6-2ac4-403d-b365-5d97de75bc49",
   "metadata": {},
   "source": [
    "*10. wap ask the user enter length and breadth calculate area of the rectangle*"
   ]
  },
  {
   "cell_type": "code",
   "execution_count": 68,
   "id": "27b4ced0-46ff-40be-8d68-ec10c682ba0b",
   "metadata": {},
   "outputs": [
    {
     "name": "stdout",
     "output_type": "stream",
     "text": [
      "Random length:67\n",
      "Random breadth:56\n",
      "Area of a rectangle with length 67 and breadth 56 is 3752\n"
     ]
    }
   ],
   "source": [
    "length = random.randint(1, 100)\n",
    "print(f\"Random length:{length}\")\n",
    "breadth = random.randint(1, 100)\n",
    "print(f\"Random breadth:{breadth}\")\n",
    "area = length * breadth\n",
    "print(f\"Area of a rectangle with length {length} and breadth {breadth} is {area}\")"
   ]
  },
  {
   "cell_type": "markdown",
   "id": "1e82b927-142f-417c-a8fb-5d2a3a6a8693",
   "metadata": {},
   "source": [
    "*11. Let’s create a story between Father and daughter , You need to create a story by using print and input keywords\n",
    "You need to develop a python code same like below steps. The goal of this code is to understand python is step by step process*\n",
    " - *Step-1: input(“ Father: Hey Baby!”)*\n",
    " - *Step-2: input(“Daughter: Hello Dady”)*\n",
    " - *Step-3: input(“Father: I heard your exams are over, what about result”)*\n",
    " - *Step-4: input(“Daughter: Yes dad! Results are out.”)*\n",
    " - *Step-5: input(“Father: what is the percentage?”)*\n",
    " - *Step-6: input(“Daughter: I will give my subject wise marks , you tell me the percentage”)*\n",
    " - *Step-7: input(“Father : Okay!)*\n",
    " - *Step-8: sub1=eval(input(“First Language:”))*\n",
    " - *Step-9: sub2=eval(input(“Second language:”))*\n",
    " - *Step-10: sub3=eval(input(“Third language:”))*\n",
    " - *Step-11: sub4=eval(input(“Science:”))*\n",
    " - *Step-12: sub5=eval(input(“Maths:”))*\n",
    " - *Step-13: Daughter: Dad Now tell me how much percentage I got*\n",
    " - *Step-14: Father: Tell me the max marks of each subject*\n",
    " - *Step-15: max_marks=eval(input(“Daughter:”)) give=100*\n",
    " - *Step-16: calculate the percentage of marks and print it*"
   ]
  },
  {
   "cell_type": "code",
   "execution_count": 51,
   "id": "d106035b-f4ee-4e14-9c85-1bffc6d8676c",
   "metadata": {},
   "outputs": [
    {
     "name": "stdin",
     "output_type": "stream",
     "text": [
      "Father: Hey Baby!\n",
      "Daughter: Hello Dady\n",
      "Father: I heard your exams are over, what about result\n",
      "Daughter: Yes dad! Results are out.\n",
      "Father: what is the percentage?\n",
      "Daughter:  I will give my subject wise marks , you tell me the percentage\n",
      "Father: Okay!\n"
     ]
    },
    {
     "name": "stdout",
     "output_type": "stream",
     "text": [
      "First Language:86\n",
      "Second language:70\n",
      "Third language:71\n",
      "Science:97\n",
      "Maths:54\n"
     ]
    },
    {
     "name": "stdin",
     "output_type": "stream",
     "text": [
      "Daughter: Dad Now tell me how much percentage I got\n",
      "Father: Tell me the max marks of each subject\n"
     ]
    },
    {
     "name": "stdout",
     "output_type": "stream",
     "text": [
      "Daughter:100\n",
      "Father: Your total mark is 378 out of 500, which means you got 75.6%.\n"
     ]
    }
   ],
   "source": [
    "input(\"Father:\")\n",
    "time.sleep(2)\n",
    "input(\"Daughter:\")\n",
    "time.sleep(2)\n",
    "input(\"Father:\")\n",
    "time.sleep(2)\n",
    "input(\"Daughter:\")\n",
    "time.sleep(2)\n",
    "input(\"Father:\")\n",
    "time.sleep(2)\n",
    "input(\"Daughter:\")\n",
    "time.sleep(2)\n",
    "input(\"Father:\")\n",
    "time.sleep(2)\n",
    "sub1 = random.randint(50, 100)\n",
    "print(f\"First Language:{sub1}\")\n",
    "time.sleep(2)\n",
    "sub2 = random.randint(50, 100)\n",
    "print(f\"Second language:{sub2}\")\n",
    "time.sleep(2)\n",
    "sub3 = random.randint(50, 100)\n",
    "print(f\"Third language:{sub3}\")\n",
    "time.sleep(2)\n",
    "sub4 = random.randint(50, 100)\n",
    "print(f\"Science:{sub4}\")\n",
    "time.sleep(2)\n",
    "sub5 = random.randint(50, 100)\n",
    "print(f\"Maths:{sub5}\")\n",
    "time.sleep(2)\n",
    "input(\"Daughter:\")\n",
    "time.sleep(2)\n",
    "input(\"Father:\")\n",
    "time.sleep(2)\n",
    "max_marks = random.randint(100, 100)\n",
    "print(f\"Daughter:{max_marks}\")\n",
    "time.sleep(2)\n",
    "all_sub_total = sub1 + sub2 + sub3 + sub4 + sub5\n",
    "all_sub_max = max_marks * 5\n",
    "percentage = (all_sub_total/all_sub_max) * 100\n",
    "print(f\"Father: Your total mark is {all_sub_total} out of {all_sub_max}, which means you got {percentage}%.\")"
   ]
  },
  {
   "cell_type": "code",
   "execution_count": null,
   "id": "a89f018e-f7e4-4514-a9c5-0f562b1aaa26",
   "metadata": {},
   "outputs": [],
   "source": []
  }
 ],
 "metadata": {
  "kernelspec": {
   "display_name": "Python 3 (ipykernel)",
   "language": "python",
   "name": "python3"
  },
  "language_info": {
   "codemirror_mode": {
    "name": "ipython",
    "version": 3
   },
   "file_extension": ".py",
   "mimetype": "text/x-python",
   "name": "python",
   "nbconvert_exporter": "python",
   "pygments_lexer": "ipython3",
   "version": "3.11.7"
  }
 },
 "nbformat": 4,
 "nbformat_minor": 5
}
