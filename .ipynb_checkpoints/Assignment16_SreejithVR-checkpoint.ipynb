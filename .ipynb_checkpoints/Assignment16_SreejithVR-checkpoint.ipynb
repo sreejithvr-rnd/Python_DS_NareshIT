{
 "cells": [
  {
   "cell_type": "markdown",
   "metadata": {},
   "source": [
    "*1. Write a program that asks the user to enter a string. The program should then print the following:*\n",
    "- *(a) The total number of characters in the string*\n",
    "- *(b) The string repeated 10 times*\n",
    "- *(c) The first character of the string (remember that string indices start at 0)*\n",
    "- *(d) The first three characters of the string*\n",
    "- *(e) The last three characters of the string*\n",
    "- *(f) The string backwards*\n",
    "- *(g) The seventh character of the string if the string is long enough and a message otherwise*\n",
    "- *(h) The string with its first and last characters removed*\n",
    "- *(i) The string in all caps*\n",
    "- *(j) The string with every a replaced with an e*"
   ]
  },
  {
   "cell_type": "code",
   "execution_count": 38,
   "metadata": {},
   "outputs": [
    {
     "name": "stdin",
     "output_type": "stream",
     "text": [
      "Write string character\n"
     ]
    },
    {
     "name": "stdout",
     "output_type": "stream",
     "text": [
      "Total number of characters: 9\n",
      "The string repeated 10 times: charactercharactercharactercharactercharactercharactercharactercharactercharactercharacter\n",
      "The first character of the string: c\n",
      "The first three characters of the string: cha\n",
      "Last three characters of the string: ter\n",
      "The string backwards: retcarahc\n",
      "The seventh caracter of the string: t\n",
      "The string with its first and last characters removed: haracte\n",
      "The string in all Caps: CHARACTER\n",
      "The string with every a replaced with an e: cherecter\n"
     ]
    }
   ],
   "source": [
    "string1 = str(input('Write string'))\n",
    "print(f'Total number of characters: {len(string1)}') \n",
    "print(f'The string repeated 10 times: {string1 * 10}')\n",
    "print(f'The first character of the string: {string1[0]}')\n",
    "print(f'The first three characters of the string: {string1[:3]}')\n",
    "print(f'Last three characters of the string: {string1[-3:]}')\n",
    "print(f'The string backwards: {\"\".join(list(reversed(string1)))}')\n",
    "if len(string1) >= 7: print(f'The seventh caracter of the string: {string1[6]}')\n",
    "else: print('The string less than 7 characters')\n",
    "print(f'The string with its first and last characters removed: {string1[1:-1]}')\n",
    "print(f'The string in all Caps: {string1.upper()}')\n",
    "print(f'The string with every a replaced with an e: {string1.replace(\"a\", \"e\")}')\n"
   ]
  },
  {
   "cell_type": "markdown",
   "metadata": {},
   "source": [
    "*2. A simple way to estimate the number of words in a string is to count the number of spaces in the\n",
    "string. Write a program that asks the user for a string and returns an estimate of how many words\n",
    "are in the string.\n",
    "Tip: You need to count the number of words using spaces*"
   ]
  },
  {
   "cell_type": "code",
   "execution_count": 40,
   "metadata": {},
   "outputs": [
    {
     "name": "stdin",
     "output_type": "stream",
     "text": [
      "Enter the string: You need to count the number of words using spaces\n"
     ]
    },
    {
     "name": "stdout",
     "output_type": "stream",
     "text": [
      "String: \"You need to count the number of words using spaces\"\n",
      "Total Count of the words in given string is 10\n"
     ]
    }
   ],
   "source": [
    "string1 = input('Enter the string:')\n",
    "print(f'String: \"{string1}\"')\n",
    "total_count = string1.count(\" \") + 1\n",
    "print(f'Total Count of the words in given string is {total_count}')"
   ]
  },
  {
   "cell_type": "markdown",
   "metadata": {},
   "source": [
    "*3.Write a program that asks the user to enter a word and prints out whether that word contains any\n",
    "vowels.*"
   ]
  },
  {
   "cell_type": "code",
   "execution_count": 42,
   "metadata": {},
   "outputs": [
    {
     "name": "stdin",
     "output_type": "stream",
     "text": [
      "Enter the word: characters\n"
     ]
    },
    {
     "name": "stdout",
     "output_type": "stream",
     "text": [
      "Vowels contained in the given word \"characters\" contained vowels: aae\n"
     ]
    }
   ],
   "source": [
    "string1 = input('Enter the word:')\n",
    "vowels = ''\n",
    "for i in string1:\n",
    "    if i in 'aeiou': vowels += i\n",
    "print(f'Vowels contained in the given word \"{string1}\" contained vowels: {vowels}')    \n",
    "        "
   ]
  },
  {
   "cell_type": "markdown",
   "metadata": {},
   "source": [
    "*4. Improvise above code by providing unique vowels*"
   ]
  },
  {
   "cell_type": "code",
   "execution_count": 44,
   "metadata": {},
   "outputs": [
    {
     "name": "stdin",
     "output_type": "stream",
     "text": [
      "Enter the word: characters\n"
     ]
    },
    {
     "name": "stdout",
     "output_type": "stream",
     "text": [
      "Vowels contained in the given word \"characters\" contained vowels: a:2, e:1, i:0, o:0, u:0\n"
     ]
    }
   ],
   "source": [
    "string1 = input('Enter the word:')\n",
    "a, e, i, o, u = '', '', '', '', ''\n",
    "for s in string1:\n",
    "    if s == 'a': a += s\n",
    "    elif s == 'e': e += s\n",
    "    elif s == 'i': i += s\n",
    "    elif s == 'o': o += s\n",
    "    elif s == 'u': u += s\n",
    "print(f'Vowels contained in the given word \"{string1}\" contained vowels: a:{len(a)}, e:{len(e)}, i:{len(i)}, o:{len(o)}, u:{len(u)}') "
   ]
  },
  {
   "cell_type": "markdown",
   "metadata": {},
   "source": [
    "*5. Write a program that asks the user to enter a string. The program should create a new string\n",
    "called new_string from the user’s string such that the second character is changed to an asterisk and\n",
    "three exclamation points are attached to the end of the string. Finally, print new_string.*\n",
    "- *Typical output is shown below:*\n",
    "  - *Enter your string: Qbert*\n",
    "  - Output: Q*ert!!!\n"
   ]
  },
  {
   "cell_type": "code",
   "execution_count": 47,
   "metadata": {},
   "outputs": [
    {
     "name": "stdin",
     "output_type": "stream",
     "text": [
      "Enter the word: Qbert\n"
     ]
    },
    {
     "name": "stdout",
     "output_type": "stream",
     "text": [
      "Q*ert!!!\n"
     ]
    }
   ],
   "source": [
    "string1 = input('Enter the word:')\n",
    "new_string = string1.replace(string1[1], '*') + \"!!!\"\n",
    "print(new_string)"
   ]
  },
  {
   "cell_type": "markdown",
   "metadata": {},
   "source": [
    "*6. Write a program that asks the user to enter a word and determines whether the word is a\n",
    "palindrome or not. A palindrome is a word that reads the same backwards as forwards*"
   ]
  },
  {
   "cell_type": "code",
   "execution_count": 49,
   "metadata": {},
   "outputs": [
    {
     "name": "stdin",
     "output_type": "stream",
     "text": [
      "Enter the word: MALAYALAM\n"
     ]
    },
    {
     "name": "stdout",
     "output_type": "stream",
     "text": [
      "Word MALAYALAM is palindrome\n"
     ]
    }
   ],
   "source": [
    "string1 = input(\"Enter the word:\")\n",
    "string2 = \"\".join(reversed(string1))\n",
    "if string1 == string2: print(f\"Word {string1} is palindrome\")   \n",
    "else: print(f\"Word '{string1}' is Not a palindrome\")   "
   ]
  },
  {
   "cell_type": "markdown",
   "metadata": {},
   "source": [
    "*7. At a certain school, student email addresses end with @student.college.edu, while professor\n",
    "email addresses end with @prof.college.edu. Write a program that first asks the user how many\n",
    "email addresses they will be entering, and then has the user enter those addresses. After all the\n",
    "email addresses are entered, the program should print out a message indicating either that all the\n",
    "addresses are student addresses or that there were some professor addresses entered.*"
   ]
  },
  {
   "cell_type": "code",
   "execution_count": 61,
   "metadata": {},
   "outputs": [
    {
     "name": "stdin",
     "output_type": "stream",
     "text": [
      "Total number of addresses going to enter: 3\n",
      "Enter email ID: tom@student.college.edu\n",
      "Enter email ID: helen@student.college.edu\n",
      "Enter email ID: omkar@prof.college.edu\n"
     ]
    },
    {
     "name": "stdout",
     "output_type": "stream",
     "text": [
      "There was/were 1 professor addresses entered\n"
     ]
    }
   ],
   "source": [
    "total_count = eval(input(\"Total number of addresses going to enter:\"))\n",
    "prof_count = 0\n",
    "for i in range(total_count):\n",
    "    address = input(\"Enter email ID:\")\n",
    "    if address.split('@')[-1] == 'prof.college.edu':\n",
    "        prof_count = prof_count + 1\n",
    "\n",
    "if prof_count > 0:\n",
    "    print(f'There was/were {prof_count} professor addresses entered')\n",
    "else:\n",
    "    print(\"All the addresses are students addresses\")\n",
    "    "
   ]
  },
  {
   "cell_type": "markdown",
   "metadata": {},
   "source": [
    "*8. Write a program that asks the user to enter a string, then prints out each letter of the string\n",
    "doubled and on a separate line. For instance,*\n",
    "- *if the user entered HEY,*\n",
    "- *the output would be*\n",
    "  - *HH*\n",
    "  - *EE*\n",
    "  - *YY*"
   ]
  },
  {
   "cell_type": "code",
   "execution_count": 1,
   "metadata": {},
   "outputs": [
    {
     "name": "stdin",
     "output_type": "stream",
     "text": [
      "Enter the word: HI\n"
     ]
    },
    {
     "name": "stdout",
     "output_type": "stream",
     "text": [
      "HH\n",
      "II\n"
     ]
    }
   ],
   "source": [
    "string1 = input(\"Enter the word:\")\n",
    "for i in string1:\n",
    "    print(i*2, end=\"\\n\")"
   ]
  },
  {
   "cell_type": "markdown",
   "metadata": {},
   "source": [
    "*9.Write a program that asks the user to enter a word that contains the letter a. The program should\n",
    "then print the following two lines: On the first line should be the part of the string up to and\n",
    "including the the first a, and on the second line should be the rest of the string.\n",
    "Sample output is shown below:*\n",
    "- *Enter a word: buffalo*\n",
    "- *buffa*\n",
    "- *lo*"
   ]
  },
  {
   "cell_type": "code",
   "execution_count": 65,
   "metadata": {},
   "outputs": [
    {
     "name": "stdin",
     "output_type": "stream",
     "text": [
      "Enter the word: buffalo\n"
     ]
    },
    {
     "name": "stdout",
     "output_type": "stream",
     "text": [
      "buffa\n",
      "lo\n"
     ]
    }
   ],
   "source": [
    "string1 = input(\"Enter the word:\")\n",
    "new_string =''\n",
    "for i in string1:\n",
    "    if i == 'a': \n",
    "        new_string = new_string + i + '\\n'\n",
    "    else: \n",
    "        new_string = new_string + i\n",
    "print(new_string)"
   ]
  },
  {
   "cell_type": "markdown",
   "metadata": {},
   "source": [
    "*10. Write a program that asks the user to enter a word and then capitalizes every other letter of that word.* \n",
    "- *So if the user enters rhinoceros,*\n",
    "- *the program should print rHiNoCeRoS.*"
   ]
  },
  {
   "cell_type": "code",
   "execution_count": 68,
   "metadata": {},
   "outputs": [
    {
     "name": "stdin",
     "output_type": "stream",
     "text": [
      "Enter the word: rhinoceros\n"
     ]
    },
    {
     "name": "stdout",
     "output_type": "stream",
     "text": [
      "rHiNoCeRoS\n"
     ]
    }
   ],
   "source": [
    "string1 = input(\"Enter the word:\")\n",
    "new_string = ''\n",
    "for i in range(len(string1)):\n",
    "    if i%2 == 0:\n",
    "        new_string = new_string + string1[i]\n",
    "    else:\n",
    "        new_string = new_string + string1[i].upper()\n",
    "print(new_string)\n"
   ]
  },
  {
   "cell_type": "markdown",
   "metadata": {},
   "source": [
    "*11. Write a program that asks the user to enter two strings of the same length. The program should\n",
    "then check to see if the strings are of the same length. If they are not, the program should print an\n",
    "appropriate message and exit. If they are of the same length, the program should alternate the\n",
    "characters of the two strings. For example,*\n",
    "- *if the user enters abcde and ABCDE*\n",
    "- *the program should print out AaBbCcDdEe.*"
   ]
  },
  {
   "cell_type": "code",
   "execution_count": 70,
   "metadata": {},
   "outputs": [
    {
     "name": "stdin",
     "output_type": "stream",
     "text": [
      "Enter the first string: abcde\n",
      "Enter the second string: ABCDE\n"
     ]
    },
    {
     "name": "stdout",
     "output_type": "stream",
     "text": [
      "AaBbCcDdEe\n"
     ]
    }
   ],
   "source": [
    "string1 = input(\"Enter the first string:\")\n",
    "string2 = input(\"Enter the second string:\")\n",
    "string3 = ''\n",
    "if len(string1) == len(string2):\n",
    "    for i in range(len(string1)):\n",
    "            string3 = string3 + string2[i]\n",
    "            string3 = string3 + string1[i]\n",
    "else:\n",
    "    print(\"Length of two strings are not matching.\")\n",
    "print(string3)"
   ]
  },
  {
   "cell_type": "markdown",
   "metadata": {},
   "source": [
    "*12. Write a program that asks the user to enter their name in lowercase and then capitalizes the first letter of each word of their name.*"
   ]
  },
  {
   "cell_type": "code",
   "execution_count": 72,
   "metadata": {},
   "outputs": [
    {
     "name": "stdin",
     "output_type": "stream",
     "text": [
      "Enter the name in lowercase: sreejith\n"
     ]
    },
    {
     "name": "stdout",
     "output_type": "stream",
     "text": [
      "Sreejith\n"
     ]
    }
   ],
   "source": [
    "string1 = input(\"Enter the name in lowercase:\")\n",
    "print(string1.capitalize())"
   ]
  },
  {
   "cell_type": "markdown",
   "metadata": {},
   "source": [
    "*13. The goal of this exercise is to see if you can mimic the behavior of the in operator and the count and index methods using only variables, for loops, and if statements.*\n",
    "- *(a) Without using the in operator, write a program that asks the user for a string and a letter and prints out whether or not the letter appears in the string.*\n",
    "- *(b) Without using the count method, write a program that asks the user for a string and a letter and counts how many occurrences there are of the letter in the string.*\n",
    "- *(c) Without using the index method, write a program that asks the user for a string and a letter and prints out the index of the first occurrence of the letter in the string. If the letter is not in the string, the program should say so.*"
   ]
  },
  {
   "cell_type": "code",
   "execution_count": 74,
   "metadata": {},
   "outputs": [
    {
     "name": "stdin",
     "output_type": "stream",
     "text": [
      "Enter the string: python\n",
      "Enter the letter to find: y\n"
     ]
    },
    {
     "name": "stdout",
     "output_type": "stream",
     "text": [
      "Letter 'y' appears in the string 'python'\n"
     ]
    }
   ],
   "source": [
    "#13 a\n",
    "string1 = input(\"Enter the string:\")\n",
    "letter =  input(\"Enter the letter to find:\")\n",
    "status = False\n",
    "for i in string1:\n",
    "    if i == letter:\n",
    "        status = True\n",
    "if status: print(f\"Letter '{letter}' appears in the string '{string1}'\")\n",
    "else: print(f\"Letter '{letter}' not appering in the string '{string1}'\")\n"
   ]
  },
  {
   "cell_type": "code",
   "execution_count": 76,
   "metadata": {},
   "outputs": [
    {
     "name": "stdin",
     "output_type": "stream",
     "text": [
      "Enter the string: characters\n",
      "Enter the letter to count: a\n"
     ]
    },
    {
     "name": "stdout",
     "output_type": "stream",
     "text": [
      "Count of letter 'a' in the string 'characters' is 2\n"
     ]
    }
   ],
   "source": [
    "#13 b\n",
    "string1 = input(\"Enter the string:\")\n",
    "letter =  input(\"Enter the letter to count:\")\n",
    "count = 0\n",
    "for i in string1:\n",
    "    if i == letter: count += 1\n",
    "if count > 0 : print(f\"Count of letter '{letter}' in the string '{string1}' is {count}\")\n",
    "else: print(\"Letter '{letter}' not found in the string '{string1}'\")"
   ]
  },
  {
   "cell_type": "code",
   "execution_count": 78,
   "metadata": {},
   "outputs": [
    {
     "name": "stdin",
     "output_type": "stream",
     "text": [
      "Enter the string: characters\n",
      "Enter the letter: a\n"
     ]
    },
    {
     "name": "stdout",
     "output_type": "stream",
     "text": [
      "Index number of first occurrence of letter 'a' is 2 in string 'characters'\n"
     ]
    }
   ],
   "source": [
    "#13 c\n",
    "string1 = input(\"Enter the string:\")\n",
    "letter =  input(\"Enter the letter:\")\n",
    "for i in range(len(string1)):\n",
    "    if letter == string1[i]:\n",
    "        index_num =  i\n",
    "        break\n",
    "print(f\"Index number of first occurrence of letter '{letter}' is {index_num} in string '{string1}'\")\n"
   ]
  },
  {
   "cell_type": "markdown",
   "metadata": {},
   "source": [
    "*14. Finding a substring within a string\n",
    "For example, if we were presented a series of lines formatted as follows:\n",
    "From stephen.marquard@uct.ac.za Sat Jan 5 09:14:16 2008\n",
    "and we wanted to pull out only the second half of the address (i.e., uct.ac.za)*"
   ]
  },
  {
   "cell_type": "code",
   "execution_count": 80,
   "metadata": {},
   "outputs": [
    {
     "name": "stdin",
     "output_type": "stream",
     "text": [
      "Enter the string: From stephen.marquard@uct.ac.za Sat Jan 5 09:14:16 2008\n"
     ]
    },
    {
     "name": "stdout",
     "output_type": "stream",
     "text": [
      "Second half address is: uct.ac.za\n"
     ]
    }
   ],
   "source": [
    "string1 = input(\"Enter the string:\")\n",
    "for i in string1.split():\n",
    "    if \"@\" in i:\n",
    "        address = i.split(\"@\")[-1]\n",
    "print(f\"Second half address is: {address}\")\n"
   ]
  },
  {
   "cell_type": "markdown",
   "metadata": {},
   "source": [
    "*15. Write a Python program to add 'ing' at the end of a given string (length should be at least 3). If the\n",
    "given string already ends with 'ing' then add 'ly' instead.\n",
    "If the string length of the given string is less than 3, leave it unchanged.\n",
    "Go to the editor*\n",
    "- *Sample String : 'abc'*\n",
    "- *Expected Result : 'abcing'*\n",
    "- *Sample String : 'string'*\n",
    "- *Expected Result : 'stringly'*"
   ]
  },
  {
   "cell_type": "code",
   "execution_count": 82,
   "metadata": {},
   "outputs": [
    {
     "name": "stdin",
     "output_type": "stream",
     "text": [
      "Enter the string: string\n"
     ]
    },
    {
     "name": "stdout",
     "output_type": "stream",
     "text": [
      "stringly\n"
     ]
    }
   ],
   "source": [
    "string1 = input(\"Enter the string:\")\n",
    "if len(string1) >= 3:\n",
    "    if string1.endswith('ing'):\n",
    "        out_string = string1 + 'ly'\n",
    "    else:\n",
    "        out_string = string1 + 'ing' \n",
    "else:\n",
    "    out_string = string1\n",
    "\n",
    "print(out_string)"
   ]
  },
  {
   "cell_type": "markdown",
   "metadata": {},
   "source": [
    "*16. Take the following Python code that stores a string:‘\n",
    "string = 'X-DSPAM-Confidence: 0.8475'\n",
    "Extract the portion of the string after the colon character and then use the float function to convert\n",
    "the extracted string into a floating point number.*"
   ]
  },
  {
   "cell_type": "code",
   "execution_count": 84,
   "metadata": {},
   "outputs": [
    {
     "name": "stdout",
     "output_type": "stream",
     "text": [
      "<class 'float'> 0.8475\n"
     ]
    }
   ],
   "source": [
    "string1 = 'X-DSPAM-Confidence: 0.8475'\n",
    "value = float(string1.split(\":\")[-1].strip())\n",
    "print(type(value), value)"
   ]
  },
  {
   "cell_type": "code",
   "execution_count": null,
   "metadata": {},
   "outputs": [],
   "source": []
  }
 ],
 "metadata": {
  "kernelspec": {
   "display_name": "Python 3 (ipykernel)",
   "language": "python",
   "name": "python3"
  },
  "language_info": {
   "codemirror_mode": {
    "name": "ipython",
    "version": 3
   },
   "file_extension": ".py",
   "mimetype": "text/x-python",
   "name": "python",
   "nbconvert_exporter": "python",
   "pygments_lexer": "ipython3",
   "version": "3.11.7"
  },
  "vscode": {
   "interpreter": {
    "hash": "904ffc7da6747c078a8d3a42e21fac23d2d5e3e3f1f8391eedf26944978f6311"
   }
  }
 },
 "nbformat": 4,
 "nbformat_minor": 4
}
