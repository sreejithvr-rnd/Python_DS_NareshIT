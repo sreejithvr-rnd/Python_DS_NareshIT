{
 "cells": [
  {
   "cell_type": "code",
   "execution_count": 15,
   "id": "4c6cc9e0-b0d2-4b4f-b0a7-ec8bc4bb5795",
   "metadata": {},
   "outputs": [
    {
     "name": "stdout",
     "output_type": "stream",
     "text": [
      "HELLO: True\n",
      "hello: True\n",
      "HELLO123: True\n",
      "H#ELLO123: False\n",
      "123: True\n"
     ]
    }
   ],
   "source": [
    "string='HELLO'\n",
    "print(string+\":\", string.isalnum())\n",
    "string='hello'\n",
    "print(string+\":\", string.isalnum())\n",
    "string='HELLO123'\n",
    "print(string+\":\", string.isalnum())\n",
    "string='H#ELLO123'\n",
    "print(string+\":\", string.isalnum())\n",
    "string='123'\n",
    "print(string+\":\", string.isalnum())\n"
   ]
  },
  {
   "cell_type": "code",
   "execution_count": 17,
   "id": "a8d8a3b3-ec07-4770-8216-97f439b497a6",
   "metadata": {},
   "outputs": [
    {
     "name": "stdout",
     "output_type": "stream",
     "text": [
      "HELLO: True\n",
      "hello: True\n",
      "HELLO123: False\n",
      "H#ELLO123: False\n",
      "123: False\n"
     ]
    }
   ],
   "source": [
    "string='HELLO'\n",
    "print(string+\":\", string.isalpha())\n",
    "string='hello'\n",
    "print(string+\":\", string.isalpha())\n",
    "string='HELLO123'\n",
    "print(string+\":\", string.isalpha())\n",
    "string='H#ELLO123'\n",
    "print(string+\":\", string.isalpha())\n",
    "string='123'\n",
    "print(string+\":\", string.isalpha())"
   ]
  },
  {
   "cell_type": "code",
   "execution_count": 19,
   "id": "f71da79d-274d-4582-b4c2-4b92edf6ec74",
   "metadata": {},
   "outputs": [
    {
     "name": "stdout",
     "output_type": "stream",
     "text": [
      "HELLO: True\n",
      "hello: True\n",
      "HELLO123: True\n",
      "H#ELLO123: True\n",
      "123: True\n"
     ]
    }
   ],
   "source": [
    "string='HELLO'\n",
    "print(string+\":\", string.isascii())\n",
    "string='hello'\n",
    "print(string+\":\", string.isascii())\n",
    "string='HELLO123'\n",
    "print(string+\":\", string.isascii())\n",
    "string='H#ELLO123'\n",
    "print(string+\":\", string.isascii())\n",
    "string='123'\n",
    "print(string+\":\", string.isascii())"
   ]
  },
  {
   "cell_type": "code",
   "execution_count": 21,
   "id": "22a63222-31b1-4cdf-b7de-c88a619134e2",
   "metadata": {},
   "outputs": [
    {
     "name": "stdout",
     "output_type": "stream",
     "text": [
      "HELLO: False\n",
      "hello: False\n",
      "HELLO123: False\n",
      "H#ELLO123: False\n",
      "123: True\n"
     ]
    }
   ],
   "source": [
    "string='HELLO'\n",
    "print(string+\":\", string.isdecimal())\n",
    "string='hello'\n",
    "print(string+\":\", string.isdecimal())\n",
    "string='HELLO123'\n",
    "print(string+\":\", string.isdecimal())\n",
    "string='H#ELLO123'\n",
    "print(string+\":\", string.isdecimal())\n",
    "string='123'\n",
    "print(string+\":\", string.isdecimal())"
   ]
  },
  {
   "cell_type": "code",
   "execution_count": 23,
   "id": "9deaa5b9-5344-423e-8a84-0fbefe5ea6c8",
   "metadata": {},
   "outputs": [
    {
     "name": "stdout",
     "output_type": "stream",
     "text": [
      "HELLO: False\n",
      "hello: False\n",
      "HELLO123: False\n",
      "H#ELLO123: False\n",
      "123: True\n"
     ]
    }
   ],
   "source": [
    "string='HELLO'\n",
    "print(string+\":\", string.isdigit())\n",
    "string='hello'\n",
    "print(string+\":\", string.isdigit())\n",
    "string='HELLO123'\n",
    "print(string+\":\", string.isdigit())\n",
    "string='H#ELLO123'\n",
    "print(string+\":\", string.isdigit())\n",
    "string='123'\n",
    "print(string+\":\", string.isdigit())"
   ]
  },
  {
   "cell_type": "code",
   "execution_count": 25,
   "id": "457d7358-3a79-47f4-a715-41890a734c9d",
   "metadata": {},
   "outputs": [
    {
     "name": "stdout",
     "output_type": "stream",
     "text": [
      "HELLO: True\n",
      "hello: True\n",
      "HELLO123: True\n",
      "H#ELLO123: False\n",
      "123: False\n"
     ]
    }
   ],
   "source": [
    "string='HELLO'\n",
    "print(string+\":\", string.isidentifier())\n",
    "string='hello'\n",
    "print(string+\":\", string.isidentifier())\n",
    "string='HELLO123'\n",
    "print(string+\":\", string.isidentifier())\n",
    "string='H#ELLO123'\n",
    "print(string+\":\", string.isidentifier())\n",
    "string='123'\n",
    "print(string+\":\", string.isidentifier())"
   ]
  },
  {
   "cell_type": "code",
   "execution_count": 27,
   "id": "73e54540-217f-4dbf-8ea1-b280a7f75c91",
   "metadata": {},
   "outputs": [
    {
     "name": "stdout",
     "output_type": "stream",
     "text": [
      "HELLO: False\n",
      "hello: True\n",
      "HELLO123: False\n",
      "H#ELLO123: False\n",
      "123: False\n"
     ]
    }
   ],
   "source": [
    "string='HELLO'\n",
    "print(string+\":\", string.islower())\n",
    "string='hello'\n",
    "print(string+\":\", string.islower())\n",
    "string='HELLO123'\n",
    "print(string+\":\", string.islower())\n",
    "string='H#ELLO123'\n",
    "print(string+\":\", string.islower())\n",
    "string='123'\n",
    "print(string+\":\", string.islower())"
   ]
  },
  {
   "cell_type": "code",
   "execution_count": 29,
   "id": "dec70c00-73af-4282-9438-cdd156fd4bfe",
   "metadata": {},
   "outputs": [
    {
     "name": "stdout",
     "output_type": "stream",
     "text": [
      "HELLO: False\n",
      "hello: False\n",
      "HELLO123: False\n",
      "H#ELLO123: False\n",
      "123: True\n"
     ]
    }
   ],
   "source": [
    "string='HELLO'\n",
    "print(string+\":\", string.isnumeric())\n",
    "string='hello'\n",
    "print(string+\":\", string.isnumeric())\n",
    "string='HELLO123'\n",
    "print(string+\":\", string.isnumeric())\n",
    "string='H#ELLO123'\n",
    "print(string+\":\", string.isnumeric())\n",
    "string='123'\n",
    "print(string+\":\", string.isnumeric())"
   ]
  },
  {
   "cell_type": "code",
   "execution_count": 35,
   "id": "66fba084-241a-4ac0-a076-8b512b183bb6",
   "metadata": {},
   "outputs": [
    {
     "name": "stdout",
     "output_type": "stream",
     "text": [
      "HELLO: True\n",
      "\t HELLO \n",
      ": False\n",
      "hello: True\n",
      "HELLO123: True\n",
      "H#ELLO123: True\n",
      "123: True\n"
     ]
    }
   ],
   "source": [
    "string='HELLO'\n",
    "print(string+\":\", string.isprintable())\n",
    "string='\\t HELLO \\n'\n",
    "print(string+\":\", string.isprintable())\n",
    "string='hello'\n",
    "print(string+\":\", string.isprintable())\n",
    "string='HELLO123'\n",
    "print(string+\":\", string.isprintable())\n",
    "string='H#ELLO123'\n",
    "print(string+\":\", string.isprintable())\n",
    "string='123'\n",
    "print(string+\":\", string.isprintable())"
   ]
  },
  {
   "cell_type": "code",
   "execution_count": 43,
   "id": "440e47db-a167-4262-82ea-da6f7c9ce5b5",
   "metadata": {},
   "outputs": [
    {
     "name": "stdout",
     "output_type": "stream",
     "text": [
      "HELLO: False\n",
      "hello: False\n",
      "HELLO123: False\n",
      "H#ELLO123: False\n",
      "123: False\n",
      "Hellow Hai: False\n",
      "Hellow Hai 123: False\n",
      " : True\n"
     ]
    }
   ],
   "source": [
    "string='HELLO'\n",
    "print(string+\":\", string.isspace())\n",
    "string='hello'\n",
    "print(string+\":\", string.isspace())\n",
    "string='HELLO123'\n",
    "print(string+\":\", string.isspace())\n",
    "string='H#ELLO123'\n",
    "print(string+\":\", string.isspace())\n",
    "string='123'\n",
    "print(string+\":\", string.isspace())\n",
    "string='Hellow Hai'\n",
    "print(string+\":\", string.isspace())\n",
    "string='Hellow Hai 123'\n",
    "print(string+\":\", string.isspace())\n",
    "string=' '\n",
    "print(string+\":\", string.isspace())"
   ]
  },
  {
   "cell_type": "code",
   "execution_count": 37,
   "id": "b149022e-c971-4009-b525-6d0031d12173",
   "metadata": {},
   "outputs": [
    {
     "name": "stdout",
     "output_type": "stream",
     "text": [
      "123: False\n",
      "hello: False\n",
      "HELLO123: False\n",
      "H#ELLO123: False\n",
      "123: False\n",
      "Hellow Hai: True\n",
      "Hellow Hai 123: True\n"
     ]
    }
   ],
   "source": [
    "print(string+\":\", string.istitle())\n",
    "string='hello'\n",
    "print(string+\":\", string.istitle())\n",
    "string='HELLO123'\n",
    "print(string+\":\", string.istitle())\n",
    "string='H#ELLO123'\n",
    "print(string+\":\", string.istitle())\n",
    "string='123'\n",
    "print(string+\":\", string.istitle())\n",
    "string='Hellow Hai'\n",
    "print(string+\":\", string.istitle())\n",
    "string='Hellow Hai 123'\n",
    "print(string+\":\", string.istitle())"
   ]
  },
  {
   "cell_type": "code",
   "execution_count": 39,
   "id": "3447dba2-d7b5-4c06-89a0-bc5fbd832dfb",
   "metadata": {},
   "outputs": [
    {
     "name": "stdout",
     "output_type": "stream",
     "text": [
      "Hellow Hai 123: False\n",
      "hello: False\n",
      "HELLO123: True\n",
      "H#ELLO123: True\n",
      "123: False\n",
      "Hellow Hai: False\n",
      "Hellow Hai 123: False\n"
     ]
    }
   ],
   "source": [
    "print(string+\":\", string.isupper())\n",
    "string='hello'\n",
    "print(string+\":\", string.isupper())\n",
    "string='HELLO123'\n",
    "print(string+\":\", string.isupper())\n",
    "string='H#ELLO123'\n",
    "print(string+\":\", string.isupper())\n",
    "string='123'\n",
    "print(string+\":\", string.isupper())\n",
    "string='Hellow Hai'\n",
    "print(string+\":\", string.isupper())\n",
    "string='Hellow Hai 123'\n",
    "print(string+\":\", string.isupper())"
   ]
  },
  {
   "cell_type": "code",
   "execution_count": null,
   "id": "d56acf85-dc75-40d6-9826-3b2599b83a5f",
   "metadata": {},
   "outputs": [],
   "source": []
  }
 ],
 "metadata": {
  "kernelspec": {
   "display_name": "Python 3 (ipykernel)",
   "language": "python",
   "name": "python3"
  },
  "language_info": {
   "codemirror_mode": {
    "name": "ipython",
    "version": 3
   },
   "file_extension": ".py",
   "mimetype": "text/x-python",
   "name": "python",
   "nbconvert_exporter": "python",
   "pygments_lexer": "ipython3",
   "version": "3.11.7"
  }
 },
 "nbformat": 4,
 "nbformat_minor": 5
}
